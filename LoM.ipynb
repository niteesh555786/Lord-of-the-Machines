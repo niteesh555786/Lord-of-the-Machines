{
  "nbformat": 4,
  "nbformat_minor": 0,
  "metadata": {
    "colab": {
      "name": "LoM.ipynb",
      "version": "0.3.2",
      "views": {},
      "default_view": {},
      "provenance": [],
      "collapsed_sections": [
        "JUIT6NDENihD",
        "uupk-mOa95Y1",
        "_rVnaQGpsAq5",
        "tV5_pR8x8VXg",
        "GpK1g_3WlKMe",
        "Z9S4OPGSuQgX",
        "0OrXwNj5yHaS",
        "gC86CwwvnYQI",
        "DdgRPBk7pxfG"
      ]
    },
    "kernelspec": {
      "name": "python3",
      "display_name": "Python 3"
    },
    "accelerator": "GPU"
  },
  "cells": [
    {
      "metadata": {
        "id": "BxW2Mspnw22v",
        "colab_type": "code",
        "colab": {
          "autoexec": {
            "startup": false,
            "wait_interval": 0
          }
        }
      },
      "cell_type": "code",
      "source": [
        "import pandas as pd\n",
        "import numpy as np\n",
        "import seaborn as sns\n",
        "import matplotlib.pyplot as plt\n",
        "%matplotlib inline"
      ],
      "execution_count": 0,
      "outputs": []
    },
    {
      "metadata": {
        "id": "tcq9_4Maw6zE",
        "colab_type": "code",
        "colab": {
          "autoexec": {
            "startup": false,
            "wait_interval": 0
          },
          "output_extras": [
            {
              "item_id": 1
            }
          ],
          "resources": {
            "http://localhost:8080/nbextensions/google.colab/files.js": {
              "data": "Ly8gQ29weXJpZ2h0IDIwMTcgR29vZ2xlIExMQwovLwovLyBMaWNlbnNlZCB1bmRlciB0aGUgQXBhY2hlIExpY2Vuc2UsIFZlcnNpb24gMi4wICh0aGUgIkxpY2Vuc2UiKTsKLy8geW91IG1heSBub3QgdXNlIHRoaXMgZmlsZSBleGNlcHQgaW4gY29tcGxpYW5jZSB3aXRoIHRoZSBMaWNlbnNlLgovLyBZb3UgbWF5IG9idGFpbiBhIGNvcHkgb2YgdGhlIExpY2Vuc2UgYXQKLy8KLy8gICAgICBodHRwOi8vd3d3LmFwYWNoZS5vcmcvbGljZW5zZXMvTElDRU5TRS0yLjAKLy8KLy8gVW5sZXNzIHJlcXVpcmVkIGJ5IGFwcGxpY2FibGUgbGF3IG9yIGFncmVlZCB0byBpbiB3cml0aW5nLCBzb2Z0d2FyZQovLyBkaXN0cmlidXRlZCB1bmRlciB0aGUgTGljZW5zZSBpcyBkaXN0cmlidXRlZCBvbiBhbiAiQVMgSVMiIEJBU0lTLAovLyBXSVRIT1VUIFdBUlJBTlRJRVMgT1IgQ09ORElUSU9OUyBPRiBBTlkgS0lORCwgZWl0aGVyIGV4cHJlc3Mgb3IgaW1wbGllZC4KLy8gU2VlIHRoZSBMaWNlbnNlIGZvciB0aGUgc3BlY2lmaWMgbGFuZ3VhZ2UgZ292ZXJuaW5nIHBlcm1pc3Npb25zIGFuZAovLyBsaW1pdGF0aW9ucyB1bmRlciB0aGUgTGljZW5zZS4KCi8qKgogKiBAZmlsZW92ZXJ2aWV3IEhlbHBlcnMgZm9yIGdvb2dsZS5jb2xhYiBQeXRob24gbW9kdWxlLgogKi8KKGZ1bmN0aW9uKHNjb3BlKSB7CmZ1bmN0aW9uIHNwYW4odGV4dCwgc3R5bGVBdHRyaWJ1dGVzID0ge30pIHsKICBjb25zdCBlbGVtZW50ID0gZG9jdW1lbnQuY3JlYXRlRWxlbWVudCgnc3BhbicpOwogIGVsZW1lbnQudGV4dENvbnRlbnQgPSB0ZXh0OwogIGZvciAoY29uc3Qga2V5IG9mIE9iamVjdC5rZXlzKHN0eWxlQXR0cmlidXRlcykpIHsKICAgIGVsZW1lbnQuc3R5bGVba2V5XSA9IHN0eWxlQXR0cmlidXRlc1trZXldOwogIH0KICByZXR1cm4gZWxlbWVudDsKfQoKLy8gTWF4IG51bWJlciBvZiBieXRlcyB3aGljaCB3aWxsIGJlIHVwbG9hZGVkIGF0IGEgdGltZS4KY29uc3QgTUFYX1BBWUxPQURfU0laRSA9IDEwMCAqIDEwMjQ7Ci8vIE1heCBhbW91bnQgb2YgdGltZSB0byBibG9jayB3YWl0aW5nIGZvciB0aGUgdXNlci4KY29uc3QgRklMRV9DSEFOR0VfVElNRU9VVF9NUyA9IDMwICogMTAwMDsKCmZ1bmN0aW9uIF91cGxvYWRGaWxlcyhpbnB1dElkLCBvdXRwdXRJZCkgewogIGNvbnN0IHN0ZXBzID0gdXBsb2FkRmlsZXNTdGVwKGlucHV0SWQsIG91dHB1dElkKTsKICBjb25zdCBvdXRwdXRFbGVtZW50ID0gZG9jdW1lbnQuZ2V0RWxlbWVudEJ5SWQob3V0cHV0SWQpOwogIC8vIENhY2hlIHN0ZXBzIG9uIHRoZSBvdXRwdXRFbGVtZW50IHRvIG1ha2UgaXQgYXZhaWxhYmxlIGZvciB0aGUgbmV4dCBjYWxsCiAgLy8gdG8gdXBsb2FkRmlsZXNDb250aW51ZSBmcm9tIFB5dGhvbi4KICBvdXRwdXRFbGVtZW50LnN0ZXBzID0gc3RlcHM7CgogIHJldHVybiBfdXBsb2FkRmlsZXNDb250aW51ZShvdXRwdXRJZCk7Cn0KCi8vIFRoaXMgaXMgcm91Z2hseSBhbiBhc3luYyBnZW5lcmF0b3IgKG5vdCBzdXBwb3J0ZWQgaW4gdGhlIGJyb3dzZXIgeWV0KSwKLy8gd2hlcmUgdGhlcmUgYXJlIG11bHRpcGxlIGFzeW5jaHJvbm91cyBzdGVwcyBhbmQgdGhlIFB5dGhvbiBzaWRlIGlzIGdvaW5nCi8vIHRvIHBvbGwgZm9yIGNvbXBsZXRpb24gb2YgZWFjaCBzdGVwLgovLyBUaGlzIHVzZXMgYSBQcm9taXNlIHRvIGJsb2NrIHRoZSBweXRob24gc2lkZSBvbiBjb21wbGV0aW9uIG9mIGVhY2ggc3RlcCwKLy8gdGhlbiBwYXNzZXMgdGhlIHJlc3VsdCBvZiB0aGUgcHJldmlvdXMgc3RlcCBhcyB0aGUgaW5wdXQgdG8gdGhlIG5leHQgc3RlcC4KZnVuY3Rpb24gX3VwbG9hZEZpbGVzQ29udGludWUob3V0cHV0SWQpIHsKICBjb25zdCBvdXRwdXRFbGVtZW50ID0gZG9jdW1lbnQuZ2V0RWxlbWVudEJ5SWQob3V0cHV0SWQpOwogIGNvbnN0IHN0ZXBzID0gb3V0cHV0RWxlbWVudC5zdGVwczsKCiAgY29uc3QgbmV4dCA9IHN0ZXBzLm5leHQob3V0cHV0RWxlbWVudC5sYXN0UHJvbWlzZVZhbHVlKTsKICByZXR1cm4gUHJvbWlzZS5yZXNvbHZlKG5leHQudmFsdWUucHJvbWlzZSkudGhlbigodmFsdWUpID0+IHsKICAgIC8vIENhY2hlIHRoZSBsYXN0IHByb21pc2UgdmFsdWUgdG8gbWFrZSBpdCBhdmFpbGFibGUgdG8gdGhlIG5leHQKICAgIC8vIHN0ZXAgb2YgdGhlIGdlbmVyYXRvci4KICAgIG91dHB1dEVsZW1lbnQubGFzdFByb21pc2VWYWx1ZSA9IHZhbHVlOwogICAgcmV0dXJuIG5leHQudmFsdWUucmVzcG9uc2U7CiAgfSk7Cn0KCi8qKgogKiBHZW5lcmF0b3IgZnVuY3Rpb24gd2hpY2ggaXMgY2FsbGVkIGJldHdlZW4gZWFjaCBhc3luYyBzdGVwIG9mIHRoZSB1cGxvYWQKICogcHJvY2Vzcy4KICogQHBhcmFtIHtzdHJpbmd9IGlucHV0SWQgRWxlbWVudCBJRCBvZiB0aGUgaW5wdXQgZmlsZSBwaWNrZXIgZWxlbWVudC4KICogQHBhcmFtIHtzdHJpbmd9IG91dHB1dElkIEVsZW1lbnQgSUQgb2YgdGhlIG91dHB1dCBkaXNwbGF5LgogKiBAcmV0dXJuIHshSXRlcmFibGU8IU9iamVjdD59IEl0ZXJhYmxlIG9mIG5leHQgc3RlcHMuCiAqLwpmdW5jdGlvbiogdXBsb2FkRmlsZXNTdGVwKGlucHV0SWQsIG91dHB1dElkKSB7CiAgY29uc3QgaW5wdXRFbGVtZW50ID0gZG9jdW1lbnQuZ2V0RWxlbWVudEJ5SWQoaW5wdXRJZCk7CiAgaW5wdXRFbGVtZW50LmRpc2FibGVkID0gZmFsc2U7CgogIGNvbnN0IG91dHB1dEVsZW1lbnQgPSBkb2N1bWVudC5nZXRFbGVtZW50QnlJZChvdXRwdXRJZCk7CiAgb3V0cHV0RWxlbWVudC5pbm5lckhUTUwgPSAnJzsKCiAgY29uc3QgcGlja2VkUHJvbWlzZSA9IG5ldyBQcm9taXNlKChyZXNvbHZlKSA9PiB7CiAgICBpbnB1dEVsZW1lbnQuYWRkRXZlbnRMaXN0ZW5lcignY2hhbmdlJywgKGUpID0+IHsKICAgICAgcmVzb2x2ZShlLnRhcmdldC5maWxlcyk7CiAgICB9KTsKICB9KTsKCiAgY29uc3QgY2FuY2VsID0gZG9jdW1lbnQuY3JlYXRlRWxlbWVudCgnYnV0dG9uJyk7CiAgaW5wdXRFbGVtZW50LnBhcmVudEVsZW1lbnQuYXBwZW5kQ2hpbGQoY2FuY2VsKTsKICBjYW5jZWwudGV4dENvbnRlbnQgPSAnQ2FuY2VsIHVwbG9hZCc7CiAgY29uc3QgY2FuY2VsUHJvbWlzZSA9IG5ldyBQcm9taXNlKChyZXNvbHZlKSA9PiB7CiAgICBjYW5jZWwub25jbGljayA9ICgpID0+IHsKICAgICAgcmVzb2x2ZShudWxsKTsKICAgIH07CiAgfSk7CgogIC8vIENhbmNlbCB1cGxvYWQgaWYgdXNlciBoYXNuJ3QgcGlja2VkIGFueXRoaW5nIGluIHRpbWVvdXQuCiAgY29uc3QgdGltZW91dFByb21pc2UgPSBuZXcgUHJvbWlzZSgocmVzb2x2ZSkgPT4gewogICAgc2V0VGltZW91dCgoKSA9PiB7CiAgICAgIHJlc29sdmUobnVsbCk7CiAgICB9LCBGSUxFX0NIQU5HRV9USU1FT1VUX01TKTsKICB9KTsKCiAgLy8gV2FpdCBmb3IgdGhlIHVzZXIgdG8gcGljayB0aGUgZmlsZXMuCiAgY29uc3QgZmlsZXMgPSB5aWVsZCB7CiAgICBwcm9taXNlOiBQcm9taXNlLnJhY2UoW3BpY2tlZFByb21pc2UsIHRpbWVvdXRQcm9taXNlLCBjYW5jZWxQcm9taXNlXSksCiAgICByZXNwb25zZTogewogICAgICBhY3Rpb246ICdzdGFydGluZycsCiAgICB9CiAgfTsKCiAgaWYgKCFmaWxlcykgewogICAgcmV0dXJuIHsKICAgICAgcmVzcG9uc2U6IHsKICAgICAgICBhY3Rpb246ICdjb21wbGV0ZScsCiAgICAgIH0KICAgIH07CiAgfQoKICBjYW5jZWwucmVtb3ZlKCk7CgogIC8vIERpc2FibGUgdGhlIGlucHV0IGVsZW1lbnQgc2luY2UgZnVydGhlciBwaWNrcyBhcmUgbm90IGFsbG93ZWQuCiAgaW5wdXRFbGVtZW50LmRpc2FibGVkID0gdHJ1ZTsKCiAgZm9yIChjb25zdCBmaWxlIG9mIGZpbGVzKSB7CiAgICBjb25zdCBsaSA9IGRvY3VtZW50LmNyZWF0ZUVsZW1lbnQoJ2xpJyk7CiAgICBsaS5hcHBlbmQoc3BhbihmaWxlLm5hbWUsIHtmb250V2VpZ2h0OiAnYm9sZCd9KSk7CiAgICBsaS5hcHBlbmQoc3BhbigKICAgICAgICBgKCR7ZmlsZS50eXBlIHx8ICduL2EnfSkgLSAke2ZpbGUuc2l6ZX0gYnl0ZXMsIGAgKwogICAgICAgIGBsYXN0IG1vZGlmaWVkOiAkewogICAgICAgICAgICBmaWxlLmxhc3RNb2RpZmllZERhdGUgPyBmaWxlLmxhc3RNb2RpZmllZERhdGUudG9Mb2NhbGVEYXRlU3RyaW5nKCkgOgogICAgICAgICAgICAgICAgICAgICAgICAgICAgICAgICAgICAnbi9hJ30gLSBgKSk7CiAgICBjb25zdCBwZXJjZW50ID0gc3BhbignMCUgZG9uZScpOwogICAgbGkuYXBwZW5kQ2hpbGQocGVyY2VudCk7CgogICAgb3V0cHV0RWxlbWVudC5hcHBlbmRDaGlsZChsaSk7CgogICAgY29uc3QgZmlsZURhdGFQcm9taXNlID0gbmV3IFByb21pc2UoKHJlc29sdmUpID0+IHsKICAgICAgY29uc3QgcmVhZGVyID0gbmV3IEZpbGVSZWFkZXIoKTsKICAgICAgcmVhZGVyLm9ubG9hZCA9IChlKSA9PiB7CiAgICAgICAgcmVzb2x2ZShlLnRhcmdldC5yZXN1bHQpOwogICAgICB9OwogICAgICByZWFkZXIucmVhZEFzQXJyYXlCdWZmZXIoZmlsZSk7CiAgICB9KTsKICAgIC8vIFdhaXQgZm9yIHRoZSBkYXRhIHRvIGJlIHJlYWR5LgogICAgbGV0IGZpbGVEYXRhID0geWllbGQgewogICAgICBwcm9taXNlOiBmaWxlRGF0YVByb21pc2UsCiAgICAgIHJlc3BvbnNlOiB7CiAgICAgICAgYWN0aW9uOiAnY29udGludWUnLAogICAgICB9CiAgICB9OwoKICAgIC8vIFVzZSBhIGNodW5rZWQgc2VuZGluZyB0byBhdm9pZCBtZXNzYWdlIHNpemUgbGltaXRzLiBTZWUgYi82MjExNTY2MC4KICAgIGxldCBwb3NpdGlvbiA9IDA7CiAgICB3aGlsZSAocG9zaXRpb24gPCBmaWxlRGF0YS5ieXRlTGVuZ3RoKSB7CiAgICAgIGNvbnN0IGxlbmd0aCA9IE1hdGgubWluKGZpbGVEYXRhLmJ5dGVMZW5ndGggLSBwb3NpdGlvbiwgTUFYX1BBWUxPQURfU0laRSk7CiAgICAgIGNvbnN0IGNodW5rID0gbmV3IFVpbnQ4QXJyYXkoZmlsZURhdGEsIHBvc2l0aW9uLCBsZW5ndGgpOwogICAgICBwb3NpdGlvbiArPSBsZW5ndGg7CgogICAgICBjb25zdCBiYXNlNjQgPSBidG9hKFN0cmluZy5mcm9tQ2hhckNvZGUuYXBwbHkobnVsbCwgY2h1bmspKTsKICAgICAgeWllbGQgewogICAgICAgIHJlc3BvbnNlOiB7CiAgICAgICAgICBhY3Rpb246ICdhcHBlbmQnLAogICAgICAgICAgZmlsZTogZmlsZS5uYW1lLAogICAgICAgICAgZGF0YTogYmFzZTY0LAogICAgICAgIH0sCiAgICAgIH07CiAgICAgIHBlcmNlbnQudGV4dENvbnRlbnQgPQogICAgICAgICAgYCR7TWF0aC5yb3VuZCgocG9zaXRpb24gLyBmaWxlRGF0YS5ieXRlTGVuZ3RoKSAqIDEwMCl9JSBkb25lYDsKICAgIH0KICB9CgogIC8vIEFsbCBkb25lLgogIHlpZWxkIHsKICAgIHJlc3BvbnNlOiB7CiAgICAgIGFjdGlvbjogJ2NvbXBsZXRlJywKICAgIH0KICB9Owp9CgpzY29wZS5nb29nbGUgPSBzY29wZS5nb29nbGUgfHwge307CnNjb3BlLmdvb2dsZS5jb2xhYiA9IHNjb3BlLmdvb2dsZS5jb2xhYiB8fCB7fTsKc2NvcGUuZ29vZ2xlLmNvbGFiLl9maWxlcyA9IHsKICBfdXBsb2FkRmlsZXMsCiAgX3VwbG9hZEZpbGVzQ29udGludWUsCn07Cn0pKHNlbGYpOwo=",
              "ok": true,
              "headers": [
                [
                  "content-type",
                  "application/javascript"
                ]
              ],
              "status": 200,
              "status_text": ""
            }
          },
          "base_uri": "https://localhost:8080/",
          "height": 55
        },
        "outputId": "16170211-5d80-45b6-8233-77cbfb16d975"
      },
      "cell_type": "code",
      "source": [
        "from google.colab import files\n",
        "\n",
        "uploaded = files.upload()\n",
        "\n",
        "for fn in uploaded.keys():\n",
        "  print('User uploaded file \"{name}\" with length {length} bytes'.format(\n",
        "      name=fn, length=len(uploaded[fn])))"
      ],
      "execution_count": 0,
      "outputs": [
        {
          "output_type": "display_data",
          "data": {
            "text/html": [
              "\n",
              "     <input type=\"file\" id=\"files-73cfff9b-9aaa-4a73-b11f-2ae622c7a35a\" name=\"files[]\" multiple disabled />\n",
              "     <output id=\"result-73cfff9b-9aaa-4a73-b11f-2ae622c7a35a\">\n",
              "      Upload widget is only available when the cell has been executed in the\n",
              "      current browser session. Please rerun this cell to enable.\n",
              "      </output>\n",
              "      <script src=\"/nbextensions/google.colab/files.js\"></script> "
            ],
            "text/plain": [
              "<IPython.core.display.HTML object>"
            ]
          },
          "metadata": {
            "tags": []
          }
        }
      ]
    },
    {
      "metadata": {
        "id": "XPdDR6vjxBR9",
        "colab_type": "code",
        "colab": {
          "autoexec": {
            "startup": false,
            "wait_interval": 0
          },
          "output_extras": [
            {
              "item_id": 1
            }
          ],
          "base_uri": "https://localhost:8080/",
          "height": 34
        },
        "outputId": "8e700445-724b-41ee-8c9a-c120ac4c4afb",
        "executionInfo": {
          "status": "ok",
          "timestamp": 1522383136646,
          "user_tz": -330,
          "elapsed": 3827,
          "user": {
            "displayName": "Pujya Shri",
            "photoUrl": "//lh6.googleusercontent.com/-iciFMuB7JtY/AAAAAAAAAAI/AAAAAAAAAGU/Cps-5eWtYmQ/s50-c-k-no/photo.jpg",
            "userId": "106502613669313135092"
          }
        }
      },
      "cell_type": "code",
      "source": [
        "!ls"
      ],
      "execution_count": 5,
      "outputs": [
        {
          "output_type": "stream",
          "text": [
            "datalab  df_new.csv  test.csv\r\n"
          ],
          "name": "stdout"
        }
      ]
    },
    {
      "metadata": {
        "id": "zjkoWuoV60u6",
        "colab_type": "text"
      },
      "cell_type": "markdown",
      "source": [
        "# **Importing Dataset**"
      ]
    },
    {
      "metadata": {
        "id": "afNo4h9w0vmd",
        "colab_type": "code",
        "colab": {
          "autoexec": {
            "startup": false,
            "wait_interval": 0
          }
        }
      },
      "cell_type": "code",
      "source": [
        "df=pd.read_csv('df_new.csv')"
      ],
      "execution_count": 0,
      "outputs": []
    },
    {
      "metadata": {
        "id": "-rdz1cLH65si",
        "colab_type": "code",
        "colab": {
          "autoexec": {
            "startup": false,
            "wait_interval": 0
          },
          "output_extras": [
            {
              "item_id": 1
            }
          ],
          "base_uri": "https://localhost:8080/",
          "height": 204
        },
        "outputId": "b3e4054a-96dc-449a-f0ef-9b4b91b901b4",
        "executionInfo": {
          "status": "ok",
          "timestamp": 1522326480339,
          "user_tz": -330,
          "elapsed": 778,
          "user": {
            "displayName": "Pujya Shri",
            "photoUrl": "//lh6.googleusercontent.com/-iciFMuB7JtY/AAAAAAAAAAI/AAAAAAAAAGU/Cps-5eWtYmQ/s50-c-k-no/photo.jpg",
            "userId": "106502613669313135092"
          }
        }
      },
      "cell_type": "code",
      "source": [
        "df.head()"
      ],
      "execution_count": 9,
      "outputs": [
        {
          "output_type": "execute_result",
          "data": {
            "text/html": [
              "<div>\n",
              "<style scoped>\n",
              "    .dataframe tbody tr th:only-of-type {\n",
              "        vertical-align: middle;\n",
              "    }\n",
              "\n",
              "    .dataframe tbody tr th {\n",
              "        vertical-align: top;\n",
              "    }\n",
              "\n",
              "    .dataframe thead th {\n",
              "        text-align: right;\n",
              "    }\n",
              "</style>\n",
              "<table border=\"1\" class=\"dataframe\">\n",
              "  <thead>\n",
              "    <tr style=\"text-align: right;\">\n",
              "      <th></th>\n",
              "      <th>id</th>\n",
              "      <th>user_id</th>\n",
              "      <th>campaign_id</th>\n",
              "      <th>send_date</th>\n",
              "      <th>is_open</th>\n",
              "      <th>communication_type</th>\n",
              "      <th>total_links</th>\n",
              "      <th>no_of_internal_links</th>\n",
              "      <th>no_of_images</th>\n",
              "      <th>no_of_sections</th>\n",
              "      <th>is_click</th>\n",
              "    </tr>\n",
              "  </thead>\n",
              "  <tbody>\n",
              "    <tr>\n",
              "      <th>0</th>\n",
              "      <td>42_14051</td>\n",
              "      <td>14051</td>\n",
              "      <td>42</td>\n",
              "      <td>01-09-2017 19:55</td>\n",
              "      <td>0</td>\n",
              "      <td>Newsletter</td>\n",
              "      <td>88</td>\n",
              "      <td>79</td>\n",
              "      <td>13</td>\n",
              "      <td>4</td>\n",
              "      <td>0</td>\n",
              "    </tr>\n",
              "    <tr>\n",
              "      <th>1</th>\n",
              "      <td>52_134438</td>\n",
              "      <td>134438</td>\n",
              "      <td>52</td>\n",
              "      <td>02-11-2017 12:53</td>\n",
              "      <td>0</td>\n",
              "      <td>Newsletter</td>\n",
              "      <td>67</td>\n",
              "      <td>62</td>\n",
              "      <td>10</td>\n",
              "      <td>4</td>\n",
              "      <td>0</td>\n",
              "    </tr>\n",
              "    <tr>\n",
              "      <th>2</th>\n",
              "      <td>33_181789</td>\n",
              "      <td>181789</td>\n",
              "      <td>33</td>\n",
              "      <td>24-07-2017 15:15</td>\n",
              "      <td>0</td>\n",
              "      <td>Others</td>\n",
              "      <td>7</td>\n",
              "      <td>3</td>\n",
              "      <td>1</td>\n",
              "      <td>1</td>\n",
              "      <td>0</td>\n",
              "    </tr>\n",
              "    <tr>\n",
              "      <th>3</th>\n",
              "      <td>44_231448</td>\n",
              "      <td>231448</td>\n",
              "      <td>44</td>\n",
              "      <td>05-09-2017 11:36</td>\n",
              "      <td>0</td>\n",
              "      <td>Upcoming Events</td>\n",
              "      <td>60</td>\n",
              "      <td>56</td>\n",
              "      <td>19</td>\n",
              "      <td>6</td>\n",
              "      <td>0</td>\n",
              "    </tr>\n",
              "    <tr>\n",
              "      <th>4</th>\n",
              "      <td>29_185580</td>\n",
              "      <td>185580</td>\n",
              "      <td>29</td>\n",
              "      <td>01-07-2017 18:01</td>\n",
              "      <td>0</td>\n",
              "      <td>Newsletter</td>\n",
              "      <td>67</td>\n",
              "      <td>61</td>\n",
              "      <td>12</td>\n",
              "      <td>3</td>\n",
              "      <td>0</td>\n",
              "    </tr>\n",
              "  </tbody>\n",
              "</table>\n",
              "</div>"
            ],
            "text/plain": [
              "          id  user_id  campaign_id         send_date  is_open  \\\n",
              "0   42_14051    14051           42  01-09-2017 19:55        0   \n",
              "1  52_134438   134438           52  02-11-2017 12:53        0   \n",
              "2  33_181789   181789           33  24-07-2017 15:15        0   \n",
              "3  44_231448   231448           44  05-09-2017 11:36        0   \n",
              "4  29_185580   185580           29  01-07-2017 18:01        0   \n",
              "\n",
              "  communication_type  total_links  no_of_internal_links  no_of_images  \\\n",
              "0         Newsletter           88                    79            13   \n",
              "1         Newsletter           67                    62            10   \n",
              "2             Others            7                     3             1   \n",
              "3    Upcoming Events           60                    56            19   \n",
              "4         Newsletter           67                    61            12   \n",
              "\n",
              "   no_of_sections  is_click  \n",
              "0               4         0  \n",
              "1               4         0  \n",
              "2               1         0  \n",
              "3               6         0  \n",
              "4               3         0  "
            ]
          },
          "metadata": {
            "tags": []
          },
          "execution_count": 9
        }
      ]
    },
    {
      "metadata": {
        "id": "oSHyal7867UK",
        "colab_type": "code",
        "colab": {
          "autoexec": {
            "startup": false,
            "wait_interval": 0
          }
        }
      },
      "cell_type": "code",
      "source": [
        "df_com=pd.read_csv('campaign.csv')"
      ],
      "execution_count": 0,
      "outputs": []
    },
    {
      "metadata": {
        "id": "OlvPIxfT7M1a",
        "colab_type": "code",
        "colab": {
          "autoexec": {
            "startup": false,
            "wait_interval": 0
          },
          "output_extras": [
            {
              "item_id": 1
            }
          ],
          "base_uri": "https://localhost:8080/",
          "height": 632
        },
        "outputId": "154d046e-9946-4e0b-df18-974a54099202",
        "executionInfo": {
          "status": "ok",
          "timestamp": 1522326487024,
          "user_tz": -330,
          "elapsed": 1091,
          "user": {
            "displayName": "Pujya Shri",
            "photoUrl": "//lh6.googleusercontent.com/-iciFMuB7JtY/AAAAAAAAAAI/AAAAAAAAAGU/Cps-5eWtYmQ/s50-c-k-no/photo.jpg",
            "userId": "106502613669313135092"
          }
        }
      },
      "cell_type": "code",
      "source": [
        "df_com.head()"
      ],
      "execution_count": 11,
      "outputs": [
        {
          "output_type": "execute_result",
          "data": {
            "text/html": [
              "<div>\n",
              "<style scoped>\n",
              "    .dataframe tbody tr th:only-of-type {\n",
              "        vertical-align: middle;\n",
              "    }\n",
              "\n",
              "    .dataframe tbody tr th {\n",
              "        vertical-align: top;\n",
              "    }\n",
              "\n",
              "    .dataframe thead th {\n",
              "        text-align: right;\n",
              "    }\n",
              "</style>\n",
              "<table border=\"1\" class=\"dataframe\">\n",
              "  <thead>\n",
              "    <tr style=\"text-align: right;\">\n",
              "      <th></th>\n",
              "      <th>campaign_id</th>\n",
              "      <th>communication_type</th>\n",
              "      <th>total_links</th>\n",
              "      <th>no_of_internal_links</th>\n",
              "      <th>no_of_images</th>\n",
              "      <th>no_of_sections</th>\n",
              "      <th>email_body</th>\n",
              "      <th>subject</th>\n",
              "      <th>email_url</th>\n",
              "    </tr>\n",
              "  </thead>\n",
              "  <tbody>\n",
              "    <tr>\n",
              "      <th>0</th>\n",
              "      <td>29</td>\n",
              "      <td>Newsletter</td>\n",
              "      <td>67</td>\n",
              "      <td>61</td>\n",
              "      <td>12</td>\n",
              "      <td>3</td>\n",
              "      <td>Dear AVians,\\r\\n \\r\\nWe are shaping up a super...</td>\n",
              "      <td>Sneak Peek: A look at the emerging data scienc...</td>\n",
              "      <td>http://r.newsletters.analyticsvidhya.com/7um44...</td>\n",
              "    </tr>\n",
              "    <tr>\n",
              "      <th>1</th>\n",
              "      <td>30</td>\n",
              "      <td>Upcoming Events</td>\n",
              "      <td>18</td>\n",
              "      <td>14</td>\n",
              "      <td>7</td>\n",
              "      <td>1</td>\n",
              "      <td>Dear AVians,\\r\\n \\r\\nAre your eager to know wh...</td>\n",
              "      <td>[July] Data Science Expert Meetups &amp; Competiti...</td>\n",
              "      <td>http://r.newsletters.analyticsvidhya.com/7up0e...</td>\n",
              "    </tr>\n",
              "    <tr>\n",
              "      <th>2</th>\n",
              "      <td>31</td>\n",
              "      <td>Conference</td>\n",
              "      <td>15</td>\n",
              "      <td>13</td>\n",
              "      <td>5</td>\n",
              "      <td>1</td>\n",
              "      <td>Early Bird Pricing Till August 07  Save upto ...</td>\n",
              "      <td>Last chance to convince your boss before the E...</td>\n",
              "      <td>http://r.newsletters.analyticsvidhya.com/7usym...</td>\n",
              "    </tr>\n",
              "    <tr>\n",
              "      <th>3</th>\n",
              "      <td>32</td>\n",
              "      <td>Conference</td>\n",
              "      <td>24</td>\n",
              "      <td>19</td>\n",
              "      <td>7</td>\n",
              "      <td>1</td>\n",
              "      <td>\\r\\n \\r\\nHi ?\\r\\n \\r\\nBefore I dive into why y...</td>\n",
              "      <td>A.I. &amp; Machine Learning: 5 reasons why you sho...</td>\n",
              "      <td>http://r.newsletters.analyticsvidhya.com/7uthl...</td>\n",
              "    </tr>\n",
              "    <tr>\n",
              "      <th>4</th>\n",
              "      <td>33</td>\n",
              "      <td>Others</td>\n",
              "      <td>7</td>\n",
              "      <td>3</td>\n",
              "      <td>1</td>\n",
              "      <td>1</td>\n",
              "      <td>Fireside Chat with DJ Patil - the master is he...</td>\n",
              "      <td>[Delhi NCR] Fireside Chat with DJ Patil, Forme...</td>\n",
              "      <td>http://r.newsletters.analyticsvidhya.com/7uvlg...</td>\n",
              "    </tr>\n",
              "  </tbody>\n",
              "</table>\n",
              "</div>"
            ],
            "text/plain": [
              "   campaign_id communication_type  total_links  no_of_internal_links  \\\n",
              "0           29         Newsletter           67                    61   \n",
              "1           30    Upcoming Events           18                    14   \n",
              "2           31         Conference           15                    13   \n",
              "3           32         Conference           24                    19   \n",
              "4           33             Others            7                     3   \n",
              "\n",
              "   no_of_images  no_of_sections  \\\n",
              "0            12               3   \n",
              "1             7               1   \n",
              "2             5               1   \n",
              "3             7               1   \n",
              "4             1               1   \n",
              "\n",
              "                                          email_body  \\\n",
              "0  Dear AVians,\\r\\n \\r\\nWe are shaping up a super...   \n",
              "1  Dear AVians,\\r\\n \\r\\nAre your eager to know wh...   \n",
              "2  Early Bird Pricing Till August 07  Save upto ...   \n",
              "3  \\r\\n \\r\\nHi ?\\r\\n \\r\\nBefore I dive into why y...   \n",
              "4  Fireside Chat with DJ Patil - the master is he...   \n",
              "\n",
              "                                             subject  \\\n",
              "0  Sneak Peek: A look at the emerging data scienc...   \n",
              "1  [July] Data Science Expert Meetups & Competiti...   \n",
              "2  Last chance to convince your boss before the E...   \n",
              "3  A.I. & Machine Learning: 5 reasons why you sho...   \n",
              "4  [Delhi NCR] Fireside Chat with DJ Patil, Forme...   \n",
              "\n",
              "                                           email_url  \n",
              "0  http://r.newsletters.analyticsvidhya.com/7um44...  \n",
              "1  http://r.newsletters.analyticsvidhya.com/7up0e...  \n",
              "2  http://r.newsletters.analyticsvidhya.com/7usym...  \n",
              "3  http://r.newsletters.analyticsvidhya.com/7uthl...  \n",
              "4  http://r.newsletters.analyticsvidhya.com/7uvlg...  "
            ]
          },
          "metadata": {
            "tags": []
          },
          "execution_count": 11
        }
      ]
    },
    {
      "metadata": {
        "id": "qdnHvXgHTfBt",
        "colab_type": "code",
        "colab": {
          "autoexec": {
            "startup": false,
            "wait_interval": 0
          }
        }
      },
      "cell_type": "code",
      "source": [
        "subject=[]"
      ],
      "execution_count": 0,
      "outputs": []
    },
    {
      "metadata": {
        "id": "FgBwVxYKTwgQ",
        "colab_type": "code",
        "colab": {
          "autoexec": {
            "startup": false,
            "wait_interval": 0
          }
        }
      },
      "cell_type": "code",
      "source": [
        "for i in range(len(df)):\n",
        "  for j in range(len(df_com)):\n",
        "    if(df['campaign_id'][i]==df_com['campaign_id'][j]):\n",
        "      subject.append(df_com['subject'][j])"
      ],
      "execution_count": 0,
      "outputs": []
    },
    {
      "metadata": {
        "id": "J9-GYtRAceoi",
        "colab_type": "code",
        "colab": {
          "autoexec": {
            "startup": false,
            "wait_interval": 0
          },
          "output_extras": [
            {
              "item_id": 1
            }
          ],
          "base_uri": "https://localhost:8080/",
          "height": 34
        },
        "outputId": "21ddfd18-d4c5-427c-95e2-7b3aac26a553",
        "executionInfo": {
          "status": "ok",
          "timestamp": 1522328409861,
          "user_tz": -330,
          "elapsed": 1447,
          "user": {
            "displayName": "Pujya Shri",
            "photoUrl": "//lh6.googleusercontent.com/-iciFMuB7JtY/AAAAAAAAAAI/AAAAAAAAAGU/Cps-5eWtYmQ/s50-c-k-no/photo.jpg",
            "userId": "106502613669313135092"
          }
        }
      },
      "cell_type": "code",
      "source": [
        "len(subject)"
      ],
      "execution_count": 15,
      "outputs": [
        {
          "output_type": "execute_result",
          "data": {
            "text/plain": [
              "1023191"
            ]
          },
          "metadata": {
            "tags": []
          },
          "execution_count": 15
        }
      ]
    },
    {
      "metadata": {
        "id": "iEpf5wOwcivo",
        "colab_type": "code",
        "colab": {
          "autoexec": {
            "startup": false,
            "wait_interval": 0
          },
          "output_extras": [
            {
              "item_id": 1
            }
          ],
          "base_uri": "https://localhost:8080/",
          "height": 34
        },
        "outputId": "c6454d3d-6686-4a03-ee60-6c504b4d53c2",
        "executionInfo": {
          "status": "ok",
          "timestamp": 1522328418563,
          "user_tz": -330,
          "elapsed": 6015,
          "user": {
            "displayName": "Pujya Shri",
            "photoUrl": "//lh6.googleusercontent.com/-iciFMuB7JtY/AAAAAAAAAAI/AAAAAAAAAGU/Cps-5eWtYmQ/s50-c-k-no/photo.jpg",
            "userId": "106502613669313135092"
          }
        }
      },
      "cell_type": "code",
      "source": [
        "len(df)"
      ],
      "execution_count": 16,
      "outputs": [
        {
          "output_type": "execute_result",
          "data": {
            "text/plain": [
              "1023191"
            ]
          },
          "metadata": {
            "tags": []
          },
          "execution_count": 16
        }
      ]
    },
    {
      "metadata": {
        "id": "hiCNXa-G2nnc",
        "colab_type": "code",
        "colab": {
          "autoexec": {
            "startup": false,
            "wait_interval": 0
          }
        }
      },
      "cell_type": "code",
      "source": [
        "df['subject']=subject"
      ],
      "execution_count": 0,
      "outputs": []
    },
    {
      "metadata": {
        "id": "n5_3n1VRc2Mb",
        "colab_type": "code",
        "colab": {
          "autoexec": {
            "startup": false,
            "wait_interval": 0
          }
        }
      },
      "cell_type": "code",
      "source": [
        "df.to_csv('df_new1.csv',index=False)"
      ],
      "execution_count": 0,
      "outputs": []
    },
    {
      "metadata": {
        "id": "S_WgQxHE2Fhf",
        "colab_type": "code",
        "colab": {
          "autoexec": {
            "startup": false,
            "wait_interval": 0
          }
        }
      },
      "cell_type": "code",
      "source": [
        "files.download('df_new1.csv')"
      ],
      "execution_count": 0,
      "outputs": []
    },
    {
      "metadata": {
        "id": "YxA5ia3d7Pf6",
        "colab_type": "code",
        "colab": {
          "autoexec": {
            "startup": false,
            "wait_interval": 0
          },
          "output_extras": [
            {}
          ],
          "base_uri": "https://localhost:8080/",
          "height": 34
        },
        "outputId": "98417df1-7a07-4d0c-eea8-b3e3e5e9f56b",
        "executionInfo": {
          "status": "ok",
          "timestamp": 1522054568274,
          "user_tz": -330,
          "elapsed": 1451,
          "user": {
            "displayName": "Nitesh Tiwari",
            "photoUrl": "//lh3.googleusercontent.com/-9Nv5B-a3Ey0/AAAAAAAAAAI/AAAAAAAAAfk/2lqa15W2g-k/s50-c-k-no/photo.jpg",
            "userId": "103011910892907793236"
          }
        }
      },
      "cell_type": "code",
      "source": [
        "len(df_com)"
      ],
      "execution_count": 0,
      "outputs": [
        {
          "output_type": "execute_result",
          "data": {
            "text/plain": [
              "52"
            ]
          },
          "metadata": {
            "tags": []
          },
          "execution_count": 11
        }
      ]
    },
    {
      "metadata": {
        "id": "DKqMl_qc76bR",
        "colab_type": "code",
        "colab": {
          "autoexec": {
            "startup": false,
            "wait_interval": 0
          },
          "output_extras": [
            {}
          ],
          "base_uri": "https://localhost:8080/",
          "height": 34
        },
        "outputId": "3052d652-7f0d-4e14-8aad-3a955c423d5b",
        "executionInfo": {
          "status": "ok",
          "timestamp": 1522054570403,
          "user_tz": -330,
          "elapsed": 773,
          "user": {
            "displayName": "Nitesh Tiwari",
            "photoUrl": "//lh3.googleusercontent.com/-9Nv5B-a3Ey0/AAAAAAAAAAI/AAAAAAAAAfk/2lqa15W2g-k/s50-c-k-no/photo.jpg",
            "userId": "103011910892907793236"
          }
        }
      },
      "cell_type": "code",
      "source": [
        "len(df)"
      ],
      "execution_count": 0,
      "outputs": [
        {
          "output_type": "execute_result",
          "data": {
            "text/plain": [
              "1023191"
            ]
          },
          "metadata": {
            "tags": []
          },
          "execution_count": 12
        }
      ]
    },
    {
      "metadata": {
        "id": "2vJYXd4AfEek",
        "colab_type": "text"
      },
      "cell_type": "markdown",
      "source": [
        "# **Trying to generate is_Open**"
      ]
    },
    {
      "metadata": {
        "id": "_10wlRbLfLHS",
        "colab_type": "code",
        "colab": {
          "autoexec": {
            "startup": false,
            "wait_interval": 0
          },
          "output_extras": [
            {
              "item_id": 1
            }
          ],
          "base_uri": "https://localhost:8080/",
          "height": 581
        },
        "outputId": "3b1df676-1b1d-470d-f086-6a98d1dbf3fd",
        "executionInfo": {
          "status": "ok",
          "timestamp": 1522328668115,
          "user_tz": -330,
          "elapsed": 1078,
          "user": {
            "displayName": "Pujya Shri",
            "photoUrl": "//lh6.googleusercontent.com/-iciFMuB7JtY/AAAAAAAAAAI/AAAAAAAAAGU/Cps-5eWtYmQ/s50-c-k-no/photo.jpg",
            "userId": "106502613669313135092"
          }
        }
      },
      "cell_type": "code",
      "source": [
        "df.head()"
      ],
      "execution_count": 22,
      "outputs": [
        {
          "output_type": "execute_result",
          "data": {
            "text/html": [
              "<div>\n",
              "<style scoped>\n",
              "    .dataframe tbody tr th:only-of-type {\n",
              "        vertical-align: middle;\n",
              "    }\n",
              "\n",
              "    .dataframe tbody tr th {\n",
              "        vertical-align: top;\n",
              "    }\n",
              "\n",
              "    .dataframe thead th {\n",
              "        text-align: right;\n",
              "    }\n",
              "</style>\n",
              "<table border=\"1\" class=\"dataframe\">\n",
              "  <thead>\n",
              "    <tr style=\"text-align: right;\">\n",
              "      <th></th>\n",
              "      <th>id</th>\n",
              "      <th>user_id</th>\n",
              "      <th>campaign_id</th>\n",
              "      <th>send_date</th>\n",
              "      <th>is_open</th>\n",
              "      <th>communication_type</th>\n",
              "      <th>total_links</th>\n",
              "      <th>no_of_internal_links</th>\n",
              "      <th>no_of_images</th>\n",
              "      <th>no_of_sections</th>\n",
              "      <th>is_click</th>\n",
              "      <th>subject</th>\n",
              "    </tr>\n",
              "  </thead>\n",
              "  <tbody>\n",
              "    <tr>\n",
              "      <th>0</th>\n",
              "      <td>42_14051</td>\n",
              "      <td>14051</td>\n",
              "      <td>42</td>\n",
              "      <td>01-09-2017 19:55</td>\n",
              "      <td>0</td>\n",
              "      <td>Newsletter</td>\n",
              "      <td>88</td>\n",
              "      <td>79</td>\n",
              "      <td>13</td>\n",
              "      <td>4</td>\n",
              "      <td>0</td>\n",
              "      <td>[September] Exciting days ahead with DataHack ...</td>\n",
              "    </tr>\n",
              "    <tr>\n",
              "      <th>1</th>\n",
              "      <td>52_134438</td>\n",
              "      <td>134438</td>\n",
              "      <td>52</td>\n",
              "      <td>02-11-2017 12:53</td>\n",
              "      <td>0</td>\n",
              "      <td>Newsletter</td>\n",
              "      <td>67</td>\n",
              "      <td>62</td>\n",
              "      <td>10</td>\n",
              "      <td>4</td>\n",
              "      <td>0</td>\n",
              "      <td>[Newsletter] Stage for DataHack Summit 2017 is...</td>\n",
              "    </tr>\n",
              "    <tr>\n",
              "      <th>2</th>\n",
              "      <td>33_181789</td>\n",
              "      <td>181789</td>\n",
              "      <td>33</td>\n",
              "      <td>24-07-2017 15:15</td>\n",
              "      <td>0</td>\n",
              "      <td>Others</td>\n",
              "      <td>7</td>\n",
              "      <td>3</td>\n",
              "      <td>1</td>\n",
              "      <td>1</td>\n",
              "      <td>0</td>\n",
              "      <td>[Delhi NCR] Fireside Chat with DJ Patil, Forme...</td>\n",
              "    </tr>\n",
              "    <tr>\n",
              "      <th>3</th>\n",
              "      <td>44_231448</td>\n",
              "      <td>231448</td>\n",
              "      <td>44</td>\n",
              "      <td>05-09-2017 11:36</td>\n",
              "      <td>0</td>\n",
              "      <td>Upcoming Events</td>\n",
              "      <td>60</td>\n",
              "      <td>56</td>\n",
              "      <td>19</td>\n",
              "      <td>6</td>\n",
              "      <td>0</td>\n",
              "      <td>[September] Data Science Hackathons, Meetups a...</td>\n",
              "    </tr>\n",
              "    <tr>\n",
              "      <th>4</th>\n",
              "      <td>29_185580</td>\n",
              "      <td>185580</td>\n",
              "      <td>29</td>\n",
              "      <td>01-07-2017 18:01</td>\n",
              "      <td>0</td>\n",
              "      <td>Newsletter</td>\n",
              "      <td>67</td>\n",
              "      <td>61</td>\n",
              "      <td>12</td>\n",
              "      <td>3</td>\n",
              "      <td>0</td>\n",
              "      <td>Sneak Peek: A look at the emerging data scienc...</td>\n",
              "    </tr>\n",
              "  </tbody>\n",
              "</table>\n",
              "</div>"
            ],
            "text/plain": [
              "          id  user_id  campaign_id         send_date  is_open  \\\n",
              "0   42_14051    14051           42  01-09-2017 19:55        0   \n",
              "1  52_134438   134438           52  02-11-2017 12:53        0   \n",
              "2  33_181789   181789           33  24-07-2017 15:15        0   \n",
              "3  44_231448   231448           44  05-09-2017 11:36        0   \n",
              "4  29_185580   185580           29  01-07-2017 18:01        0   \n",
              "\n",
              "  communication_type  total_links  no_of_internal_links  no_of_images  \\\n",
              "0         Newsletter           88                    79            13   \n",
              "1         Newsletter           67                    62            10   \n",
              "2             Others            7                     3             1   \n",
              "3    Upcoming Events           60                    56            19   \n",
              "4         Newsletter           67                    61            12   \n",
              "\n",
              "   no_of_sections  is_click                                            subject  \n",
              "0               4         0  [September] Exciting days ahead with DataHack ...  \n",
              "1               4         0  [Newsletter] Stage for DataHack Summit 2017 is...  \n",
              "2               1         0  [Delhi NCR] Fireside Chat with DJ Patil, Forme...  \n",
              "3               6         0  [September] Data Science Hackathons, Meetups a...  \n",
              "4               3         0  Sneak Peek: A look at the emerging data scienc...  "
            ]
          },
          "metadata": {
            "tags": []
          },
          "execution_count": 22
        }
      ]
    },
    {
      "metadata": {
        "id": "hkbj9j3pfLD-",
        "colab_type": "code",
        "colab": {
          "autoexec": {
            "startup": false,
            "wait_interval": 0
          }
        }
      },
      "cell_type": "code",
      "source": [
        "open_df=df[['subject','is_open']]"
      ],
      "execution_count": 0,
      "outputs": []
    },
    {
      "metadata": {
        "id": "g1aL5HrdfLAx",
        "colab_type": "code",
        "colab": {
          "autoexec": {
            "startup": false,
            "wait_interval": 0
          },
          "output_extras": [
            {
              "item_id": 1
            }
          ],
          "base_uri": "https://localhost:8080/",
          "height": 204
        },
        "outputId": "5b24d626-7637-4380-fcc4-85b84edaed2c",
        "executionInfo": {
          "status": "ok",
          "timestamp": 1522329763861,
          "user_tz": -330,
          "elapsed": 785,
          "user": {
            "displayName": "Pujya Shri",
            "photoUrl": "//lh6.googleusercontent.com/-iciFMuB7JtY/AAAAAAAAAAI/AAAAAAAAAGU/Cps-5eWtYmQ/s50-c-k-no/photo.jpg",
            "userId": "106502613669313135092"
          }
        }
      },
      "cell_type": "code",
      "source": [
        "open_df.head()"
      ],
      "execution_count": 97,
      "outputs": [
        {
          "output_type": "execute_result",
          "data": {
            "text/html": [
              "<div>\n",
              "<style scoped>\n",
              "    .dataframe tbody tr th:only-of-type {\n",
              "        vertical-align: middle;\n",
              "    }\n",
              "\n",
              "    .dataframe tbody tr th {\n",
              "        vertical-align: top;\n",
              "    }\n",
              "\n",
              "    .dataframe thead th {\n",
              "        text-align: right;\n",
              "    }\n",
              "</style>\n",
              "<table border=\"1\" class=\"dataframe\">\n",
              "  <thead>\n",
              "    <tr style=\"text-align: right;\">\n",
              "      <th></th>\n",
              "      <th>subject</th>\n",
              "      <th>is_open</th>\n",
              "    </tr>\n",
              "  </thead>\n",
              "  <tbody>\n",
              "    <tr>\n",
              "      <th>0</th>\n",
              "      <td>[September] Exciting days ahead with DataHack ...</td>\n",
              "      <td>0</td>\n",
              "    </tr>\n",
              "    <tr>\n",
              "      <th>1</th>\n",
              "      <td>[Newsletter] Stage for DataHack Summit 2017 is...</td>\n",
              "      <td>0</td>\n",
              "    </tr>\n",
              "    <tr>\n",
              "      <th>2</th>\n",
              "      <td>[Delhi NCR] Fireside Chat with DJ Patil, Forme...</td>\n",
              "      <td>0</td>\n",
              "    </tr>\n",
              "    <tr>\n",
              "      <th>3</th>\n",
              "      <td>[September] Data Science Hackathons, Meetups a...</td>\n",
              "      <td>0</td>\n",
              "    </tr>\n",
              "    <tr>\n",
              "      <th>4</th>\n",
              "      <td>Sneak Peek: A look at the emerging data scienc...</td>\n",
              "      <td>0</td>\n",
              "    </tr>\n",
              "  </tbody>\n",
              "</table>\n",
              "</div>"
            ],
            "text/plain": [
              "                                             subject  is_open\n",
              "0  [September] Exciting days ahead with DataHack ...        0\n",
              "1  [Newsletter] Stage for DataHack Summit 2017 is...        0\n",
              "2  [Delhi NCR] Fireside Chat with DJ Patil, Forme...        0\n",
              "3  [September] Data Science Hackathons, Meetups a...        0\n",
              "4  Sneak Peek: A look at the emerging data scienc...        0"
            ]
          },
          "metadata": {
            "tags": []
          },
          "execution_count": 97
        }
      ]
    },
    {
      "metadata": {
        "id": "_4Kp3qiggfp6",
        "colab_type": "code",
        "colab": {
          "autoexec": {
            "startup": false,
            "wait_interval": 0
          },
          "output_extras": [
            {
              "item_id": 1
            }
          ],
          "base_uri": "https://localhost:8080/",
          "height": 68
        },
        "outputId": "cb9b0fc6-da1d-47f0-b411-27e9a20229f2",
        "executionInfo": {
          "status": "ok",
          "timestamp": 1522329765237,
          "user_tz": -330,
          "elapsed": 766,
          "user": {
            "displayName": "Pujya Shri",
            "photoUrl": "//lh6.googleusercontent.com/-iciFMuB7JtY/AAAAAAAAAAI/AAAAAAAAAGU/Cps-5eWtYmQ/s50-c-k-no/photo.jpg",
            "userId": "106502613669313135092"
          }
        }
      },
      "cell_type": "code",
      "source": [
        "open_df['is_open'].value_counts()"
      ],
      "execution_count": 98,
      "outputs": [
        {
          "output_type": "execute_result",
          "data": {
            "text/plain": [
              "0    920401\n",
              "1    102790\n",
              "Name: is_open, dtype: int64"
            ]
          },
          "metadata": {
            "tags": []
          },
          "execution_count": 98
        }
      ]
    },
    {
      "metadata": {
        "id": "YSMAx0uggfm-",
        "colab_type": "code",
        "colab": {
          "autoexec": {
            "startup": false,
            "wait_interval": 0
          },
          "output_extras": [
            {
              "item_id": 1
            }
          ],
          "base_uri": "https://localhost:8080/",
          "height": 68
        },
        "outputId": "f0da1b6b-4da4-4eb5-88f3-650a5c8769df",
        "executionInfo": {
          "status": "ok",
          "timestamp": 1522329767340,
          "user_tz": -330,
          "elapsed": 774,
          "user": {
            "displayName": "Pujya Shri",
            "photoUrl": "//lh6.googleusercontent.com/-iciFMuB7JtY/AAAAAAAAAAI/AAAAAAAAAGU/Cps-5eWtYmQ/s50-c-k-no/photo.jpg",
            "userId": "106502613669313135092"
          }
        }
      },
      "cell_type": "code",
      "source": [
        "\tfrom sklearn.utils import resample\n",
        "\n",
        "# Separate majority and minority classes\n",
        "df_majority = open_df[open_df.is_open==0]\n",
        "df_minority = open_df[open_df.is_open==1]\n",
        " \n",
        "# Downsample majority class\n",
        "df_majority_downsampled = resample(df_majority, \n",
        "                                 replace=False,    # sample without replacement\n",
        "                                 n_samples=12782,     # 12782 to match minority class\n",
        "                                 random_state=123) # reproducible results\n",
        "# Downsample majority class\n",
        "df_minority_downsampled = resample(df_minority, \n",
        "                                 replace=False,    # sample without replacement\n",
        "                                 n_samples=12782,     # to match minority class\n",
        "                                 random_state=123) # reproducible results\n",
        " \n",
        "# Combine minority class with downsampled majority class\n",
        "open_dfd = pd.concat([df_majority_downsampled, df_minority_downsampled])\n",
        " \n",
        "# Display new class counts\n",
        "open_dfd.is_open.value_counts()"
      ],
      "execution_count": 99,
      "outputs": [
        {
          "output_type": "execute_result",
          "data": {
            "text/plain": [
              "1    12782\n",
              "0    12782\n",
              "Name: is_open, dtype: int64"
            ]
          },
          "metadata": {
            "tags": []
          },
          "execution_count": 99
        }
      ]
    },
    {
      "metadata": {
        "id": "H3z0gX-_gfkE",
        "colab_type": "code",
        "colab": {
          "autoexec": {
            "startup": false,
            "wait_interval": 0
          }
        }
      },
      "cell_type": "code",
      "source": [
        "open_dfd=open_dfd.reset_index(drop=True)"
      ],
      "execution_count": 0,
      "outputs": []
    },
    {
      "metadata": {
        "id": "5GhNfmd5nATS",
        "colab_type": "code",
        "colab": {
          "autoexec": {
            "startup": false,
            "wait_interval": 0
          },
          "output_extras": [
            {
              "item_id": 1
            }
          ],
          "base_uri": "https://localhost:8080/",
          "height": 204
        },
        "outputId": "189080c6-1a35-43fa-9484-5e15983e20cc",
        "executionInfo": {
          "status": "ok",
          "timestamp": 1522329773441,
          "user_tz": -330,
          "elapsed": 904,
          "user": {
            "displayName": "Pujya Shri",
            "photoUrl": "//lh6.googleusercontent.com/-iciFMuB7JtY/AAAAAAAAAAI/AAAAAAAAAGU/Cps-5eWtYmQ/s50-c-k-no/photo.jpg",
            "userId": "106502613669313135092"
          }
        }
      },
      "cell_type": "code",
      "source": [
        "open_dfd.head()"
      ],
      "execution_count": 101,
      "outputs": [
        {
          "output_type": "execute_result",
          "data": {
            "text/html": [
              "<div>\n",
              "<style scoped>\n",
              "    .dataframe tbody tr th:only-of-type {\n",
              "        vertical-align: middle;\n",
              "    }\n",
              "\n",
              "    .dataframe tbody tr th {\n",
              "        vertical-align: top;\n",
              "    }\n",
              "\n",
              "    .dataframe thead th {\n",
              "        text-align: right;\n",
              "    }\n",
              "</style>\n",
              "<table border=\"1\" class=\"dataframe\">\n",
              "  <thead>\n",
              "    <tr style=\"text-align: right;\">\n",
              "      <th></th>\n",
              "      <th>subject</th>\n",
              "      <th>is_open</th>\n",
              "    </tr>\n",
              "  </thead>\n",
              "  <tbody>\n",
              "    <tr>\n",
              "      <th>0</th>\n",
              "      <td>[November Updates] - Announcing DataFest 2018,...</td>\n",
              "      <td>0</td>\n",
              "    </tr>\n",
              "    <tr>\n",
              "      <th>1</th>\n",
              "      <td>A.I. &amp; Machine Learning: 5 reasons why you sho...</td>\n",
              "      <td>0</td>\n",
              "    </tr>\n",
              "    <tr>\n",
              "      <th>2</th>\n",
              "      <td>[October 2017] - Just a month to go! DataHack ...</td>\n",
              "      <td>0</td>\n",
              "    </tr>\n",
              "    <tr>\n",
              "      <th>3</th>\n",
              "      <td>[Register Now] Just 2 days to go for India's b...</td>\n",
              "      <td>0</td>\n",
              "    </tr>\n",
              "    <tr>\n",
              "      <th>4</th>\n",
              "      <td>A.I. &amp; Machine Learning: 5 reasons why you sho...</td>\n",
              "      <td>0</td>\n",
              "    </tr>\n",
              "  </tbody>\n",
              "</table>\n",
              "</div>"
            ],
            "text/plain": [
              "                                             subject  is_open\n",
              "0  [November Updates] - Announcing DataFest 2018,...        0\n",
              "1  A.I. & Machine Learning: 5 reasons why you sho...        0\n",
              "2  [October 2017] - Just a month to go! DataHack ...        0\n",
              "3  [Register Now] Just 2 days to go for India's b...        0\n",
              "4  A.I. & Machine Learning: 5 reasons why you sho...        0"
            ]
          },
          "metadata": {
            "tags": []
          },
          "execution_count": 101
        }
      ]
    },
    {
      "metadata": {
        "id": "xdm-Tczol_NM",
        "colab_type": "code",
        "colab": {
          "autoexec": {
            "startup": false,
            "wait_interval": 0
          },
          "output_extras": [
            {
              "item_id": 1
            }
          ],
          "base_uri": "https://localhost:8080/",
          "height": 34
        },
        "outputId": "4934b770-d59d-45a3-88bc-59e89e80be54",
        "executionInfo": {
          "status": "ok",
          "timestamp": 1522329775110,
          "user_tz": -330,
          "elapsed": 806,
          "user": {
            "displayName": "Pujya Shri",
            "photoUrl": "//lh6.googleusercontent.com/-iciFMuB7JtY/AAAAAAAAAAI/AAAAAAAAAGU/Cps-5eWtYmQ/s50-c-k-no/photo.jpg",
            "userId": "106502613669313135092"
          }
        }
      },
      "cell_type": "code",
      "source": [
        "open_dfd['subject'][0]"
      ],
      "execution_count": 102,
      "outputs": [
        {
          "output_type": "execute_result",
          "data": {
            "text/plain": [
              "'[November Updates] - Announcing DataFest 2018, Mumbai'"
            ]
          },
          "metadata": {
            "tags": []
          },
          "execution_count": 102
        }
      ]
    },
    {
      "metadata": {
        "id": "WUY3EDAHgfhP",
        "colab_type": "code",
        "colab": {
          "autoexec": {
            "startup": false,
            "wait_interval": 0
          }
        }
      },
      "cell_type": "code",
      "source": [
        "import re\n",
        "import nltk\n",
        "from nltk.corpus import stopwords\n",
        "from nltk.stem.porter import PorterStemmer"
      ],
      "execution_count": 0,
      "outputs": []
    },
    {
      "metadata": {
        "id": "nA9XIpRJsAXU",
        "colab_type": "code",
        "colab": {
          "autoexec": {
            "startup": false,
            "wait_interval": 0
          }
        }
      },
      "cell_type": "code",
      "source": [
        "ps=PorterStemmer()"
      ],
      "execution_count": 0,
      "outputs": []
    },
    {
      "metadata": {
        "id": "wgtkfUH6lAJR",
        "colab_type": "code",
        "colab": {
          "autoexec": {
            "startup": false,
            "wait_interval": 0
          },
          "output_extras": [
            {
              "item_id": 1
            },
            {
              "item_id": 2
            }
          ],
          "base_uri": "https://localhost:8080/",
          "height": 68
        },
        "outputId": "a0f880b0-4f15-4af1-a890-7377278b0a88",
        "executionInfo": {
          "status": "ok",
          "timestamp": 1522329106441,
          "user_tz": -330,
          "elapsed": 1366,
          "user": {
            "displayName": "Pujya Shri",
            "photoUrl": "//lh6.googleusercontent.com/-iciFMuB7JtY/AAAAAAAAAAI/AAAAAAAAAGU/Cps-5eWtYmQ/s50-c-k-no/photo.jpg",
            "userId": "106502613669313135092"
          }
        }
      },
      "cell_type": "code",
      "source": [
        "nltk.download('stopwords')"
      ],
      "execution_count": 55,
      "outputs": [
        {
          "output_type": "stream",
          "text": [
            "[nltk_data] Downloading package stopwords to /content/nltk_data...\n",
            "[nltk_data]   Package stopwords is already up-to-date!\n"
          ],
          "name": "stdout"
        },
        {
          "output_type": "execute_result",
          "data": {
            "text/plain": [
              "True"
            ]
          },
          "metadata": {
            "tags": []
          },
          "execution_count": 55
        }
      ]
    },
    {
      "metadata": {
        "id": "V9EC0jrbrf0E",
        "colab_type": "code",
        "colab": {
          "autoexec": {
            "startup": false,
            "wait_interval": 0
          }
        }
      },
      "cell_type": "code",
      "source": [
        "corpus=[]\n",
        "for i in range(len(open_dfd)):\n",
        "  osub=re.sub('[^a-zA-Z]',' ',open_dfd['subject'][i])\n",
        "  osub=osub.lower()\n",
        "  osub=osub.split()\n",
        "  osub=[ps.stem(word) for word in osub if not word in set(stopwords.words('english'))]\n",
        "  osub=' '.join(osub)\n",
        "  corpus.append(osub)"
      ],
      "execution_count": 0,
      "outputs": []
    },
    {
      "metadata": {
        "id": "5AGwxT32u1e4",
        "colab_type": "code",
        "colab": {
          "autoexec": {
            "startup": false,
            "wait_interval": 0
          },
          "output_extras": [
            {
              "item_id": 1
            }
          ],
          "base_uri": "https://localhost:8080/",
          "height": 34
        },
        "outputId": "bfc26dea-06ef-42fa-c644-30674dbb5371",
        "executionInfo": {
          "status": "ok",
          "timestamp": 1522329830983,
          "user_tz": -330,
          "elapsed": 866,
          "user": {
            "displayName": "Pujya Shri",
            "photoUrl": "//lh6.googleusercontent.com/-iciFMuB7JtY/AAAAAAAAAAI/AAAAAAAAAGU/Cps-5eWtYmQ/s50-c-k-no/photo.jpg",
            "userId": "106502613669313135092"
          }
        }
      },
      "cell_type": "code",
      "source": [
        "len(corpus)"
      ],
      "execution_count": 106,
      "outputs": [
        {
          "output_type": "execute_result",
          "data": {
            "text/plain": [
              "25564"
            ]
          },
          "metadata": {
            "tags": []
          },
          "execution_count": 106
        }
      ]
    },
    {
      "metadata": {
        "id": "2l8KQR9xs8tO",
        "colab_type": "text"
      },
      "cell_type": "markdown",
      "source": [
        "*Creating Bags of words model*"
      ]
    },
    {
      "metadata": {
        "id": "-na3I6Vdn06f",
        "colab_type": "code",
        "colab": {
          "autoexec": {
            "startup": false,
            "wait_interval": 0
          }
        }
      },
      "cell_type": "code",
      "source": [
        "from sklearn.feature_extraction.text import CountVectorizer\n",
        "cv=CountVectorizer()"
      ],
      "execution_count": 0,
      "outputs": []
    },
    {
      "metadata": {
        "id": "6uaFifG5ttgU",
        "colab_type": "code",
        "colab": {
          "autoexec": {
            "startup": false,
            "wait_interval": 0
          }
        }
      },
      "cell_type": "code",
      "source": [
        "X=cv.fit_transform(corpus).toarray()\n"
      ],
      "execution_count": 0,
      "outputs": []
    },
    {
      "metadata": {
        "id": "A8ULPb3sttdf",
        "colab_type": "code",
        "colab": {
          "autoexec": {
            "startup": false,
            "wait_interval": 0
          },
          "output_extras": [
            {
              "item_id": 1
            }
          ],
          "base_uri": "https://localhost:8080/",
          "height": 34
        },
        "outputId": "9193b62d-95e6-446b-84bf-e1d062fa54f2",
        "executionInfo": {
          "status": "ok",
          "timestamp": 1522329837771,
          "user_tz": -330,
          "elapsed": 1016,
          "user": {
            "displayName": "Pujya Shri",
            "photoUrl": "//lh6.googleusercontent.com/-iciFMuB7JtY/AAAAAAAAAAI/AAAAAAAAAGU/Cps-5eWtYmQ/s50-c-k-no/photo.jpg",
            "userId": "106502613669313135092"
          }
        }
      },
      "cell_type": "code",
      "source": [
        "X.shape"
      ],
      "execution_count": 109,
      "outputs": [
        {
          "output_type": "execute_result",
          "data": {
            "text/plain": [
              "(25564, 112)"
            ]
          },
          "metadata": {
            "tags": []
          },
          "execution_count": 109
        }
      ]
    },
    {
      "metadata": {
        "id": "Q9at4-ZwttaM",
        "colab_type": "code",
        "colab": {
          "autoexec": {
            "startup": false,
            "wait_interval": 0
          }
        }
      },
      "cell_type": "code",
      "source": [
        "y=open_dfd['is_open']"
      ],
      "execution_count": 0,
      "outputs": []
    },
    {
      "metadata": {
        "id": "EZkgyXCgyJ7v",
        "colab_type": "code",
        "colab": {
          "autoexec": {
            "startup": false,
            "wait_interval": 0
          }
        }
      },
      "cell_type": "code",
      "source": [
        "#Splitting the dataset into the Training set and Test set\n",
        "from sklearn.model_selection import train_test_split\n",
        "X_train, X_test, y_train, y_test = train_test_split(X, y, test_size = 0.25, random_state = 0)"
      ],
      "execution_count": 0,
      "outputs": []
    },
    {
      "metadata": {
        "id": "ncq7_bTWzbwx",
        "colab_type": "code",
        "colab": {
          "autoexec": {
            "startup": false,
            "wait_interval": 0
          },
          "output_extras": [
            {
              "item_id": 1
            }
          ],
          "base_uri": "https://localhost:8080/",
          "height": 34
        },
        "outputId": "4f7990f4-93f5-4ea2-facc-1bd26ace0c72",
        "executionInfo": {
          "status": "ok",
          "timestamp": 1522329845599,
          "user_tz": -330,
          "elapsed": 785,
          "user": {
            "displayName": "Pujya Shri",
            "photoUrl": "//lh6.googleusercontent.com/-iciFMuB7JtY/AAAAAAAAAAI/AAAAAAAAAGU/Cps-5eWtYmQ/s50-c-k-no/photo.jpg",
            "userId": "106502613669313135092"
          }
        }
      },
      "cell_type": "code",
      "source": [
        "X_test.shape"
      ],
      "execution_count": 112,
      "outputs": [
        {
          "output_type": "execute_result",
          "data": {
            "text/plain": [
              "(6391, 112)"
            ]
          },
          "metadata": {
            "tags": []
          },
          "execution_count": 112
        }
      ]
    },
    {
      "metadata": {
        "id": "C-gPAdVdzCr_",
        "colab_type": "code",
        "colab": {
          "autoexec": {
            "startup": false,
            "wait_interval": 0
          },
          "output_extras": [
            {
              "item_id": 1
            }
          ],
          "base_uri": "https://localhost:8080/",
          "height": 119
        },
        "outputId": "1b706922-d169-4334-e54c-00dc321ac8c8",
        "executionInfo": {
          "status": "ok",
          "timestamp": 1522329849086,
          "user_tz": -330,
          "elapsed": 2189,
          "user": {
            "displayName": "Pujya Shri",
            "photoUrl": "//lh6.googleusercontent.com/-iciFMuB7JtY/AAAAAAAAAAI/AAAAAAAAAGU/Cps-5eWtYmQ/s50-c-k-no/photo.jpg",
            "userId": "106502613669313135092"
          }
        }
      },
      "cell_type": "code",
      "source": [
        "from sklearn.ensemble import RandomForestClassifier \n",
        "orf_classifier = RandomForestClassifier(n_estimators=100,random_state=12) \n",
        "orf_classifier.fit(X_train, y_train)"
      ],
      "execution_count": 113,
      "outputs": [
        {
          "output_type": "execute_result",
          "data": {
            "text/plain": [
              "RandomForestClassifier(bootstrap=True, class_weight=None, criterion='gini',\n",
              "            max_depth=None, max_features='auto', max_leaf_nodes=None,\n",
              "            min_impurity_decrease=0.0, min_impurity_split=None,\n",
              "            min_samples_leaf=1, min_samples_split=2,\n",
              "            min_weight_fraction_leaf=0.0, n_estimators=100, n_jobs=1,\n",
              "            oob_score=False, random_state=12, verbose=0, warm_start=False)"
            ]
          },
          "metadata": {
            "tags": []
          },
          "execution_count": 113
        }
      ]
    },
    {
      "metadata": {
        "id": "0TPGtC9azFWg",
        "colab_type": "code",
        "colab": {
          "autoexec": {
            "startup": false,
            "wait_interval": 0
          },
          "output_extras": [
            {
              "item_id": 1
            }
          ],
          "base_uri": "https://localhost:8080/",
          "height": 51
        },
        "outputId": "eca466c8-467b-4505-82b0-6698f932398e",
        "executionInfo": {
          "status": "ok",
          "timestamp": 1522329852320,
          "user_tz": -330,
          "elapsed": 798,
          "user": {
            "displayName": "Pujya Shri",
            "photoUrl": "//lh6.googleusercontent.com/-iciFMuB7JtY/AAAAAAAAAAI/AAAAAAAAAGU/Cps-5eWtYmQ/s50-c-k-no/photo.jpg",
            "userId": "106502613669313135092"
          }
        }
      },
      "cell_type": "code",
      "source": [
        "# Making the Confusion Matrix\n",
        "from sklearn.metrics import confusion_matrix\n",
        "cm = confusion_matrix(y_test, orf_classifier.predict(X_test))\n",
        "print(cm)"
      ],
      "execution_count": 114,
      "outputs": [
        {
          "output_type": "stream",
          "text": [
            "[[1961 1202]\n",
            " [ 930 2298]]\n"
          ],
          "name": "stdout"
        }
      ]
    },
    {
      "metadata": {
        "id": "tTxd5KUCzhMX",
        "colab_type": "code",
        "colab": {
          "autoexec": {
            "startup": false,
            "wait_interval": 0
          },
          "output_extras": [
            {
              "item_id": 1
            }
          ],
          "base_uri": "https://localhost:8080/",
          "height": 34
        },
        "outputId": "9d89364b-8628-4b4c-c776-1205e43fe444",
        "executionInfo": {
          "status": "ok",
          "timestamp": 1522329874190,
          "user_tz": -330,
          "elapsed": 772,
          "user": {
            "displayName": "Pujya Shri",
            "photoUrl": "//lh6.googleusercontent.com/-iciFMuB7JtY/AAAAAAAAAAI/AAAAAAAAAGU/Cps-5eWtYmQ/s50-c-k-no/photo.jpg",
            "userId": "106502613669313135092"
          }
        }
      },
      "cell_type": "code",
      "source": [
        "(1961+2298)/6391"
      ],
      "execution_count": 115,
      "outputs": [
        {
          "output_type": "execute_result",
          "data": {
            "text/plain": [
              "0.6664058832733532"
            ]
          },
          "metadata": {
            "tags": []
          },
          "execution_count": 115
        }
      ]
    },
    {
      "metadata": {
        "id": "JUIT6NDENihD",
        "colab_type": "text"
      },
      "cell_type": "markdown",
      "source": [
        "# **Trying to detect relation between IS_OPEN and IS_CLICK**"
      ]
    },
    {
      "metadata": {
        "id": "yaWHWgAgNs1y",
        "colab_type": "code",
        "colab": {
          "autoexec": {
            "startup": false,
            "wait_interval": 0
          }
        }
      },
      "cell_type": "code",
      "source": [
        "isOpen=df['is_open']"
      ],
      "execution_count": 0,
      "outputs": []
    },
    {
      "metadata": {
        "id": "PxlLg2ucOsGA",
        "colab_type": "code",
        "colab": {
          "autoexec": {
            "startup": false,
            "wait_interval": 0
          },
          "output_extras": [
            {
              "item_id": 1
            }
          ],
          "base_uri": "https://localhost:8080/",
          "height": 34
        },
        "outputId": "c39ad699-a6bd-4d0c-8ea7-bfa704634131",
        "executionInfo": {
          "status": "ok",
          "timestamp": 1522251001605,
          "user_tz": -330,
          "elapsed": 832,
          "user": {
            "displayName": "Pujya Shri",
            "photoUrl": "//lh6.googleusercontent.com/-iciFMuB7JtY/AAAAAAAAAAI/AAAAAAAAAGU/Cps-5eWtYmQ/s50-c-k-no/photo.jpg",
            "userId": "106502613669313135092"
          }
        }
      },
      "cell_type": "code",
      "source": [
        "len(isOpen)"
      ],
      "execution_count": 178,
      "outputs": [
        {
          "output_type": "execute_result",
          "data": {
            "text/plain": [
              "1023191"
            ]
          },
          "metadata": {
            "tags": []
          },
          "execution_count": 178
        }
      ]
    },
    {
      "metadata": {
        "id": "bfA7ENykNsvu",
        "colab_type": "code",
        "colab": {
          "autoexec": {
            "startup": false,
            "wait_interval": 0
          }
        }
      },
      "cell_type": "code",
      "source": [
        "isClick=df['is_click']"
      ],
      "execution_count": 0,
      "outputs": []
    },
    {
      "metadata": {
        "id": "fxq6qCjhN-oS",
        "colab_type": "code",
        "colab": {
          "autoexec": {
            "startup": false,
            "wait_interval": 0
          },
          "output_extras": [
            {
              "item_id": 1
            }
          ],
          "base_uri": "https://localhost:8080/",
          "height": 34
        },
        "outputId": "e175dbb1-6540-4ff9-f564-0e3a4d10d071",
        "executionInfo": {
          "status": "ok",
          "timestamp": 1522250978911,
          "user_tz": -330,
          "elapsed": 41671,
          "user": {
            "displayName": "Pujya Shri",
            "photoUrl": "//lh6.googleusercontent.com/-iciFMuB7JtY/AAAAAAAAAAI/AAAAAAAAAGU/Cps-5eWtYmQ/s50-c-k-no/photo.jpg",
            "userId": "106502613669313135092"
          }
        }
      },
      "cell_type": "code",
      "source": [
        "t=0\n",
        "for i in range(len(isClick)):\n",
        "  if isOpen[i]!=isClick[i]:\n",
        "    t=t+1\n",
        "print(t)"
      ],
      "execution_count": 177,
      "outputs": [
        {
          "output_type": "stream",
          "text": [
            "90008\n"
          ],
          "name": "stdout"
        }
      ]
    },
    {
      "metadata": {
        "id": "yclC45MbQ38M",
        "colab_type": "code",
        "colab": {
          "autoexec": {
            "startup": false,
            "wait_interval": 0
          }
        }
      },
      "cell_type": "code",
      "source": [
        "clicked=df[df['is_click']==1]\n",
        "notclicked=df[df['is_click']==0]"
      ],
      "execution_count": 0,
      "outputs": []
    },
    {
      "metadata": {
        "id": "A2_0ueKbQ33J",
        "colab_type": "code",
        "colab": {
          "autoexec": {
            "startup": false,
            "wait_interval": 0
          },
          "output_extras": [
            {
              "item_id": 1
            }
          ],
          "base_uri": "https://localhost:8080/",
          "height": 204
        },
        "outputId": "fd61abad-3e06-49a9-844d-56c1e47db3c1",
        "executionInfo": {
          "status": "ok",
          "timestamp": 1522251649654,
          "user_tz": -330,
          "elapsed": 1085,
          "user": {
            "displayName": "Pujya Shri",
            "photoUrl": "//lh6.googleusercontent.com/-iciFMuB7JtY/AAAAAAAAAAI/AAAAAAAAAGU/Cps-5eWtYmQ/s50-c-k-no/photo.jpg",
            "userId": "106502613669313135092"
          }
        }
      },
      "cell_type": "code",
      "source": [
        "clicked.head()"
      ],
      "execution_count": 199,
      "outputs": [
        {
          "output_type": "execute_result",
          "data": {
            "text/html": [
              "<div>\n",
              "<style scoped>\n",
              "    .dataframe tbody tr th:only-of-type {\n",
              "        vertical-align: middle;\n",
              "    }\n",
              "\n",
              "    .dataframe tbody tr th {\n",
              "        vertical-align: top;\n",
              "    }\n",
              "\n",
              "    .dataframe thead th {\n",
              "        text-align: right;\n",
              "    }\n",
              "</style>\n",
              "<table border=\"1\" class=\"dataframe\">\n",
              "  <thead>\n",
              "    <tr style=\"text-align: right;\">\n",
              "      <th></th>\n",
              "      <th>is_open</th>\n",
              "      <th>communication_type</th>\n",
              "      <th>total_links</th>\n",
              "      <th>no_of_internal_links</th>\n",
              "      <th>no_of_images</th>\n",
              "      <th>no_of_sections</th>\n",
              "      <th>is_click</th>\n",
              "    </tr>\n",
              "  </thead>\n",
              "  <tbody>\n",
              "    <tr>\n",
              "      <th>109</th>\n",
              "      <td>1</td>\n",
              "      <td>Upcoming Events</td>\n",
              "      <td>18</td>\n",
              "      <td>14</td>\n",
              "      <td>7</td>\n",
              "      <td>1</td>\n",
              "      <td>1</td>\n",
              "    </tr>\n",
              "    <tr>\n",
              "      <th>213</th>\n",
              "      <td>1</td>\n",
              "      <td>Newsletter</td>\n",
              "      <td>203</td>\n",
              "      <td>191</td>\n",
              "      <td>12</td>\n",
              "      <td>4</td>\n",
              "      <td>1</td>\n",
              "    </tr>\n",
              "    <tr>\n",
              "      <th>269</th>\n",
              "      <td>1</td>\n",
              "      <td>Newsletter</td>\n",
              "      <td>88</td>\n",
              "      <td>79</td>\n",
              "      <td>13</td>\n",
              "      <td>4</td>\n",
              "      <td>1</td>\n",
              "    </tr>\n",
              "    <tr>\n",
              "      <th>410</th>\n",
              "      <td>1</td>\n",
              "      <td>Conference</td>\n",
              "      <td>24</td>\n",
              "      <td>19</td>\n",
              "      <td>7</td>\n",
              "      <td>1</td>\n",
              "      <td>1</td>\n",
              "    </tr>\n",
              "    <tr>\n",
              "      <th>418</th>\n",
              "      <td>1</td>\n",
              "      <td>Others</td>\n",
              "      <td>9</td>\n",
              "      <td>2</td>\n",
              "      <td>1</td>\n",
              "      <td>1</td>\n",
              "      <td>1</td>\n",
              "    </tr>\n",
              "  </tbody>\n",
              "</table>\n",
              "</div>"
            ],
            "text/plain": [
              "     is_open communication_type  total_links  no_of_internal_links  \\\n",
              "109        1    Upcoming Events           18                    14   \n",
              "213        1         Newsletter          203                   191   \n",
              "269        1         Newsletter           88                    79   \n",
              "410        1         Conference           24                    19   \n",
              "418        1             Others            9                     2   \n",
              "\n",
              "     no_of_images  no_of_sections  is_click  \n",
              "109             7               1         1  \n",
              "213            12               4         1  \n",
              "269            13               4         1  \n",
              "410             7               1         1  \n",
              "418             1               1         1  "
            ]
          },
          "metadata": {
            "tags": []
          },
          "execution_count": 199
        }
      ]
    },
    {
      "metadata": {
        "id": "fCfKoByCRRsd",
        "colab_type": "code",
        "colab": {
          "autoexec": {
            "startup": false,
            "wait_interval": 0
          }
        }
      },
      "cell_type": "code",
      "source": [
        "clicked_notopen=clicked[clicked['is_open']==0]\n",
        "clicked_open=clicked[clicked['is_open']==1]"
      ],
      "execution_count": 0,
      "outputs": []
    },
    {
      "metadata": {
        "id": "m1a0W2f7R5Z0",
        "colab_type": "code",
        "colab": {
          "autoexec": {
            "startup": false,
            "wait_interval": 0
          },
          "output_extras": [
            {
              "item_id": 1
            }
          ],
          "base_uri": "https://localhost:8080/",
          "height": 49
        },
        "outputId": "8ce5a421-efeb-4c92-9c08-d3dc0c70130a",
        "executionInfo": {
          "status": "ok",
          "timestamp": 1522251842706,
          "user_tz": -330,
          "elapsed": 856,
          "user": {
            "displayName": "Pujya Shri",
            "photoUrl": "//lh6.googleusercontent.com/-iciFMuB7JtY/AAAAAAAAAAI/AAAAAAAAAGU/Cps-5eWtYmQ/s50-c-k-no/photo.jpg",
            "userId": "106502613669313135092"
          }
        }
      },
      "cell_type": "code",
      "source": [
        "clicked_notopen.head()"
      ],
      "execution_count": 203,
      "outputs": [
        {
          "output_type": "execute_result",
          "data": {
            "text/html": [
              "<div>\n",
              "<style scoped>\n",
              "    .dataframe tbody tr th:only-of-type {\n",
              "        vertical-align: middle;\n",
              "    }\n",
              "\n",
              "    .dataframe tbody tr th {\n",
              "        vertical-align: top;\n",
              "    }\n",
              "\n",
              "    .dataframe thead th {\n",
              "        text-align: right;\n",
              "    }\n",
              "</style>\n",
              "<table border=\"1\" class=\"dataframe\">\n",
              "  <thead>\n",
              "    <tr style=\"text-align: right;\">\n",
              "      <th></th>\n",
              "      <th>is_open</th>\n",
              "      <th>communication_type</th>\n",
              "      <th>total_links</th>\n",
              "      <th>no_of_internal_links</th>\n",
              "      <th>no_of_images</th>\n",
              "      <th>no_of_sections</th>\n",
              "      <th>is_click</th>\n",
              "    </tr>\n",
              "  </thead>\n",
              "  <tbody>\n",
              "  </tbody>\n",
              "</table>\n",
              "</div>"
            ],
            "text/plain": [
              "Empty DataFrame\n",
              "Columns: [is_open, communication_type, total_links, no_of_internal_links, no_of_images, no_of_sections, is_click]\n",
              "Index: []"
            ]
          },
          "metadata": {
            "tags": []
          },
          "execution_count": 203
        }
      ]
    },
    {
      "metadata": {
        "id": "2TTEa4vWR5T0",
        "colab_type": "code",
        "colab": {
          "autoexec": {
            "startup": false,
            "wait_interval": 0
          },
          "output_extras": [
            {
              "item_id": 1
            }
          ],
          "base_uri": "https://localhost:8080/",
          "height": 204
        },
        "outputId": "17d49d23-1a2b-477a-dfa9-ca7a3aabd074",
        "executionInfo": {
          "status": "ok",
          "timestamp": 1522251870051,
          "user_tz": -330,
          "elapsed": 850,
          "user": {
            "displayName": "Pujya Shri",
            "photoUrl": "//lh6.googleusercontent.com/-iciFMuB7JtY/AAAAAAAAAAI/AAAAAAAAAGU/Cps-5eWtYmQ/s50-c-k-no/photo.jpg",
            "userId": "106502613669313135092"
          }
        }
      },
      "cell_type": "code",
      "source": [
        "clicked_open.head()"
      ],
      "execution_count": 204,
      "outputs": [
        {
          "output_type": "execute_result",
          "data": {
            "text/html": [
              "<div>\n",
              "<style scoped>\n",
              "    .dataframe tbody tr th:only-of-type {\n",
              "        vertical-align: middle;\n",
              "    }\n",
              "\n",
              "    .dataframe tbody tr th {\n",
              "        vertical-align: top;\n",
              "    }\n",
              "\n",
              "    .dataframe thead th {\n",
              "        text-align: right;\n",
              "    }\n",
              "</style>\n",
              "<table border=\"1\" class=\"dataframe\">\n",
              "  <thead>\n",
              "    <tr style=\"text-align: right;\">\n",
              "      <th></th>\n",
              "      <th>is_open</th>\n",
              "      <th>communication_type</th>\n",
              "      <th>total_links</th>\n",
              "      <th>no_of_internal_links</th>\n",
              "      <th>no_of_images</th>\n",
              "      <th>no_of_sections</th>\n",
              "      <th>is_click</th>\n",
              "    </tr>\n",
              "  </thead>\n",
              "  <tbody>\n",
              "    <tr>\n",
              "      <th>109</th>\n",
              "      <td>1</td>\n",
              "      <td>Upcoming Events</td>\n",
              "      <td>18</td>\n",
              "      <td>14</td>\n",
              "      <td>7</td>\n",
              "      <td>1</td>\n",
              "      <td>1</td>\n",
              "    </tr>\n",
              "    <tr>\n",
              "      <th>213</th>\n",
              "      <td>1</td>\n",
              "      <td>Newsletter</td>\n",
              "      <td>203</td>\n",
              "      <td>191</td>\n",
              "      <td>12</td>\n",
              "      <td>4</td>\n",
              "      <td>1</td>\n",
              "    </tr>\n",
              "    <tr>\n",
              "      <th>269</th>\n",
              "      <td>1</td>\n",
              "      <td>Newsletter</td>\n",
              "      <td>88</td>\n",
              "      <td>79</td>\n",
              "      <td>13</td>\n",
              "      <td>4</td>\n",
              "      <td>1</td>\n",
              "    </tr>\n",
              "    <tr>\n",
              "      <th>410</th>\n",
              "      <td>1</td>\n",
              "      <td>Conference</td>\n",
              "      <td>24</td>\n",
              "      <td>19</td>\n",
              "      <td>7</td>\n",
              "      <td>1</td>\n",
              "      <td>1</td>\n",
              "    </tr>\n",
              "    <tr>\n",
              "      <th>418</th>\n",
              "      <td>1</td>\n",
              "      <td>Others</td>\n",
              "      <td>9</td>\n",
              "      <td>2</td>\n",
              "      <td>1</td>\n",
              "      <td>1</td>\n",
              "      <td>1</td>\n",
              "    </tr>\n",
              "  </tbody>\n",
              "</table>\n",
              "</div>"
            ],
            "text/plain": [
              "     is_open communication_type  total_links  no_of_internal_links  \\\n",
              "109        1    Upcoming Events           18                    14   \n",
              "213        1         Newsletter          203                   191   \n",
              "269        1         Newsletter           88                    79   \n",
              "410        1         Conference           24                    19   \n",
              "418        1             Others            9                     2   \n",
              "\n",
              "     no_of_images  no_of_sections  is_click  \n",
              "109             7               1         1  \n",
              "213            12               4         1  \n",
              "269            13               4         1  \n",
              "410             7               1         1  \n",
              "418             1               1         1  "
            ]
          },
          "metadata": {
            "tags": []
          },
          "execution_count": 204
        }
      ]
    },
    {
      "metadata": {
        "id": "D3Z3ykdlS6Ji",
        "colab_type": "code",
        "colab": {
          "autoexec": {
            "startup": false,
            "wait_interval": 0
          },
          "output_extras": [
            {
              "item_id": 1
            }
          ],
          "base_uri": "https://localhost:8080/",
          "height": 153
        },
        "outputId": "c48b2891-1cdd-43a7-9883-f0136eb4b047",
        "executionInfo": {
          "status": "ok",
          "timestamp": 1522252114916,
          "user_tz": -330,
          "elapsed": 839,
          "user": {
            "displayName": "Pujya Shri",
            "photoUrl": "//lh6.googleusercontent.com/-iciFMuB7JtY/AAAAAAAAAAI/AAAAAAAAAGU/Cps-5eWtYmQ/s50-c-k-no/photo.jpg",
            "userId": "106502613669313135092"
          }
        }
      },
      "cell_type": "code",
      "source": [
        "clicked_open['communication_type'].value_counts()"
      ],
      "execution_count": 209,
      "outputs": [
        {
          "output_type": "execute_result",
          "data": {
            "text/plain": [
              "Newsletter         5658\n",
              "Conference         3228\n",
              "Upcoming Events    1916\n",
              "Hackathon          1059\n",
              "Others              717\n",
              "Webinar             161\n",
              "Corporate            43\n",
              "Name: communication_type, dtype: int64"
            ]
          },
          "metadata": {
            "tags": []
          },
          "execution_count": 209
        }
      ]
    },
    {
      "metadata": {
        "id": "uOHuyDNDSFz7",
        "colab_type": "text"
      },
      "cell_type": "markdown",
      "source": [
        "*The means if there is clicked then it must have been open. Logically matching !!*"
      ]
    },
    {
      "metadata": {
        "id": "WTSEQ02cQ3yl",
        "colab_type": "code",
        "colab": {
          "autoexec": {
            "startup": false,
            "wait_interval": 0
          },
          "output_extras": [
            {
              "item_id": 1
            }
          ],
          "base_uri": "https://localhost:8080/",
          "height": 204
        },
        "outputId": "29638ad3-2b00-4749-ae95-7dfdf8eccd08",
        "executionInfo": {
          "status": "ok",
          "timestamp": 1522251662288,
          "user_tz": -330,
          "elapsed": 844,
          "user": {
            "displayName": "Pujya Shri",
            "photoUrl": "//lh6.googleusercontent.com/-iciFMuB7JtY/AAAAAAAAAAI/AAAAAAAAAGU/Cps-5eWtYmQ/s50-c-k-no/photo.jpg",
            "userId": "106502613669313135092"
          }
        }
      },
      "cell_type": "code",
      "source": [
        "notclicked.head()"
      ],
      "execution_count": 200,
      "outputs": [
        {
          "output_type": "execute_result",
          "data": {
            "text/html": [
              "<div>\n",
              "<style scoped>\n",
              "    .dataframe tbody tr th:only-of-type {\n",
              "        vertical-align: middle;\n",
              "    }\n",
              "\n",
              "    .dataframe tbody tr th {\n",
              "        vertical-align: top;\n",
              "    }\n",
              "\n",
              "    .dataframe thead th {\n",
              "        text-align: right;\n",
              "    }\n",
              "</style>\n",
              "<table border=\"1\" class=\"dataframe\">\n",
              "  <thead>\n",
              "    <tr style=\"text-align: right;\">\n",
              "      <th></th>\n",
              "      <th>is_open</th>\n",
              "      <th>communication_type</th>\n",
              "      <th>total_links</th>\n",
              "      <th>no_of_internal_links</th>\n",
              "      <th>no_of_images</th>\n",
              "      <th>no_of_sections</th>\n",
              "      <th>is_click</th>\n",
              "    </tr>\n",
              "  </thead>\n",
              "  <tbody>\n",
              "    <tr>\n",
              "      <th>0</th>\n",
              "      <td>0</td>\n",
              "      <td>Newsletter</td>\n",
              "      <td>88</td>\n",
              "      <td>79</td>\n",
              "      <td>13</td>\n",
              "      <td>4</td>\n",
              "      <td>0</td>\n",
              "    </tr>\n",
              "    <tr>\n",
              "      <th>1</th>\n",
              "      <td>0</td>\n",
              "      <td>Newsletter</td>\n",
              "      <td>67</td>\n",
              "      <td>62</td>\n",
              "      <td>10</td>\n",
              "      <td>4</td>\n",
              "      <td>0</td>\n",
              "    </tr>\n",
              "    <tr>\n",
              "      <th>2</th>\n",
              "      <td>0</td>\n",
              "      <td>Others</td>\n",
              "      <td>7</td>\n",
              "      <td>3</td>\n",
              "      <td>1</td>\n",
              "      <td>1</td>\n",
              "      <td>0</td>\n",
              "    </tr>\n",
              "    <tr>\n",
              "      <th>3</th>\n",
              "      <td>0</td>\n",
              "      <td>Upcoming Events</td>\n",
              "      <td>60</td>\n",
              "      <td>56</td>\n",
              "      <td>19</td>\n",
              "      <td>6</td>\n",
              "      <td>0</td>\n",
              "    </tr>\n",
              "    <tr>\n",
              "      <th>4</th>\n",
              "      <td>0</td>\n",
              "      <td>Newsletter</td>\n",
              "      <td>67</td>\n",
              "      <td>61</td>\n",
              "      <td>12</td>\n",
              "      <td>3</td>\n",
              "      <td>0</td>\n",
              "    </tr>\n",
              "  </tbody>\n",
              "</table>\n",
              "</div>"
            ],
            "text/plain": [
              "   is_open communication_type  total_links  no_of_internal_links  \\\n",
              "0        0         Newsletter           88                    79   \n",
              "1        0         Newsletter           67                    62   \n",
              "2        0             Others            7                     3   \n",
              "3        0    Upcoming Events           60                    56   \n",
              "4        0         Newsletter           67                    61   \n",
              "\n",
              "   no_of_images  no_of_sections  is_click  \n",
              "0            13               4         0  \n",
              "1            10               4         0  \n",
              "2             1               1         0  \n",
              "3            19               6         0  \n",
              "4            12               3         0  "
            ]
          },
          "metadata": {
            "tags": []
          },
          "execution_count": 200
        }
      ]
    },
    {
      "metadata": {
        "id": "TsjPN9U5Q3tw",
        "colab_type": "code",
        "colab": {
          "autoexec": {
            "startup": false,
            "wait_interval": 0
          }
        }
      },
      "cell_type": "code",
      "source": [
        "notclicked_notopen=notclicked[notclicked['is_open']==0]\n",
        "notclicked_open=notclicked[notclicked['is_open']==1]"
      ],
      "execution_count": 0,
      "outputs": []
    },
    {
      "metadata": {
        "id": "W_T-HyVjQ3oe",
        "colab_type": "code",
        "colab": {
          "autoexec": {
            "startup": false,
            "wait_interval": 0
          },
          "output_extras": [
            {
              "item_id": 1
            }
          ],
          "base_uri": "https://localhost:8080/",
          "height": 204
        },
        "outputId": "a2f17a52-e42e-42dc-d136-89e69532c2ec",
        "executionInfo": {
          "status": "ok",
          "timestamp": 1522251957269,
          "user_tz": -330,
          "elapsed": 848,
          "user": {
            "displayName": "Pujya Shri",
            "photoUrl": "//lh6.googleusercontent.com/-iciFMuB7JtY/AAAAAAAAAAI/AAAAAAAAAGU/Cps-5eWtYmQ/s50-c-k-no/photo.jpg",
            "userId": "106502613669313135092"
          }
        }
      },
      "cell_type": "code",
      "source": [
        "notclicked_notopen.head()"
      ],
      "execution_count": 205,
      "outputs": [
        {
          "output_type": "execute_result",
          "data": {
            "text/html": [
              "<div>\n",
              "<style scoped>\n",
              "    .dataframe tbody tr th:only-of-type {\n",
              "        vertical-align: middle;\n",
              "    }\n",
              "\n",
              "    .dataframe tbody tr th {\n",
              "        vertical-align: top;\n",
              "    }\n",
              "\n",
              "    .dataframe thead th {\n",
              "        text-align: right;\n",
              "    }\n",
              "</style>\n",
              "<table border=\"1\" class=\"dataframe\">\n",
              "  <thead>\n",
              "    <tr style=\"text-align: right;\">\n",
              "      <th></th>\n",
              "      <th>is_open</th>\n",
              "      <th>communication_type</th>\n",
              "      <th>total_links</th>\n",
              "      <th>no_of_internal_links</th>\n",
              "      <th>no_of_images</th>\n",
              "      <th>no_of_sections</th>\n",
              "      <th>is_click</th>\n",
              "    </tr>\n",
              "  </thead>\n",
              "  <tbody>\n",
              "    <tr>\n",
              "      <th>0</th>\n",
              "      <td>0</td>\n",
              "      <td>Newsletter</td>\n",
              "      <td>88</td>\n",
              "      <td>79</td>\n",
              "      <td>13</td>\n",
              "      <td>4</td>\n",
              "      <td>0</td>\n",
              "    </tr>\n",
              "    <tr>\n",
              "      <th>1</th>\n",
              "      <td>0</td>\n",
              "      <td>Newsletter</td>\n",
              "      <td>67</td>\n",
              "      <td>62</td>\n",
              "      <td>10</td>\n",
              "      <td>4</td>\n",
              "      <td>0</td>\n",
              "    </tr>\n",
              "    <tr>\n",
              "      <th>2</th>\n",
              "      <td>0</td>\n",
              "      <td>Others</td>\n",
              "      <td>7</td>\n",
              "      <td>3</td>\n",
              "      <td>1</td>\n",
              "      <td>1</td>\n",
              "      <td>0</td>\n",
              "    </tr>\n",
              "    <tr>\n",
              "      <th>3</th>\n",
              "      <td>0</td>\n",
              "      <td>Upcoming Events</td>\n",
              "      <td>60</td>\n",
              "      <td>56</td>\n",
              "      <td>19</td>\n",
              "      <td>6</td>\n",
              "      <td>0</td>\n",
              "    </tr>\n",
              "    <tr>\n",
              "      <th>4</th>\n",
              "      <td>0</td>\n",
              "      <td>Newsletter</td>\n",
              "      <td>67</td>\n",
              "      <td>61</td>\n",
              "      <td>12</td>\n",
              "      <td>3</td>\n",
              "      <td>0</td>\n",
              "    </tr>\n",
              "  </tbody>\n",
              "</table>\n",
              "</div>"
            ],
            "text/plain": [
              "   is_open communication_type  total_links  no_of_internal_links  \\\n",
              "0        0         Newsletter           88                    79   \n",
              "1        0         Newsletter           67                    62   \n",
              "2        0             Others            7                     3   \n",
              "3        0    Upcoming Events           60                    56   \n",
              "4        0         Newsletter           67                    61   \n",
              "\n",
              "   no_of_images  no_of_sections  is_click  \n",
              "0            13               4         0  \n",
              "1            10               4         0  \n",
              "2             1               1         0  \n",
              "3            19               6         0  \n",
              "4            12               3         0  "
            ]
          },
          "metadata": {
            "tags": []
          },
          "execution_count": 205
        }
      ]
    },
    {
      "metadata": {
        "id": "NdJQjxFxSh6a",
        "colab_type": "code",
        "colab": {
          "autoexec": {
            "startup": false,
            "wait_interval": 0
          },
          "output_extras": [
            {
              "item_id": 1
            }
          ],
          "base_uri": "https://localhost:8080/",
          "height": 153
        },
        "outputId": "922796ae-c993-4be4-d938-91679b963c41",
        "executionInfo": {
          "status": "ok",
          "timestamp": 1522252029758,
          "user_tz": -330,
          "elapsed": 878,
          "user": {
            "displayName": "Pujya Shri",
            "photoUrl": "//lh6.googleusercontent.com/-iciFMuB7JtY/AAAAAAAAAAI/AAAAAAAAAGU/Cps-5eWtYmQ/s50-c-k-no/photo.jpg",
            "userId": "106502613669313135092"
          }
        }
      },
      "cell_type": "code",
      "source": [
        "notclicked_notopen['communication_type'].value_counts()"
      ],
      "execution_count": 207,
      "outputs": [
        {
          "output_type": "execute_result",
          "data": {
            "text/plain": [
              "Newsletter         413247\n",
              "Conference         302845\n",
              "Upcoming Events    135254\n",
              "Others              40688\n",
              "Hackathon           23632\n",
              "Corporate            2477\n",
              "Webinar              2258\n",
              "Name: communication_type, dtype: int64"
            ]
          },
          "metadata": {
            "tags": []
          },
          "execution_count": 207
        }
      ]
    },
    {
      "metadata": {
        "id": "3_R9pRbnQ3ja",
        "colab_type": "code",
        "colab": {
          "autoexec": {
            "startup": false,
            "wait_interval": 0
          },
          "output_extras": [
            {
              "item_id": 1
            }
          ],
          "base_uri": "https://localhost:8080/",
          "height": 204
        },
        "outputId": "3bf35bf3-310c-4b74-9af3-f91e68f03bc5",
        "executionInfo": {
          "status": "ok",
          "timestamp": 1522251972793,
          "user_tz": -330,
          "elapsed": 939,
          "user": {
            "displayName": "Pujya Shri",
            "photoUrl": "//lh6.googleusercontent.com/-iciFMuB7JtY/AAAAAAAAAAI/AAAAAAAAAGU/Cps-5eWtYmQ/s50-c-k-no/photo.jpg",
            "userId": "106502613669313135092"
          }
        }
      },
      "cell_type": "code",
      "source": [
        "notclicked_open.head()"
      ],
      "execution_count": 206,
      "outputs": [
        {
          "output_type": "execute_result",
          "data": {
            "text/html": [
              "<div>\n",
              "<style scoped>\n",
              "    .dataframe tbody tr th:only-of-type {\n",
              "        vertical-align: middle;\n",
              "    }\n",
              "\n",
              "    .dataframe tbody tr th {\n",
              "        vertical-align: top;\n",
              "    }\n",
              "\n",
              "    .dataframe thead th {\n",
              "        text-align: right;\n",
              "    }\n",
              "</style>\n",
              "<table border=\"1\" class=\"dataframe\">\n",
              "  <thead>\n",
              "    <tr style=\"text-align: right;\">\n",
              "      <th></th>\n",
              "      <th>is_open</th>\n",
              "      <th>communication_type</th>\n",
              "      <th>total_links</th>\n",
              "      <th>no_of_internal_links</th>\n",
              "      <th>no_of_images</th>\n",
              "      <th>no_of_sections</th>\n",
              "      <th>is_click</th>\n",
              "    </tr>\n",
              "  </thead>\n",
              "  <tbody>\n",
              "    <tr>\n",
              "      <th>11</th>\n",
              "      <td>1</td>\n",
              "      <td>Others</td>\n",
              "      <td>7</td>\n",
              "      <td>3</td>\n",
              "      <td>1</td>\n",
              "      <td>1</td>\n",
              "      <td>0</td>\n",
              "    </tr>\n",
              "    <tr>\n",
              "      <th>19</th>\n",
              "      <td>1</td>\n",
              "      <td>Conference</td>\n",
              "      <td>24</td>\n",
              "      <td>19</td>\n",
              "      <td>7</td>\n",
              "      <td>1</td>\n",
              "      <td>0</td>\n",
              "    </tr>\n",
              "    <tr>\n",
              "      <th>36</th>\n",
              "      <td>1</td>\n",
              "      <td>Conference</td>\n",
              "      <td>24</td>\n",
              "      <td>19</td>\n",
              "      <td>7</td>\n",
              "      <td>1</td>\n",
              "      <td>0</td>\n",
              "    </tr>\n",
              "    <tr>\n",
              "      <th>50</th>\n",
              "      <td>1</td>\n",
              "      <td>Conference</td>\n",
              "      <td>13</td>\n",
              "      <td>11</td>\n",
              "      <td>2</td>\n",
              "      <td>1</td>\n",
              "      <td>0</td>\n",
              "    </tr>\n",
              "    <tr>\n",
              "      <th>76</th>\n",
              "      <td>1</td>\n",
              "      <td>Others</td>\n",
              "      <td>7</td>\n",
              "      <td>3</td>\n",
              "      <td>1</td>\n",
              "      <td>1</td>\n",
              "      <td>0</td>\n",
              "    </tr>\n",
              "  </tbody>\n",
              "</table>\n",
              "</div>"
            ],
            "text/plain": [
              "    is_open communication_type  total_links  no_of_internal_links  \\\n",
              "11        1             Others            7                     3   \n",
              "19        1         Conference           24                    19   \n",
              "36        1         Conference           24                    19   \n",
              "50        1         Conference           13                    11   \n",
              "76        1             Others            7                     3   \n",
              "\n",
              "    no_of_images  no_of_sections  is_click  \n",
              "11             1               1         0  \n",
              "19             7               1         0  \n",
              "36             7               1         0  \n",
              "50             2               1         0  \n",
              "76             1               1         0  "
            ]
          },
          "metadata": {
            "tags": []
          },
          "execution_count": 206
        }
      ]
    },
    {
      "metadata": {
        "id": "nk7KRGdCSspd",
        "colab_type": "code",
        "colab": {
          "autoexec": {
            "startup": false,
            "wait_interval": 0
          },
          "output_extras": [
            {
              "item_id": 1
            }
          ],
          "base_uri": "https://localhost:8080/",
          "height": 153
        },
        "outputId": "e7c3b7f4-54fe-4447-9943-6b39eec09193",
        "executionInfo": {
          "status": "ok",
          "timestamp": 1522252053028,
          "user_tz": -330,
          "elapsed": 1024,
          "user": {
            "displayName": "Pujya Shri",
            "photoUrl": "//lh6.googleusercontent.com/-iciFMuB7JtY/AAAAAAAAAAI/AAAAAAAAAGU/Cps-5eWtYmQ/s50-c-k-no/photo.jpg",
            "userId": "106502613669313135092"
          }
        }
      },
      "cell_type": "code",
      "source": [
        "notclicked_open['communication_type'].value_counts()"
      ],
      "execution_count": 208,
      "outputs": [
        {
          "output_type": "execute_result",
          "data": {
            "text/plain": [
              "Newsletter         32148\n",
              "Conference         26560\n",
              "Upcoming Events    11794\n",
              "Others              9531\n",
              "Hackathon           8574\n",
              "Webinar             1068\n",
              "Corporate            333\n",
              "Name: communication_type, dtype: int64"
            ]
          },
          "metadata": {
            "tags": []
          },
          "execution_count": 208
        }
      ]
    },
    {
      "metadata": {
        "id": "uupk-mOa95Y1",
        "colab_type": "text"
      },
      "cell_type": "markdown",
      "source": [
        "# **Making And Merging Dataset**"
      ]
    },
    {
      "metadata": {
        "id": "YvRmFyGZ_205",
        "colab_type": "code",
        "colab": {
          "autoexec": {
            "startup": false,
            "wait_interval": 0
          }
        }
      },
      "cell_type": "code",
      "source": [
        "clicked = df['is_click']\n",
        "df.drop(labels=['is_click'], axis=1,inplace = True)"
      ],
      "execution_count": 0,
      "outputs": []
    },
    {
      "metadata": {
        "id": "8p68j-cA-leM",
        "colab_type": "code",
        "colab": {
          "autoexec": {
            "startup": false,
            "wait_interval": 0
          },
          "output_extras": [
            {}
          ],
          "base_uri": "https://localhost:8080/",
          "height": 34
        },
        "outputId": "7f690ca3-234d-4099-c6d6-b1afcc97d887",
        "executionInfo": {
          "status": "ok",
          "timestamp": 1522054578544,
          "user_tz": -330,
          "elapsed": 2081,
          "user": {
            "displayName": "Nitesh Tiwari",
            "photoUrl": "//lh3.googleusercontent.com/-9Nv5B-a3Ey0/AAAAAAAAAAI/AAAAAAAAAfk/2lqa15W2g-k/s50-c-k-no/photo.jpg",
            "userId": "103011910892907793236"
          }
        }
      },
      "cell_type": "code",
      "source": [
        "df_com['communication_type'][0]"
      ],
      "execution_count": 0,
      "outputs": [
        {
          "output_type": "execute_result",
          "data": {
            "text/plain": [
              "'Newsletter'"
            ]
          },
          "metadata": {
            "tags": []
          },
          "execution_count": 14
        }
      ]
    },
    {
      "metadata": {
        "id": "1xnj2WOW-ACy",
        "colab_type": "code",
        "colab": {
          "autoexec": {
            "startup": false,
            "wait_interval": 0
          }
        }
      },
      "cell_type": "code",
      "source": [
        "com=[]\n",
        "total_links=[]\n",
        "no_of_internal_links=[]\n",
        "no_of_images=[]\n",
        "no_of_sections=[]"
      ],
      "execution_count": 0,
      "outputs": []
    },
    {
      "metadata": {
        "id": "WAAbOO_L-AMv",
        "colab_type": "code",
        "colab": {
          "autoexec": {
            "startup": false,
            "wait_interval": 0
          }
        }
      },
      "cell_type": "code",
      "source": [
        "for i in range(len(df)):\n",
        "  for j in range(len(df_com)):\n",
        "    if(df['campaign_id'][i]==df_com['campaign_id'][j]):\n",
        "      com.append(df_com['communication_type'][j])\n",
        "      total_links.append(df_com['total_links'][j])\n",
        "      no_of_internal_links.append(df_com['no_of_internal_links'][j])\n",
        "      no_of_images.append(df_com['no_of_images'][j])\n",
        "      no_of_sections.append(df_com['no_of_sections'][j])"
      ],
      "execution_count": 0,
      "outputs": []
    },
    {
      "metadata": {
        "id": "l1g7fmEW-AGp",
        "colab_type": "code",
        "colab": {
          "autoexec": {
            "startup": false,
            "wait_interval": 0
          }
        }
      },
      "cell_type": "code",
      "source": [
        "df['communication_type']=com\n",
        "df['total_links']=total_links\n",
        "df['no_of_internal_links']=no_of_internal_links\n",
        "df['no_of_images']=no_of_images\n",
        "df['no_of_sections']=no_of_sections"
      ],
      "execution_count": 0,
      "outputs": []
    },
    {
      "metadata": {
        "id": "2etMmXWyrUxP",
        "colab_type": "code",
        "colab": {
          "autoexec": {
            "startup": false,
            "wait_interval": 0
          }
        }
      },
      "cell_type": "code",
      "source": [
        "df.insert(10,'is_click',clicked)"
      ],
      "execution_count": 0,
      "outputs": []
    },
    {
      "metadata": {
        "id": "e0PfXUuZpjs7",
        "colab_type": "code",
        "colab": {
          "autoexec": {
            "startup": false,
            "wait_interval": 0
          }
        }
      },
      "cell_type": "code",
      "source": [
        "df.to_csv('df_new.csv',index=False)\n",
        "\n",
        "files.download('df_new.csv')"
      ],
      "execution_count": 0,
      "outputs": []
    },
    {
      "metadata": {
        "id": "HNMn-MeMrPWE",
        "colab_type": "code",
        "colab": {
          "autoexec": {
            "startup": false,
            "wait_interval": 0
          },
          "output_extras": [
            {
              "item_id": 1
            }
          ],
          "base_uri": "https://localhost:8080/",
          "height": 204
        },
        "outputId": "de2a0d9c-bd83-48ab-c806-08e787fa2d22",
        "executionInfo": {
          "status": "ok",
          "timestamp": 1522250035107,
          "user_tz": -330,
          "elapsed": 3254,
          "user": {
            "displayName": "Pujya Shri",
            "photoUrl": "//lh6.googleusercontent.com/-iciFMuB7JtY/AAAAAAAAAAI/AAAAAAAAAGU/Cps-5eWtYmQ/s50-c-k-no/photo.jpg",
            "userId": "106502613669313135092"
          }
        }
      },
      "cell_type": "code",
      "source": [
        "df.head()"
      ],
      "execution_count": 127,
      "outputs": [
        {
          "output_type": "execute_result",
          "data": {
            "text/html": [
              "<div>\n",
              "<style scoped>\n",
              "    .dataframe tbody tr th:only-of-type {\n",
              "        vertical-align: middle;\n",
              "    }\n",
              "\n",
              "    .dataframe tbody tr th {\n",
              "        vertical-align: top;\n",
              "    }\n",
              "\n",
              "    .dataframe thead th {\n",
              "        text-align: right;\n",
              "    }\n",
              "</style>\n",
              "<table border=\"1\" class=\"dataframe\">\n",
              "  <thead>\n",
              "    <tr style=\"text-align: right;\">\n",
              "      <th></th>\n",
              "      <th>id</th>\n",
              "      <th>user_id</th>\n",
              "      <th>campaign_id</th>\n",
              "      <th>send_date</th>\n",
              "      <th>is_open</th>\n",
              "      <th>communication_type</th>\n",
              "      <th>total_links</th>\n",
              "      <th>no_of_internal_links</th>\n",
              "      <th>no_of_images</th>\n",
              "      <th>no_of_sections</th>\n",
              "      <th>is_click</th>\n",
              "    </tr>\n",
              "  </thead>\n",
              "  <tbody>\n",
              "    <tr>\n",
              "      <th>0</th>\n",
              "      <td>42_14051</td>\n",
              "      <td>14051</td>\n",
              "      <td>42</td>\n",
              "      <td>01-09-2017 19:55</td>\n",
              "      <td>0</td>\n",
              "      <td>Newsletter</td>\n",
              "      <td>88</td>\n",
              "      <td>79</td>\n",
              "      <td>13</td>\n",
              "      <td>4</td>\n",
              "      <td>0</td>\n",
              "    </tr>\n",
              "    <tr>\n",
              "      <th>1</th>\n",
              "      <td>52_134438</td>\n",
              "      <td>134438</td>\n",
              "      <td>52</td>\n",
              "      <td>02-11-2017 12:53</td>\n",
              "      <td>0</td>\n",
              "      <td>Newsletter</td>\n",
              "      <td>67</td>\n",
              "      <td>62</td>\n",
              "      <td>10</td>\n",
              "      <td>4</td>\n",
              "      <td>0</td>\n",
              "    </tr>\n",
              "    <tr>\n",
              "      <th>2</th>\n",
              "      <td>33_181789</td>\n",
              "      <td>181789</td>\n",
              "      <td>33</td>\n",
              "      <td>24-07-2017 15:15</td>\n",
              "      <td>0</td>\n",
              "      <td>Others</td>\n",
              "      <td>7</td>\n",
              "      <td>3</td>\n",
              "      <td>1</td>\n",
              "      <td>1</td>\n",
              "      <td>0</td>\n",
              "    </tr>\n",
              "    <tr>\n",
              "      <th>3</th>\n",
              "      <td>44_231448</td>\n",
              "      <td>231448</td>\n",
              "      <td>44</td>\n",
              "      <td>05-09-2017 11:36</td>\n",
              "      <td>0</td>\n",
              "      <td>Upcoming Events</td>\n",
              "      <td>60</td>\n",
              "      <td>56</td>\n",
              "      <td>19</td>\n",
              "      <td>6</td>\n",
              "      <td>0</td>\n",
              "    </tr>\n",
              "    <tr>\n",
              "      <th>4</th>\n",
              "      <td>29_185580</td>\n",
              "      <td>185580</td>\n",
              "      <td>29</td>\n",
              "      <td>01-07-2017 18:01</td>\n",
              "      <td>0</td>\n",
              "      <td>Newsletter</td>\n",
              "      <td>67</td>\n",
              "      <td>61</td>\n",
              "      <td>12</td>\n",
              "      <td>3</td>\n",
              "      <td>0</td>\n",
              "    </tr>\n",
              "  </tbody>\n",
              "</table>\n",
              "</div>"
            ],
            "text/plain": [
              "          id  user_id  campaign_id         send_date  is_open  \\\n",
              "0   42_14051    14051           42  01-09-2017 19:55        0   \n",
              "1  52_134438   134438           52  02-11-2017 12:53        0   \n",
              "2  33_181789   181789           33  24-07-2017 15:15        0   \n",
              "3  44_231448   231448           44  05-09-2017 11:36        0   \n",
              "4  29_185580   185580           29  01-07-2017 18:01        0   \n",
              "\n",
              "  communication_type  total_links  no_of_internal_links  no_of_images  \\\n",
              "0         Newsletter           88                    79            13   \n",
              "1         Newsletter           67                    62            10   \n",
              "2             Others            7                     3             1   \n",
              "3    Upcoming Events           60                    56            19   \n",
              "4         Newsletter           67                    61            12   \n",
              "\n",
              "   no_of_sections  is_click  \n",
              "0               4         0  \n",
              "1               4         0  \n",
              "2               1         0  \n",
              "3               6         0  \n",
              "4               3         0  "
            ]
          },
          "metadata": {
            "tags": []
          },
          "execution_count": 127
        }
      ]
    },
    {
      "metadata": {
        "id": "_rVnaQGpsAq5",
        "colab_type": "text"
      },
      "cell_type": "markdown",
      "source": [
        "# **Dropping some columns**"
      ]
    },
    {
      "metadata": {
        "id": "gKSAVGB5r_Tt",
        "colab_type": "code",
        "colab": {
          "autoexec": {
            "startup": false,
            "wait_interval": 0
          }
        }
      },
      "cell_type": "code",
      "source": [
        "df=df.drop(['id', 'user_id','campaign_id','send_date'], axis=1)"
      ],
      "execution_count": 0,
      "outputs": []
    },
    {
      "metadata": {
        "id": "tV5_pR8x8VXg",
        "colab_type": "text"
      },
      "cell_type": "markdown",
      "source": [
        "# **Visualization**"
      ]
    },
    {
      "metadata": {
        "id": "kIlRj-ML8Nua",
        "colab_type": "code",
        "colab": {
          "autoexec": {
            "startup": false,
            "wait_interval": 0
          },
          "output_extras": [
            {}
          ],
          "base_uri": "https://localhost:8080/",
          "height": 153
        },
        "outputId": "28a20b7a-6552-4645-b508-977be83e8dcc",
        "executionInfo": {
          "status": "ok",
          "timestamp": 1522056582863,
          "user_tz": -330,
          "elapsed": 726,
          "user": {
            "displayName": "Nitesh Tiwari",
            "photoUrl": "//lh3.googleusercontent.com/-9Nv5B-a3Ey0/AAAAAAAAAAI/AAAAAAAAAfk/2lqa15W2g-k/s50-c-k-no/photo.jpg",
            "userId": "103011910892907793236"
          }
        }
      },
      "cell_type": "code",
      "source": [
        "df.dtypes"
      ],
      "execution_count": 0,
      "outputs": [
        {
          "output_type": "execute_result",
          "data": {
            "text/plain": [
              "is_open                  int64\n",
              "communication_type      object\n",
              "total_links              int64\n",
              "no_of_internal_links     int64\n",
              "no_of_images             int64\n",
              "no_of_sections           int64\n",
              "is_click                 int64\n",
              "dtype: object"
            ]
          },
          "metadata": {
            "tags": []
          },
          "execution_count": 21
        }
      ]
    },
    {
      "metadata": {
        "id": "iYZsL9_s9FrZ",
        "colab_type": "code",
        "colab": {
          "autoexec": {
            "startup": false,
            "wait_interval": 0
          },
          "output_extras": [
            {}
          ],
          "base_uri": "https://localhost:8080/",
          "height": 68
        },
        "outputId": "6809caba-8207-43fd-edbd-e1b79771f6f7",
        "executionInfo": {
          "status": "ok",
          "timestamp": 1522056585307,
          "user_tz": -330,
          "elapsed": 744,
          "user": {
            "displayName": "Nitesh Tiwari",
            "photoUrl": "//lh3.googleusercontent.com/-9Nv5B-a3Ey0/AAAAAAAAAAI/AAAAAAAAAfk/2lqa15W2g-k/s50-c-k-no/photo.jpg",
            "userId": "103011910892907793236"
          }
        }
      },
      "cell_type": "code",
      "source": [
        "df.is_click.value_counts()\n"
      ],
      "execution_count": 0,
      "outputs": [
        {
          "output_type": "execute_result",
          "data": {
            "text/plain": [
              "0    1010409\n",
              "1      12782\n",
              "Name: is_click, dtype: int64"
            ]
          },
          "metadata": {
            "tags": []
          },
          "execution_count": 22
        }
      ]
    },
    {
      "metadata": {
        "id": "RmWZaBhI9aLS",
        "colab_type": "code",
        "colab": {
          "autoexec": {
            "startup": false,
            "wait_interval": 0
          },
          "output_extras": [
            {}
          ],
          "base_uri": "https://localhost:8080/",
          "height": 142
        },
        "outputId": "070383bd-2f03-46ed-9d2f-05f08c38aae7",
        "executionInfo": {
          "status": "ok",
          "timestamp": 1522056590424,
          "user_tz": -330,
          "elapsed": 932,
          "user": {
            "displayName": "Nitesh Tiwari",
            "photoUrl": "//lh3.googleusercontent.com/-9Nv5B-a3Ey0/AAAAAAAAAAI/AAAAAAAAAfk/2lqa15W2g-k/s50-c-k-no/photo.jpg",
            "userId": "103011910892907793236"
          }
        }
      },
      "cell_type": "code",
      "source": [
        "# Overview of summary (isClicked V.S. Not Clicked)\n",
        "Clicked_Summary = df.groupby('is_click')\n",
        "Clicked_Summary.mean()"
      ],
      "execution_count": 0,
      "outputs": [
        {
          "output_type": "execute_result",
          "data": {
            "text/html": [
              "<div>\n",
              "<style scoped>\n",
              "    .dataframe tbody tr th:only-of-type {\n",
              "        vertical-align: middle;\n",
              "    }\n",
              "\n",
              "    .dataframe tbody tr th {\n",
              "        vertical-align: top;\n",
              "    }\n",
              "\n",
              "    .dataframe thead th {\n",
              "        text-align: right;\n",
              "    }\n",
              "</style>\n",
              "<table border=\"1\" class=\"dataframe\">\n",
              "  <thead>\n",
              "    <tr style=\"text-align: right;\">\n",
              "      <th></th>\n",
              "      <th>is_open</th>\n",
              "      <th>total_links</th>\n",
              "      <th>no_of_internal_links</th>\n",
              "      <th>no_of_images</th>\n",
              "      <th>no_of_sections</th>\n",
              "    </tr>\n",
              "    <tr>\n",
              "      <th>is_click</th>\n",
              "      <th></th>\n",
              "      <th></th>\n",
              "      <th></th>\n",
              "      <th></th>\n",
              "      <th></th>\n",
              "    </tr>\n",
              "  </thead>\n",
              "  <tbody>\n",
              "    <tr>\n",
              "      <th>0</th>\n",
              "      <td>0.089081</td>\n",
              "      <td>67.779154</td>\n",
              "      <td>62.436593</td>\n",
              "      <td>9.950169</td>\n",
              "      <td>2.656175</td>\n",
              "    </tr>\n",
              "    <tr>\n",
              "      <th>1</th>\n",
              "      <td>1.000000</td>\n",
              "      <td>66.384290</td>\n",
              "      <td>60.988578</td>\n",
              "      <td>9.833203</td>\n",
              "      <td>2.652324</td>\n",
              "    </tr>\n",
              "  </tbody>\n",
              "</table>\n",
              "</div>"
            ],
            "text/plain": [
              "           is_open  total_links  no_of_internal_links  no_of_images  \\\n",
              "is_click                                                              \n",
              "0         0.089081    67.779154             62.436593      9.950169   \n",
              "1         1.000000    66.384290             60.988578      9.833203   \n",
              "\n",
              "          no_of_sections  \n",
              "is_click                  \n",
              "0               2.656175  \n",
              "1               2.652324  "
            ]
          },
          "metadata": {
            "tags": []
          },
          "execution_count": 23
        }
      ]
    },
    {
      "metadata": {
        "id": "zfz5hEZD9xFp",
        "colab_type": "code",
        "colab": {
          "autoexec": {
            "startup": false,
            "wait_interval": 0
          },
          "output_extras": [
            {}
          ],
          "base_uri": "https://localhost:8080/",
          "height": 153
        },
        "outputId": "0d391d31-99db-4d91-dd6c-204353f1ba98",
        "executionInfo": {
          "status": "ok",
          "timestamp": 1522056618013,
          "user_tz": -330,
          "elapsed": 711,
          "user": {
            "displayName": "Nitesh Tiwari",
            "photoUrl": "//lh3.googleusercontent.com/-9Nv5B-a3Ey0/AAAAAAAAAAI/AAAAAAAAAfk/2lqa15W2g-k/s50-c-k-no/photo.jpg",
            "userId": "103011910892907793236"
          }
        }
      },
      "cell_type": "code",
      "source": [
        "df.isnull().any()"
      ],
      "execution_count": 0,
      "outputs": [
        {
          "output_type": "execute_result",
          "data": {
            "text/plain": [
              "is_open                 False\n",
              "communication_type      False\n",
              "total_links             False\n",
              "no_of_internal_links    False\n",
              "no_of_images            False\n",
              "no_of_sections          False\n",
              "is_click                False\n",
              "dtype: bool"
            ]
          },
          "metadata": {
            "tags": []
          },
          "execution_count": 24
        }
      ]
    },
    {
      "metadata": {
        "id": "FF2koYB4ualL",
        "colab_type": "code",
        "colab": {
          "autoexec": {
            "startup": false,
            "wait_interval": 0
          },
          "output_extras": [
            {}
          ],
          "base_uri": "https://localhost:8080/",
          "height": 297
        },
        "outputId": "336b5eeb-995d-4b1a-aa00-8825f70cb5f7",
        "executionInfo": {
          "status": "ok",
          "timestamp": 1522056622418,
          "user_tz": -330,
          "elapsed": 1112,
          "user": {
            "displayName": "Nitesh Tiwari",
            "photoUrl": "//lh3.googleusercontent.com/-9Nv5B-a3Ey0/AAAAAAAAAAI/AAAAAAAAAfk/2lqa15W2g-k/s50-c-k-no/photo.jpg",
            "userId": "103011910892907793236"
          }
        }
      },
      "cell_type": "code",
      "source": [
        "df.describe()"
      ],
      "execution_count": 0,
      "outputs": [
        {
          "output_type": "execute_result",
          "data": {
            "text/html": [
              "<div>\n",
              "<style scoped>\n",
              "    .dataframe tbody tr th:only-of-type {\n",
              "        vertical-align: middle;\n",
              "    }\n",
              "\n",
              "    .dataframe tbody tr th {\n",
              "        vertical-align: top;\n",
              "    }\n",
              "\n",
              "    .dataframe thead th {\n",
              "        text-align: right;\n",
              "    }\n",
              "</style>\n",
              "<table border=\"1\" class=\"dataframe\">\n",
              "  <thead>\n",
              "    <tr style=\"text-align: right;\">\n",
              "      <th></th>\n",
              "      <th>is_open</th>\n",
              "      <th>total_links</th>\n",
              "      <th>no_of_internal_links</th>\n",
              "      <th>no_of_images</th>\n",
              "      <th>no_of_sections</th>\n",
              "      <th>is_click</th>\n",
              "    </tr>\n",
              "  </thead>\n",
              "  <tbody>\n",
              "    <tr>\n",
              "      <th>count</th>\n",
              "      <td>1.023191e+06</td>\n",
              "      <td>1.023191e+06</td>\n",
              "      <td>1.023191e+06</td>\n",
              "      <td>1.023191e+06</td>\n",
              "      <td>1.023191e+06</td>\n",
              "      <td>1.023191e+06</td>\n",
              "    </tr>\n",
              "    <tr>\n",
              "      <th>mean</th>\n",
              "      <td>1.004602e-01</td>\n",
              "      <td>6.776173e+01</td>\n",
              "      <td>6.241850e+01</td>\n",
              "      <td>9.948708e+00</td>\n",
              "      <td>2.656127e+00</td>\n",
              "      <td>1.249229e-02</td>\n",
              "    </tr>\n",
              "    <tr>\n",
              "      <th>std</th>\n",
              "      <td>3.006128e-01</td>\n",
              "      <td>4.733816e+01</td>\n",
              "      <td>4.606372e+01</td>\n",
              "      <td>4.855467e+00</td>\n",
              "      <td>1.688341e+00</td>\n",
              "      <td>1.110687e-01</td>\n",
              "    </tr>\n",
              "    <tr>\n",
              "      <th>min</th>\n",
              "      <td>0.000000e+00</td>\n",
              "      <td>7.000000e+00</td>\n",
              "      <td>2.000000e+00</td>\n",
              "      <td>1.000000e+00</td>\n",
              "      <td>1.000000e+00</td>\n",
              "      <td>0.000000e+00</td>\n",
              "    </tr>\n",
              "    <tr>\n",
              "      <th>25%</th>\n",
              "      <td>0.000000e+00</td>\n",
              "      <td>2.400000e+01</td>\n",
              "      <td>1.900000e+01</td>\n",
              "      <td>7.000000e+00</td>\n",
              "      <td>1.000000e+00</td>\n",
              "      <td>0.000000e+00</td>\n",
              "    </tr>\n",
              "    <tr>\n",
              "      <th>50%</th>\n",
              "      <td>0.000000e+00</td>\n",
              "      <td>6.700000e+01</td>\n",
              "      <td>6.100000e+01</td>\n",
              "      <td>1.200000e+01</td>\n",
              "      <td>3.000000e+00</td>\n",
              "      <td>0.000000e+00</td>\n",
              "    </tr>\n",
              "    <tr>\n",
              "      <th>75%</th>\n",
              "      <td>0.000000e+00</td>\n",
              "      <td>1.040000e+02</td>\n",
              "      <td>1.000000e+02</td>\n",
              "      <td>1.300000e+01</td>\n",
              "      <td>4.000000e+00</td>\n",
              "      <td>0.000000e+00</td>\n",
              "    </tr>\n",
              "    <tr>\n",
              "      <th>max</th>\n",
              "      <td>1.000000e+00</td>\n",
              "      <td>2.030000e+02</td>\n",
              "      <td>1.910000e+02</td>\n",
              "      <td>1.900000e+01</td>\n",
              "      <td>6.000000e+00</td>\n",
              "      <td>1.000000e+00</td>\n",
              "    </tr>\n",
              "  </tbody>\n",
              "</table>\n",
              "</div>"
            ],
            "text/plain": [
              "            is_open   total_links  no_of_internal_links  no_of_images  \\\n",
              "count  1.023191e+06  1.023191e+06          1.023191e+06  1.023191e+06   \n",
              "mean   1.004602e-01  6.776173e+01          6.241850e+01  9.948708e+00   \n",
              "std    3.006128e-01  4.733816e+01          4.606372e+01  4.855467e+00   \n",
              "min    0.000000e+00  7.000000e+00          2.000000e+00  1.000000e+00   \n",
              "25%    0.000000e+00  2.400000e+01          1.900000e+01  7.000000e+00   \n",
              "50%    0.000000e+00  6.700000e+01          6.100000e+01  1.200000e+01   \n",
              "75%    0.000000e+00  1.040000e+02          1.000000e+02  1.300000e+01   \n",
              "max    1.000000e+00  2.030000e+02          1.910000e+02  1.900000e+01   \n",
              "\n",
              "       no_of_sections      is_click  \n",
              "count    1.023191e+06  1.023191e+06  \n",
              "mean     2.656127e+00  1.249229e-02  \n",
              "std      1.688341e+00  1.110687e-01  \n",
              "min      1.000000e+00  0.000000e+00  \n",
              "25%      1.000000e+00  0.000000e+00  \n",
              "50%      3.000000e+00  0.000000e+00  \n",
              "75%      4.000000e+00  0.000000e+00  \n",
              "max      6.000000e+00  1.000000e+00  "
            ]
          },
          "metadata": {
            "tags": []
          },
          "execution_count": 25
        }
      ]
    },
    {
      "metadata": {
        "id": "ekTi7_xWuc_B",
        "colab_type": "code",
        "colab": {
          "autoexec": {
            "startup": false,
            "wait_interval": 0
          },
          "output_extras": [
            {},
            {}
          ],
          "base_uri": "https://localhost:8080/",
          "height": 577
        },
        "outputId": "8ac224cc-d38b-4381-93c8-1ca83bdd0522",
        "executionInfo": {
          "status": "ok",
          "timestamp": 1522056628760,
          "user_tz": -330,
          "elapsed": 1207,
          "user": {
            "displayName": "Nitesh Tiwari",
            "photoUrl": "//lh3.googleusercontent.com/-9Nv5B-a3Ey0/AAAAAAAAAAI/AAAAAAAAAfk/2lqa15W2g-k/s50-c-k-no/photo.jpg",
            "userId": "103011910892907793236"
          }
        }
      },
      "cell_type": "code",
      "source": [
        "#Correlation Matrix\n",
        "corr = df.corr()\n",
        "corr = (corr)\n",
        "sns.heatmap(corr, \n",
        "            xticklabels=corr.columns.values,\n",
        "            yticklabels=corr.columns.values)\n",
        "sns.plt.title('Heatmap of Correlation Matrix')\n",
        "corr"
      ],
      "execution_count": 0,
      "outputs": [
        {
          "output_type": "execute_result",
          "data": {
            "text/html": [
              "<div>\n",
              "<style scoped>\n",
              "    .dataframe tbody tr th:only-of-type {\n",
              "        vertical-align: middle;\n",
              "    }\n",
              "\n",
              "    .dataframe tbody tr th {\n",
              "        vertical-align: top;\n",
              "    }\n",
              "\n",
              "    .dataframe thead th {\n",
              "        text-align: right;\n",
              "    }\n",
              "</style>\n",
              "<table border=\"1\" class=\"dataframe\">\n",
              "  <thead>\n",
              "    <tr style=\"text-align: right;\">\n",
              "      <th></th>\n",
              "      <th>is_open</th>\n",
              "      <th>total_links</th>\n",
              "      <th>no_of_internal_links</th>\n",
              "      <th>no_of_images</th>\n",
              "      <th>no_of_sections</th>\n",
              "      <th>is_click</th>\n",
              "    </tr>\n",
              "  </thead>\n",
              "  <tbody>\n",
              "    <tr>\n",
              "      <th>is_open</th>\n",
              "      <td>1.000000</td>\n",
              "      <td>-0.146731</td>\n",
              "      <td>-0.146681</td>\n",
              "      <td>-0.179535</td>\n",
              "      <td>-0.080381</td>\n",
              "      <td>0.336561</td>\n",
              "    </tr>\n",
              "    <tr>\n",
              "      <th>total_links</th>\n",
              "      <td>-0.146731</td>\n",
              "      <td>1.000000</td>\n",
              "      <td>0.998505</td>\n",
              "      <td>0.713043</td>\n",
              "      <td>0.389381</td>\n",
              "      <td>-0.003273</td>\n",
              "    </tr>\n",
              "    <tr>\n",
              "      <th>no_of_internal_links</th>\n",
              "      <td>-0.146681</td>\n",
              "      <td>0.998505</td>\n",
              "      <td>1.000000</td>\n",
              "      <td>0.718521</td>\n",
              "      <td>0.368877</td>\n",
              "      <td>-0.003491</td>\n",
              "    </tr>\n",
              "    <tr>\n",
              "      <th>no_of_images</th>\n",
              "      <td>-0.179535</td>\n",
              "      <td>0.713043</td>\n",
              "      <td>0.718521</td>\n",
              "      <td>1.000000</td>\n",
              "      <td>0.533472</td>\n",
              "      <td>-0.002676</td>\n",
              "    </tr>\n",
              "    <tr>\n",
              "      <th>no_of_sections</th>\n",
              "      <td>-0.080381</td>\n",
              "      <td>0.389381</td>\n",
              "      <td>0.368877</td>\n",
              "      <td>0.533472</td>\n",
              "      <td>1.000000</td>\n",
              "      <td>-0.000253</td>\n",
              "    </tr>\n",
              "    <tr>\n",
              "      <th>is_click</th>\n",
              "      <td>0.336561</td>\n",
              "      <td>-0.003273</td>\n",
              "      <td>-0.003491</td>\n",
              "      <td>-0.002676</td>\n",
              "      <td>-0.000253</td>\n",
              "      <td>1.000000</td>\n",
              "    </tr>\n",
              "  </tbody>\n",
              "</table>\n",
              "</div>"
            ],
            "text/plain": [
              "                       is_open  total_links  no_of_internal_links  \\\n",
              "is_open               1.000000    -0.146731             -0.146681   \n",
              "total_links          -0.146731     1.000000              0.998505   \n",
              "no_of_internal_links -0.146681     0.998505              1.000000   \n",
              "no_of_images         -0.179535     0.713043              0.718521   \n",
              "no_of_sections       -0.080381     0.389381              0.368877   \n",
              "is_click              0.336561    -0.003273             -0.003491   \n",
              "\n",
              "                      no_of_images  no_of_sections  is_click  \n",
              "is_open                  -0.179535       -0.080381  0.336561  \n",
              "total_links               0.713043        0.389381 -0.003273  \n",
              "no_of_internal_links      0.718521        0.368877 -0.003491  \n",
              "no_of_images              1.000000        0.533472 -0.002676  \n",
              "no_of_sections            0.533472        1.000000 -0.000253  \n",
              "is_click                 -0.002676       -0.000253  1.000000  "
            ]
          },
          "metadata": {
            "tags": []
          },
          "execution_count": 26
        },
        {
          "output_type": "display_data",
          "data": {
            "image/png": "[encoded data removed]",
            "text/plain": [
              "<matplotlib.figure.Figure at 0x7f959d814278>"
            ]
          },
          "metadata": {
            "tags": []
          }
        }
      ]
    },
    {
      "metadata": {
        "id": "7pdrnOMHuc8f",
        "colab_type": "code",
        "colab": {
          "autoexec": {
            "startup": false,
            "wait_interval": 0
          }
        }
      },
      "cell_type": "code",
      "source": [
        "import seaborn as sns"
      ],
      "execution_count": 0,
      "outputs": []
    },
    {
      "metadata": {
        "id": "ic2w-kOVuc4q",
        "colab_type": "code",
        "colab": {
          "autoexec": {
            "startup": false,
            "wait_interval": 0
          },
          "output_extras": [
            {},
            {},
            {}
          ],
          "base_uri": "https://localhost:8080/",
          "height": 330
        },
        "outputId": "ba12bbdc-0c34-4c24-afe0-910287e9f163",
        "executionInfo": {
          "status": "ok",
          "timestamp": 1522056871467,
          "user_tz": -330,
          "elapsed": 699,
          "user": {
            "displayName": "Nitesh Tiwari",
            "photoUrl": "//lh3.googleusercontent.com/-9Nv5B-a3Ey0/AAAAAAAAAAI/AAAAAAAAAfk/2lqa15W2g-k/s50-c-k-no/photo.jpg",
            "userId": "103011910892907793236"
          }
        }
      },
      "cell_type": "code",
      "source": [
        "sns.boxplot(x=\"is_click\", y=\"total_links\", data=df)"
      ],
      "execution_count": 0,
      "outputs": [
        {
          "output_type": "stream",
          "text": [
            "/usr/local/lib/python3.6/dist-packages/seaborn/categorical.py:454: FutureWarning: remove_na is deprecated and is a private function. Do not use.\n",
            "  box_data = remove_na(group_data)\n"
          ],
          "name": "stderr"
        },
        {
          "output_type": "execute_result",
          "data": {
            "text/plain": [
              "<matplotlib.axes._subplots.AxesSubplot at 0x7f959d7bd6a0>"
            ]
          },
          "metadata": {
            "tags": []
          },
          "execution_count": 28
        },
        {
          "output_type": "display_data",
          "data": {
            "image/png": "[encoded data removed]",
            "text/plain": [
              "<matplotlib.figure.Figure at 0x7f959d7fdba8>"
            ]
          },
          "metadata": {
            "tags": []
          }
        }
      ]
    },
    {
      "metadata": {
        "id": "3ZSsZn23qLqC",
        "colab_type": "code",
        "colab": {
          "autoexec": {
            "startup": false,
            "wait_interval": 0
          },
          "output_extras": [
            {},
            {},
            {}
          ],
          "base_uri": "https://localhost:8080/",
          "height": 334
        },
        "outputId": "1f7880a0-e8ea-4fd8-f5c8-201b46b8d29f",
        "executionInfo": {
          "status": "ok",
          "timestamp": 1522056914005,
          "user_tz": -330,
          "elapsed": 713,
          "user": {
            "displayName": "Nitesh Tiwari",
            "photoUrl": "//lh3.googleusercontent.com/-9Nv5B-a3Ey0/AAAAAAAAAAI/AAAAAAAAAfk/2lqa15W2g-k/s50-c-k-no/photo.jpg",
            "userId": "103011910892907793236"
          }
        }
      },
      "cell_type": "code",
      "source": [
        "sns.boxplot(x=\"is_click\", y=\"no_of_internal_links\", data=df)"
      ],
      "execution_count": 0,
      "outputs": [
        {
          "output_type": "stream",
          "text": [
            "/usr/local/lib/python3.6/dist-packages/seaborn/categorical.py:454: FutureWarning: remove_na is deprecated and is a private function. Do not use.\n",
            "  box_data = remove_na(group_data)\n"
          ],
          "name": "stderr"
        },
        {
          "output_type": "execute_result",
          "data": {
            "text/plain": [
              "<matplotlib.axes._subplots.AxesSubplot at 0x7f959b64d400>"
            ]
          },
          "metadata": {
            "tags": []
          },
          "execution_count": 29
        },
        {
          "output_type": "display_data",
          "data": {
            "image/png": "[encoded data removed]",
            "text/plain": [
              "<matplotlib.figure.Figure at 0x7f959b6b6a58>"
            ]
          },
          "metadata": {
            "tags": []
          }
        }
      ]
    },
    {
      "metadata": {
        "id": "zshsJWoCqWCv",
        "colab_type": "code",
        "colab": {
          "autoexec": {
            "startup": false,
            "wait_interval": 0
          },
          "output_extras": [
            {},
            {},
            {}
          ],
          "base_uri": "https://localhost:8080/",
          "height": 330
        },
        "outputId": "a1ffa8f8-170c-4fe5-d441-33d4315de10d",
        "executionInfo": {
          "status": "ok",
          "timestamp": 1522056945198,
          "user_tz": -330,
          "elapsed": 939,
          "user": {
            "displayName": "Nitesh Tiwari",
            "photoUrl": "//lh3.googleusercontent.com/-9Nv5B-a3Ey0/AAAAAAAAAAI/AAAAAAAAAfk/2lqa15W2g-k/s50-c-k-no/photo.jpg",
            "userId": "103011910892907793236"
          }
        }
      },
      "cell_type": "code",
      "source": [
        "sns.boxplot(x=\"is_click\", y=\"no_of_images\", data=df)"
      ],
      "execution_count": 0,
      "outputs": [
        {
          "output_type": "stream",
          "text": [
            "/usr/local/lib/python3.6/dist-packages/seaborn/categorical.py:454: FutureWarning: remove_na is deprecated and is a private function. Do not use.\n",
            "  box_data = remove_na(group_data)\n"
          ],
          "name": "stderr"
        },
        {
          "output_type": "execute_result",
          "data": {
            "text/plain": [
              "<matplotlib.axes._subplots.AxesSubplot at 0x7f959b644b38>"
            ]
          },
          "metadata": {
            "tags": []
          },
          "execution_count": 30
        },
        {
          "output_type": "display_data",
          "data": {
            "image/png": "[encoded data removed]",
            "text/plain": [
              "<matplotlib.figure.Figure at 0x7f959b644470>"
            ]
          },
          "metadata": {
            "tags": []
          }
        }
      ]
    },
    {
      "metadata": {
        "id": "zmNxXZtvqdng",
        "colab_type": "code",
        "colab": {
          "autoexec": {
            "startup": false,
            "wait_interval": 0
          },
          "output_extras": [
            {},
            {},
            {}
          ],
          "base_uri": "https://localhost:8080/",
          "height": 330
        },
        "outputId": "2e51b60a-0474-4b9c-fdab-901bbaae6098",
        "executionInfo": {
          "status": "ok",
          "timestamp": 1522056974623,
          "user_tz": -330,
          "elapsed": 2384,
          "user": {
            "displayName": "Nitesh Tiwari",
            "photoUrl": "//lh3.googleusercontent.com/-9Nv5B-a3Ey0/AAAAAAAAAAI/AAAAAAAAAfk/2lqa15W2g-k/s50-c-k-no/photo.jpg",
            "userId": "103011910892907793236"
          }
        }
      },
      "cell_type": "code",
      "source": [
        "sns.boxplot(x=\"is_click\", y=\"no_of_sections\", data=df)"
      ],
      "execution_count": 0,
      "outputs": [
        {
          "output_type": "stream",
          "text": [
            "/usr/local/lib/python3.6/dist-packages/seaborn/categorical.py:454: FutureWarning: remove_na is deprecated and is a private function. Do not use.\n",
            "  box_data = remove_na(group_data)\n"
          ],
          "name": "stderr"
        },
        {
          "output_type": "execute_result",
          "data": {
            "text/plain": [
              "<matplotlib.axes._subplots.AxesSubplot at 0x7f959b5b70f0>"
            ]
          },
          "metadata": {
            "tags": []
          },
          "execution_count": 31
        },
        {
          "output_type": "display_data",
          "data": {
            "image/png": "[encoded data removed]",
            "text/plain": [
              "<matplotlib.figure.Figure at 0x7f959b60b6a0>"
            ]
          },
          "metadata": {
            "tags": []
          }
        }
      ]
    },
    {
      "metadata": {
        "id": "H40qTiZ1qkcH",
        "colab_type": "code",
        "colab": {
          "autoexec": {
            "startup": false,
            "wait_interval": 0
          },
          "output_extras": [
            {},
            {}
          ],
          "base_uri": "https://localhost:8080/",
          "height": 1340
        },
        "outputId": "2cf53b9c-467c-4cf1-a165-49b71ee9169c",
        "executionInfo": {
          "status": "ok",
          "timestamp": 1522057453560,
          "user_tz": -330,
          "elapsed": 334509,
          "user": {
            "displayName": "Nitesh Tiwari",
            "photoUrl": "//lh3.googleusercontent.com/-9Nv5B-a3Ey0/AAAAAAAAAAI/AAAAAAAAAfk/2lqa15W2g-k/s50-c-k-no/photo.jpg",
            "userId": "103011910892907793236"
          }
        }
      },
      "cell_type": "code",
      "source": [
        "#sns.pairplot(df, hue=\"is_click\", size=3)"
      ],
      "execution_count": 0,
      "outputs": [
        {
          "output_type": "execute_result",
          "data": {
            "text/plain": [
              "<seaborn.axisgrid.PairGrid at 0x7f959b53a4a8>"
            ]
          },
          "metadata": {
            "tags": []
          },
          "execution_count": 32
        },
        {
          "output_type": "display_data",
          "data": {
            "image/png": "[encoded data removed]",
            "text/plain": [
              "<matplotlib.figure.Figure at 0x7f959b53a518>"
            ]
          },
          "metadata": {
            "tags": []
          }
        }
      ]
    },
    {
      "metadata": {
        "id": "GpK1g_3WlKMe",
        "colab_type": "text"
      },
      "cell_type": "markdown",
      "source": [
        "# **Down-sampling**"
      ]
    },
    {
      "metadata": {
        "id": "1Fj0q-JBlM3p",
        "colab_type": "code",
        "colab": {
          "autoexec": {
            "startup": false,
            "wait_interval": 0
          },
          "output_extras": [
            {
              "item_id": 1
            }
          ],
          "base_uri": "https://localhost:8080/",
          "height": 34
        },
        "outputId": "72f90808-0c4f-4479-88bf-845b1d075f78",
        "executionInfo": {
          "status": "ok",
          "timestamp": 1522329907902,
          "user_tz": -330,
          "elapsed": 753,
          "user": {
            "displayName": "Pujya Shri",
            "photoUrl": "//lh6.googleusercontent.com/-iciFMuB7JtY/AAAAAAAAAAI/AAAAAAAAAGU/Cps-5eWtYmQ/s50-c-k-no/photo.jpg",
            "userId": "106502613669313135092"
          }
        }
      },
      "cell_type": "code",
      "source": [
        "len(df[df.is_click==0])"
      ],
      "execution_count": 117,
      "outputs": [
        {
          "output_type": "execute_result",
          "data": {
            "text/plain": [
              "1010409"
            ]
          },
          "metadata": {
            "tags": []
          },
          "execution_count": 117
        }
      ]
    },
    {
      "metadata": {
        "id": "qiglzBszx-m6",
        "colab_type": "code",
        "colab": {
          "autoexec": {
            "startup": false,
            "wait_interval": 0
          },
          "output_extras": [
            {
              "item_id": 1
            }
          ],
          "base_uri": "https://localhost:8080/",
          "height": 34
        },
        "outputId": "061daf7c-bc57-46e5-ca55-e4595431ca83",
        "executionInfo": {
          "status": "ok",
          "timestamp": 1522329911287,
          "user_tz": -330,
          "elapsed": 1065,
          "user": {
            "displayName": "Pujya Shri",
            "photoUrl": "//lh6.googleusercontent.com/-iciFMuB7JtY/AAAAAAAAAAI/AAAAAAAAAGU/Cps-5eWtYmQ/s50-c-k-no/photo.jpg",
            "userId": "106502613669313135092"
          }
        }
      },
      "cell_type": "code",
      "source": [
        "len(df[df.is_click==1])"
      ],
      "execution_count": 118,
      "outputs": [
        {
          "output_type": "execute_result",
          "data": {
            "text/plain": [
              "12782"
            ]
          },
          "metadata": {
            "tags": []
          },
          "execution_count": 118
        }
      ]
    },
    {
      "metadata": {
        "id": "c-EU-oOnyVTR",
        "colab_type": "code",
        "colab": {
          "autoexec": {
            "startup": false,
            "wait_interval": 0
          }
        }
      },
      "cell_type": "code",
      "source": [
        "\tfrom sklearn.utils import resample"
      ],
      "execution_count": 0,
      "outputs": []
    },
    {
      "metadata": {
        "id": "XZWzn2-wlM0b",
        "colab_type": "code",
        "colab": {
          "autoexec": {
            "startup": false,
            "wait_interval": 0
          },
          "output_extras": [
            {
              "item_id": 1
            }
          ],
          "base_uri": "https://localhost:8080/",
          "height": 68
        },
        "outputId": "fd399b2e-91dc-4a27-88a4-ff23ced216d9",
        "executionInfo": {
          "status": "ok",
          "timestamp": 1522329965797,
          "user_tz": -330,
          "elapsed": 796,
          "user": {
            "displayName": "Pujya Shri",
            "photoUrl": "//lh6.googleusercontent.com/-iciFMuB7JtY/AAAAAAAAAAI/AAAAAAAAAGU/Cps-5eWtYmQ/s50-c-k-no/photo.jpg",
            "userId": "106502613669313135092"
          }
        }
      },
      "cell_type": "code",
      "source": [
        "# Separate majority and minority classes\n",
        "df_majority = df[df.is_click==0]\n",
        "df_minority = df[df.is_click==1]\n",
        " \n",
        "# Downsample majority class\n",
        "df_majority_downsampled = resample(df_majority, \n",
        "                                 replace=False,    # sample without replacement\n",
        "                                 n_samples=12782,     # to match minority class\n",
        "                                 random_state=123) # reproducible results\n",
        " \n",
        "# Combine minority class with downsampled majority class\n",
        "dfd = pd.concat([df_majority_downsampled, df_minority])\n",
        " \n",
        "# Display new class counts\n",
        "dfd.is_click.value_counts()"
      ],
      "execution_count": 123,
      "outputs": [
        {
          "output_type": "execute_result",
          "data": {
            "text/plain": [
              "1    12782\n",
              "0    12782\n",
              "Name: is_click, dtype: int64"
            ]
          },
          "metadata": {
            "tags": []
          },
          "execution_count": 123
        }
      ]
    },
    {
      "metadata": {
        "id": "Z9S4OPGSuQgX",
        "colab_type": "text"
      },
      "cell_type": "markdown",
      "source": [
        "# **MODELING**"
      ]
    },
    {
      "metadata": {
        "id": "lVatZAiwtgUX",
        "colab_type": "code",
        "colab": {
          "autoexec": {
            "startup": false,
            "wait_interval": 0
          },
          "output_extras": [
            {
              "item_id": 1
            }
          ],
          "base_uri": "https://localhost:8080/",
          "height": 204
        },
        "outputId": "43c601d0-7273-4f4e-df90-0799e3b2ac4f",
        "executionInfo": {
          "status": "ok",
          "timestamp": 1522337242086,
          "user_tz": -330,
          "elapsed": 1442,
          "user": {
            "displayName": "Pujya Shri",
            "photoUrl": "//lh6.googleusercontent.com/-iciFMuB7JtY/AAAAAAAAAAI/AAAAAAAAAGU/Cps-5eWtYmQ/s50-c-k-no/photo.jpg",
            "userId": "106502613669313135092"
          }
        }
      },
      "cell_type": "code",
      "source": [
        "dfd.head()"
      ],
      "execution_count": 209,
      "outputs": [
        {
          "output_type": "execute_result",
          "data": {
            "text/html": [
              "<div>\n",
              "<style scoped>\n",
              "    .dataframe tbody tr th:only-of-type {\n",
              "        vertical-align: middle;\n",
              "    }\n",
              "\n",
              "    .dataframe tbody tr th {\n",
              "        vertical-align: top;\n",
              "    }\n",
              "\n",
              "    .dataframe thead th {\n",
              "        text-align: right;\n",
              "    }\n",
              "</style>\n",
              "<table border=\"1\" class=\"dataframe\">\n",
              "  <thead>\n",
              "    <tr style=\"text-align: right;\">\n",
              "      <th></th>\n",
              "      <th>is_open</th>\n",
              "      <th>communication_type</th>\n",
              "      <th>total_links</th>\n",
              "      <th>no_of_images</th>\n",
              "      <th>is_click</th>\n",
              "    </tr>\n",
              "  </thead>\n",
              "  <tbody>\n",
              "    <tr>\n",
              "      <th>23089</th>\n",
              "      <td>0</td>\n",
              "      <td>Newsletter</td>\n",
              "      <td>0.413265</td>\n",
              "      <td>0.666667</td>\n",
              "      <td>0</td>\n",
              "    </tr>\n",
              "    <tr>\n",
              "      <th>777530</th>\n",
              "      <td>0</td>\n",
              "      <td>Conference</td>\n",
              "      <td>0.030612</td>\n",
              "      <td>0.055556</td>\n",
              "      <td>0</td>\n",
              "    </tr>\n",
              "    <tr>\n",
              "      <th>649845</th>\n",
              "      <td>0</td>\n",
              "      <td>Conference</td>\n",
              "      <td>0.571429</td>\n",
              "      <td>0.833333</td>\n",
              "      <td>0</td>\n",
              "    </tr>\n",
              "    <tr>\n",
              "      <th>165758</th>\n",
              "      <td>0</td>\n",
              "      <td>Others</td>\n",
              "      <td>0.000000</td>\n",
              "      <td>0.000000</td>\n",
              "      <td>0</td>\n",
              "    </tr>\n",
              "    <tr>\n",
              "      <th>415620</th>\n",
              "      <td>0</td>\n",
              "      <td>Conference</td>\n",
              "      <td>0.494898</td>\n",
              "      <td>0.666667</td>\n",
              "      <td>0</td>\n",
              "    </tr>\n",
              "  </tbody>\n",
              "</table>\n",
              "</div>"
            ],
            "text/plain": [
              "        is_open communication_type  total_links  no_of_images  is_click\n",
              "23089         0         Newsletter     0.413265      0.666667         0\n",
              "777530        0         Conference     0.030612      0.055556         0\n",
              "649845        0         Conference     0.571429      0.833333         0\n",
              "165758        0             Others     0.000000      0.000000         0\n",
              "415620        0         Conference     0.494898      0.666667         0"
            ]
          },
          "metadata": {
            "tags": []
          },
          "execution_count": 209
        }
      ]
    },
    {
      "metadata": {
        "id": "L24Yy2z9t78H",
        "colab_type": "code",
        "colab": {
          "autoexec": {
            "startup": false,
            "wait_interval": 0
          }
        }
      },
      "cell_type": "code",
      "source": [
        "dfd=dfd.drop(['no_of_internal_links','no_of_sections','subject'], axis=1)"
      ],
      "execution_count": 0,
      "outputs": []
    },
    {
      "metadata": {
        "id": "vb9t_gdru09C",
        "colab_type": "code",
        "colab": {
          "autoexec": {
            "startup": false,
            "wait_interval": 0
          }
        }
      },
      "cell_type": "code",
      "source": [
        "dfd['is_open']=dfd['is_open'].astype('object')"
      ],
      "execution_count": 0,
      "outputs": []
    },
    {
      "metadata": {
        "id": "EaxTim3xt748",
        "colab_type": "code",
        "colab": {
          "autoexec": {
            "startup": false,
            "wait_interval": 0
          }
        }
      },
      "cell_type": "code",
      "source": [
        "#dfd['is_click']=df['is_click'].astype('object')"
      ],
      "execution_count": 0,
      "outputs": []
    },
    {
      "metadata": {
        "id": "230DWXz4t72L",
        "colab_type": "code",
        "colab": {
          "autoexec": {
            "startup": false,
            "wait_interval": 0
          },
          "output_extras": [
            {
              "item_id": 1
            }
          ],
          "base_uri": "https://localhost:8080/",
          "height": 119
        },
        "outputId": "a1b023eb-f790-45c4-fe90-26cf1157306e",
        "executionInfo": {
          "status": "ok",
          "timestamp": 1522337262834,
          "user_tz": -330,
          "elapsed": 797,
          "user": {
            "displayName": "Pujya Shri",
            "photoUrl": "//lh6.googleusercontent.com/-iciFMuB7JtY/AAAAAAAAAAI/AAAAAAAAAGU/Cps-5eWtYmQ/s50-c-k-no/photo.jpg",
            "userId": "106502613669313135092"
          }
        }
      },
      "cell_type": "code",
      "source": [
        "dfd.dtypes"
      ],
      "execution_count": 211,
      "outputs": [
        {
          "output_type": "execute_result",
          "data": {
            "text/plain": [
              "is_open                object\n",
              "communication_type     object\n",
              "total_links           float64\n",
              "no_of_images          float64\n",
              "is_click                int64\n",
              "dtype: object"
            ]
          },
          "metadata": {
            "tags": []
          },
          "execution_count": 211
        }
      ]
    },
    {
      "metadata": {
        "id": "AM512Eibxnbz",
        "colab_type": "code",
        "colab": {
          "autoexec": {
            "startup": false,
            "wait_interval": 0
          }
        }
      },
      "cell_type": "code",
      "source": [
        "df_old=dfd"
      ],
      "execution_count": 0,
      "outputs": []
    },
    {
      "metadata": {
        "id": "335L-Pp5xWh2",
        "colab_type": "code",
        "colab": {
          "autoexec": {
            "startup": false,
            "wait_interval": 0
          }
        }
      },
      "cell_type": "code",
      "source": [
        "from sklearn.preprocessing import MinMaxScaler\n",
        "scaler = MinMaxScaler()\n",
        "dfd[['total_links','no_of_images']] = scaler.fit_transform(dfd[['total_links','no_of_images']])"
      ],
      "execution_count": 0,
      "outputs": []
    },
    {
      "metadata": {
        "id": "F8LzGAzozM06",
        "colab_type": "code",
        "colab": {
          "autoexec": {
            "startup": false,
            "wait_interval": 0
          }
        }
      },
      "cell_type": "code",
      "source": [
        "df['is_open']=df['is_open'].astype('object')"
      ],
      "execution_count": 0,
      "outputs": []
    },
    {
      "metadata": {
        "id": "YJbIVdS_V1cf",
        "colab_type": "code",
        "colab": {
          "autoexec": {
            "startup": false,
            "wait_interval": 0
          },
          "output_extras": [
            {
              "item_id": 1
            }
          ],
          "base_uri": "https://localhost:8080/",
          "height": 170
        },
        "outputId": "92d49c1c-06e4-40e8-ef3d-6e79421c06d6",
        "executionInfo": {
          "status": "ok",
          "timestamp": 1522337276585,
          "user_tz": -330,
          "elapsed": 890,
          "user": {
            "displayName": "Pujya Shri",
            "photoUrl": "//lh6.googleusercontent.com/-iciFMuB7JtY/AAAAAAAAAAI/AAAAAAAAAGU/Cps-5eWtYmQ/s50-c-k-no/photo.jpg",
            "userId": "106502613669313135092"
          }
        }
      },
      "cell_type": "code",
      "source": [
        "df.dtypes"
      ],
      "execution_count": 215,
      "outputs": [
        {
          "output_type": "execute_result",
          "data": {
            "text/plain": [
              "is_open                 object\n",
              "communication_type      object\n",
              "total_links              int64\n",
              "no_of_internal_links     int64\n",
              "no_of_images             int64\n",
              "no_of_sections           int64\n",
              "is_click                 int64\n",
              "subject                 object\n",
              "dtype: object"
            ]
          },
          "metadata": {
            "tags": []
          },
          "execution_count": 215
        }
      ]
    },
    {
      "metadata": {
        "id": "tOQ8UCkMvPRv",
        "colab_type": "code",
        "colab": {
          "autoexec": {
            "startup": false,
            "wait_interval": 0
          }
        }
      },
      "cell_type": "code",
      "source": [
        "y = dfd.is_click\n",
        "X = dfd.drop('is_click', axis=1)"
      ],
      "execution_count": 0,
      "outputs": []
    },
    {
      "metadata": {
        "id": "440ldLFEviSf",
        "colab_type": "code",
        "colab": {
          "autoexec": {
            "startup": false,
            "wait_interval": 0
          },
          "output_extras": [
            {
              "item_id": 1
            }
          ],
          "base_uri": "https://localhost:8080/",
          "height": 204
        },
        "outputId": "5cfa1db0-c8e3-4524-fc05-04b1896da828",
        "executionInfo": {
          "status": "ok",
          "timestamp": 1522330058921,
          "user_tz": -330,
          "elapsed": 880,
          "user": {
            "displayName": "Pujya Shri",
            "photoUrl": "//lh6.googleusercontent.com/-iciFMuB7JtY/AAAAAAAAAAI/AAAAAAAAAGU/Cps-5eWtYmQ/s50-c-k-no/photo.jpg",
            "userId": "106502613669313135092"
          }
        }
      },
      "cell_type": "code",
      "source": [
        "X.head()"
      ],
      "execution_count": 131,
      "outputs": [
        {
          "output_type": "execute_result",
          "data": {
            "text/html": [
              "<div>\n",
              "<style scoped>\n",
              "    .dataframe tbody tr th:only-of-type {\n",
              "        vertical-align: middle;\n",
              "    }\n",
              "\n",
              "    .dataframe tbody tr th {\n",
              "        vertical-align: top;\n",
              "    }\n",
              "\n",
              "    .dataframe thead th {\n",
              "        text-align: right;\n",
              "    }\n",
              "</style>\n",
              "<table border=\"1\" class=\"dataframe\">\n",
              "  <thead>\n",
              "    <tr style=\"text-align: right;\">\n",
              "      <th></th>\n",
              "      <th>is_open</th>\n",
              "      <th>communication_type</th>\n",
              "      <th>total_links</th>\n",
              "      <th>no_of_images</th>\n",
              "    </tr>\n",
              "  </thead>\n",
              "  <tbody>\n",
              "    <tr>\n",
              "      <th>23089</th>\n",
              "      <td>0</td>\n",
              "      <td>Newsletter</td>\n",
              "      <td>0.413265</td>\n",
              "      <td>0.666667</td>\n",
              "    </tr>\n",
              "    <tr>\n",
              "      <th>777530</th>\n",
              "      <td>0</td>\n",
              "      <td>Conference</td>\n",
              "      <td>0.030612</td>\n",
              "      <td>0.055556</td>\n",
              "    </tr>\n",
              "    <tr>\n",
              "      <th>649845</th>\n",
              "      <td>0</td>\n",
              "      <td>Conference</td>\n",
              "      <td>0.571429</td>\n",
              "      <td>0.833333</td>\n",
              "    </tr>\n",
              "    <tr>\n",
              "      <th>165758</th>\n",
              "      <td>0</td>\n",
              "      <td>Others</td>\n",
              "      <td>0.000000</td>\n",
              "      <td>0.000000</td>\n",
              "    </tr>\n",
              "    <tr>\n",
              "      <th>415620</th>\n",
              "      <td>0</td>\n",
              "      <td>Conference</td>\n",
              "      <td>0.494898</td>\n",
              "      <td>0.666667</td>\n",
              "    </tr>\n",
              "  </tbody>\n",
              "</table>\n",
              "</div>"
            ],
            "text/plain": [
              "        is_open communication_type  total_links  no_of_images\n",
              "23089         0         Newsletter     0.413265      0.666667\n",
              "777530        0         Conference     0.030612      0.055556\n",
              "649845        0         Conference     0.571429      0.833333\n",
              "165758        0             Others     0.000000      0.000000\n",
              "415620        0         Conference     0.494898      0.666667"
            ]
          },
          "metadata": {
            "tags": []
          },
          "execution_count": 131
        }
      ]
    },
    {
      "metadata": {
        "id": "8UeX6Z-evni_",
        "colab_type": "code",
        "colab": {
          "autoexec": {
            "startup": false,
            "wait_interval": 0
          }
        }
      },
      "cell_type": "code",
      "source": [
        "X=pd.get_dummies(X)"
      ],
      "execution_count": 0,
      "outputs": []
    },
    {
      "metadata": {
        "id": "8wSbhH3_wR4v",
        "colab_type": "code",
        "colab": {
          "autoexec": {
            "startup": false,
            "wait_interval": 0
          },
          "output_extras": [
            {
              "item_id": 1
            }
          ],
          "base_uri": "https://localhost:8080/",
          "height": 241
        },
        "outputId": "33c94238-55ab-4eea-ee50-cc1a076894d4",
        "executionInfo": {
          "status": "ok",
          "timestamp": 1522337291266,
          "user_tz": -330,
          "elapsed": 1045,
          "user": {
            "displayName": "Pujya Shri",
            "photoUrl": "//lh6.googleusercontent.com/-iciFMuB7JtY/AAAAAAAAAAI/AAAAAAAAAGU/Cps-5eWtYmQ/s50-c-k-no/photo.jpg",
            "userId": "106502613669313135092"
          }
        }
      },
      "cell_type": "code",
      "source": [
        "X.head()"
      ],
      "execution_count": 218,
      "outputs": [
        {
          "output_type": "execute_result",
          "data": {
            "text/html": [
              "<div>\n",
              "<style scoped>\n",
              "    .dataframe tbody tr th:only-of-type {\n",
              "        vertical-align: middle;\n",
              "    }\n",
              "\n",
              "    .dataframe tbody tr th {\n",
              "        vertical-align: top;\n",
              "    }\n",
              "\n",
              "    .dataframe thead th {\n",
              "        text-align: right;\n",
              "    }\n",
              "</style>\n",
              "<table border=\"1\" class=\"dataframe\">\n",
              "  <thead>\n",
              "    <tr style=\"text-align: right;\">\n",
              "      <th></th>\n",
              "      <th>total_links</th>\n",
              "      <th>no_of_images</th>\n",
              "      <th>is_open_0</th>\n",
              "      <th>is_open_1</th>\n",
              "      <th>communication_type_Conference</th>\n",
              "      <th>communication_type_Corporate</th>\n",
              "      <th>communication_type_Hackathon</th>\n",
              "      <th>communication_type_Newsletter</th>\n",
              "      <th>communication_type_Others</th>\n",
              "      <th>communication_type_Upcoming Events</th>\n",
              "      <th>communication_type_Webinar</th>\n",
              "    </tr>\n",
              "  </thead>\n",
              "  <tbody>\n",
              "    <tr>\n",
              "      <th>23089</th>\n",
              "      <td>0.413265</td>\n",
              "      <td>0.666667</td>\n",
              "      <td>1</td>\n",
              "      <td>0</td>\n",
              "      <td>0</td>\n",
              "      <td>0</td>\n",
              "      <td>0</td>\n",
              "      <td>1</td>\n",
              "      <td>0</td>\n",
              "      <td>0</td>\n",
              "      <td>0</td>\n",
              "    </tr>\n",
              "    <tr>\n",
              "      <th>777530</th>\n",
              "      <td>0.030612</td>\n",
              "      <td>0.055556</td>\n",
              "      <td>1</td>\n",
              "      <td>0</td>\n",
              "      <td>1</td>\n",
              "      <td>0</td>\n",
              "      <td>0</td>\n",
              "      <td>0</td>\n",
              "      <td>0</td>\n",
              "      <td>0</td>\n",
              "      <td>0</td>\n",
              "    </tr>\n",
              "    <tr>\n",
              "      <th>649845</th>\n",
              "      <td>0.571429</td>\n",
              "      <td>0.833333</td>\n",
              "      <td>1</td>\n",
              "      <td>0</td>\n",
              "      <td>1</td>\n",
              "      <td>0</td>\n",
              "      <td>0</td>\n",
              "      <td>0</td>\n",
              "      <td>0</td>\n",
              "      <td>0</td>\n",
              "      <td>0</td>\n",
              "    </tr>\n",
              "    <tr>\n",
              "      <th>165758</th>\n",
              "      <td>0.000000</td>\n",
              "      <td>0.000000</td>\n",
              "      <td>1</td>\n",
              "      <td>0</td>\n",
              "      <td>0</td>\n",
              "      <td>0</td>\n",
              "      <td>0</td>\n",
              "      <td>0</td>\n",
              "      <td>1</td>\n",
              "      <td>0</td>\n",
              "      <td>0</td>\n",
              "    </tr>\n",
              "    <tr>\n",
              "      <th>415620</th>\n",
              "      <td>0.494898</td>\n",
              "      <td>0.666667</td>\n",
              "      <td>1</td>\n",
              "      <td>0</td>\n",
              "      <td>1</td>\n",
              "      <td>0</td>\n",
              "      <td>0</td>\n",
              "      <td>0</td>\n",
              "      <td>0</td>\n",
              "      <td>0</td>\n",
              "      <td>0</td>\n",
              "    </tr>\n",
              "  </tbody>\n",
              "</table>\n",
              "</div>"
            ],
            "text/plain": [
              "        total_links  no_of_images  is_open_0  is_open_1  \\\n",
              "23089      0.413265      0.666667          1          0   \n",
              "777530     0.030612      0.055556          1          0   \n",
              "649845     0.571429      0.833333          1          0   \n",
              "165758     0.000000      0.000000          1          0   \n",
              "415620     0.494898      0.666667          1          0   \n",
              "\n",
              "        communication_type_Conference  communication_type_Corporate  \\\n",
              "23089                               0                             0   \n",
              "777530                              1                             0   \n",
              "649845                              1                             0   \n",
              "165758                              0                             0   \n",
              "415620                              1                             0   \n",
              "\n",
              "        communication_type_Hackathon  communication_type_Newsletter  \\\n",
              "23089                              0                              1   \n",
              "777530                             0                              0   \n",
              "649845                             0                              0   \n",
              "165758                             0                              0   \n",
              "415620                             0                              0   \n",
              "\n",
              "        communication_type_Others  communication_type_Upcoming Events  \\\n",
              "23089                           0                                   0   \n",
              "777530                          0                                   0   \n",
              "649845                          0                                   0   \n",
              "165758                          1                                   0   \n",
              "415620                          0                                   0   \n",
              "\n",
              "        communication_type_Webinar  \n",
              "23089                            0  \n",
              "777530                           0  \n",
              "649845                           0  \n",
              "165758                           0  \n",
              "415620                           0  "
            ]
          },
          "metadata": {
            "tags": []
          },
          "execution_count": 218
        }
      ]
    },
    {
      "metadata": {
        "id": "nMefvqFJwdbo",
        "colab_type": "code",
        "colab": {
          "autoexec": {
            "startup": false,
            "wait_interval": 0
          }
        }
      },
      "cell_type": "code",
      "source": [
        "TrainXcol=X.columns"
      ],
      "execution_count": 0,
      "outputs": []
    },
    {
      "metadata": {
        "id": "XHD8BNvHw3H5",
        "colab_type": "code",
        "colab": {
          "autoexec": {
            "startup": false,
            "wait_interval": 0
          }
        }
      },
      "cell_type": "code",
      "source": [
        "#Splitting the dataset into the Training set and Test set\n",
        "from sklearn.model_selection import train_test_split\n",
        "X_train, X_test, y_train, y_test = train_test_split(X, y, test_size = 0.25, random_state = 0)"
      ],
      "execution_count": 0,
      "outputs": []
    },
    {
      "metadata": {
        "id": "0OrXwNj5yHaS",
        "colab_type": "text"
      },
      "cell_type": "markdown",
      "source": [
        "# **Trying Various Models**"
      ]
    },
    {
      "metadata": {
        "id": "nsIcLl5DyRjC",
        "colab_type": "text"
      },
      "cell_type": "markdown",
      "source": [
        "## **1.SVM**"
      ]
    },
    {
      "metadata": {
        "id": "hse36QJOw3Ew",
        "colab_type": "code",
        "colab": {
          "autoexec": {
            "startup": false,
            "wait_interval": 0
          }
        }
      },
      "cell_type": "code",
      "source": [
        "from sklearn.svm import SVC\n",
        "svm_classifier = SVC(kernel='rbf', \n",
        "                #class_weight='balanced', # penalize\n",
        "                probability=True)"
      ],
      "execution_count": 0,
      "outputs": []
    },
    {
      "metadata": {
        "id": "Bfl1h9NKx-8X",
        "colab_type": "code",
        "colab": {
          "autoexec": {
            "startup": false,
            "wait_interval": 0
          },
          "output_extras": [
            {
              "item_id": 1
            }
          ],
          "base_uri": "https://localhost:8080/",
          "height": 85
        },
        "outputId": "92c7e069-367e-47db-b52c-348ba7801eb7",
        "executionInfo": {
          "status": "ok",
          "timestamp": 1522330099747,
          "user_tz": -330,
          "elapsed": 12963,
          "user": {
            "displayName": "Pujya Shri",
            "photoUrl": "//lh6.googleusercontent.com/-iciFMuB7JtY/AAAAAAAAAAI/AAAAAAAAAGU/Cps-5eWtYmQ/s50-c-k-no/photo.jpg",
            "userId": "106502613669313135092"
          }
        }
      },
      "cell_type": "code",
      "source": [
        "svm_classifier.fit(X_train, y_train)"
      ],
      "execution_count": 137,
      "outputs": [
        {
          "output_type": "execute_result",
          "data": {
            "text/plain": [
              "SVC(C=1.0, cache_size=200, class_weight=None, coef0=0.0,\n",
              "  decision_function_shape='ovr', degree=3, gamma='auto', kernel='rbf',\n",
              "  max_iter=-1, probability=True, random_state=None, shrinking=True,\n",
              "  tol=0.001, verbose=False)"
            ]
          },
          "metadata": {
            "tags": []
          },
          "execution_count": 137
        }
      ]
    },
    {
      "metadata": {
        "id": "4HJYg80NyYQH",
        "colab_type": "code",
        "colab": {
          "autoexec": {
            "startup": false,
            "wait_interval": 0
          },
          "output_extras": [
            {
              "item_id": 1
            }
          ],
          "base_uri": "https://localhost:8080/",
          "height": 34
        },
        "outputId": "b25fc70c-eefd-4e6d-bcef-64c8f3b40f47",
        "executionInfo": {
          "status": "ok",
          "timestamp": 1522330104188,
          "user_tz": -330,
          "elapsed": 1267,
          "user": {
            "displayName": "Pujya Shri",
            "photoUrl": "//lh6.googleusercontent.com/-iciFMuB7JtY/AAAAAAAAAAI/AAAAAAAAAGU/Cps-5eWtYmQ/s50-c-k-no/photo.jpg",
            "userId": "106502613669313135092"
          }
        }
      },
      "cell_type": "code",
      "source": [
        "from sklearn.metrics import roc_auc_score\n",
        "print(roc_auc_score(y_test, svm_classifier.predict(X_test)))"
      ],
      "execution_count": 138,
      "outputs": [
        {
          "output_type": "stream",
          "text": [
            "0.9528928232690485\n"
          ],
          "name": "stdout"
        }
      ]
    },
    {
      "metadata": {
        "id": "-gxSs60fzUfz",
        "colab_type": "text"
      },
      "cell_type": "markdown",
      "source": [
        "## 2.XGBoost"
      ]
    },
    {
      "metadata": {
        "id": "gU7LBKLe7Qty",
        "colab_type": "code",
        "colab": {
          "autoexec": {
            "startup": false,
            "wait_interval": 0
          },
          "output_extras": [
            {
              "item_id": 1
            }
          ],
          "base_uri": "https://localhost:8080/",
          "height": 119
        },
        "outputId": "a84fb347-07e6-491a-cd0b-929680335227",
        "executionInfo": {
          "status": "ok",
          "timestamp": 1522330108505,
          "user_tz": -330,
          "elapsed": 1498,
          "user": {
            "displayName": "Pujya Shri",
            "photoUrl": "//lh6.googleusercontent.com/-iciFMuB7JtY/AAAAAAAAAAI/AAAAAAAAAGU/Cps-5eWtYmQ/s50-c-k-no/photo.jpg",
            "userId": "106502613669313135092"
          }
        }
      },
      "cell_type": "code",
      "source": [
        "from xgboost import XGBClassifier\n",
        "xgb_classifier = XGBClassifier(n_estimators=100)\n",
        "xgb_classifier.fit(X_train, y_train)"
      ],
      "execution_count": 139,
      "outputs": [
        {
          "output_type": "execute_result",
          "data": {
            "text/plain": [
              "XGBClassifier(base_score=0.5, booster='gbtree', colsample_bylevel=1,\n",
              "       colsample_bytree=1, gamma=0, learning_rate=0.1, max_delta_step=0,\n",
              "       max_depth=3, min_child_weight=1, missing=None, n_estimators=100,\n",
              "       n_jobs=1, nthread=None, objective='binary:logistic', random_state=0,\n",
              "       reg_alpha=0, reg_lambda=1, scale_pos_weight=1, seed=None,\n",
              "       silent=True, subsample=1)"
            ]
          },
          "metadata": {
            "tags": []
          },
          "execution_count": 139
        }
      ]
    },
    {
      "metadata": {
        "id": "VzyC41OmziPO",
        "colab_type": "code",
        "colab": {
          "autoexec": {
            "startup": false,
            "wait_interval": 0
          },
          "output_extras": [
            {
              "item_id": 1
            },
            {
              "item_id": 2
            }
          ],
          "base_uri": "https://localhost:8080/",
          "height": 88
        },
        "outputId": "ebdc9c9f-6a65-442e-e751-bae5e2a0bfa8",
        "executionInfo": {
          "status": "ok",
          "timestamp": 1522330112597,
          "user_tz": -330,
          "elapsed": 3157,
          "user": {
            "displayName": "Pujya Shri",
            "photoUrl": "//lh6.googleusercontent.com/-iciFMuB7JtY/AAAAAAAAAAI/AAAAAAAAAGU/Cps-5eWtYmQ/s50-c-k-no/photo.jpg",
            "userId": "106502613669313135092"
          }
        }
      },
      "cell_type": "code",
      "source": [
        "from sklearn.metrics import roc_auc_score\n",
        "print(roc_auc_score(y_test, xgb_classifier.predict(X_test)))"
      ],
      "execution_count": 140,
      "outputs": [
        {
          "output_type": "stream",
          "text": [
            "0.9528928232690485\n"
          ],
          "name": "stdout"
        },
        {
          "output_type": "stream",
          "text": [
            "/usr/local/lib/python3.6/dist-packages/sklearn/preprocessing/label.py:151: DeprecationWarning: The truth value of an empty array is ambiguous. Returning False, but in future this will result in an error. Use `array.size > 0` to check that an array is not empty.\n",
            "  if diff:\n"
          ],
          "name": "stderr"
        }
      ]
    },
    {
      "metadata": {
        "id": "YpkBgcH6z4Mv",
        "colab_type": "text"
      },
      "cell_type": "markdown",
      "source": [
        "## 3.KNN"
      ]
    },
    {
      "metadata": {
        "id": "aqtBiEU7zipY",
        "colab_type": "code",
        "colab": {
          "autoexec": {
            "startup": false,
            "wait_interval": 0
          },
          "output_extras": [
            {
              "item_id": 1
            }
          ],
          "base_uri": "https://localhost:8080/",
          "height": 68
        },
        "outputId": "f9a8b69a-3ef5-408b-c881-c8996ec56eef",
        "executionInfo": {
          "status": "ok",
          "timestamp": 1522330117849,
          "user_tz": -330,
          "elapsed": 799,
          "user": {
            "displayName": "Pujya Shri",
            "photoUrl": "//lh6.googleusercontent.com/-iciFMuB7JtY/AAAAAAAAAAI/AAAAAAAAAGU/Cps-5eWtYmQ/s50-c-k-no/photo.jpg",
            "userId": "106502613669313135092"
          }
        }
      },
      "cell_type": "code",
      "source": [
        "from sklearn.neighbors import KNeighborsClassifier \n",
        "knn_classifier = KNeighborsClassifier(n_neighbors = 5, metric = 'minkowski', p = 2) \n",
        "knn_classifier.fit(X_train, y_train)"
      ],
      "execution_count": 141,
      "outputs": [
        {
          "output_type": "execute_result",
          "data": {
            "text/plain": [
              "KNeighborsClassifier(algorithm='auto', leaf_size=30, metric='minkowski',\n",
              "           metric_params=None, n_jobs=1, n_neighbors=5, p=2,\n",
              "           weights='uniform')"
            ]
          },
          "metadata": {
            "tags": []
          },
          "execution_count": 141
        }
      ]
    },
    {
      "metadata": {
        "id": "1xKrOaWTzild",
        "colab_type": "code",
        "colab": {
          "autoexec": {
            "startup": false,
            "wait_interval": 0
          },
          "output_extras": [
            {
              "item_id": 1
            }
          ],
          "base_uri": "https://localhost:8080/",
          "height": 34
        },
        "outputId": "616c05fd-a3c4-40cf-c06b-4b171ad9f2fb",
        "executionInfo": {
          "status": "ok",
          "timestamp": 1522330121623,
          "user_tz": -330,
          "elapsed": 2354,
          "user": {
            "displayName": "Pujya Shri",
            "photoUrl": "//lh6.googleusercontent.com/-iciFMuB7JtY/AAAAAAAAAAI/AAAAAAAAAGU/Cps-5eWtYmQ/s50-c-k-no/photo.jpg",
            "userId": "106502613669313135092"
          }
        }
      },
      "cell_type": "code",
      "source": [
        "from sklearn.metrics import roc_auc_score\n",
        "print(roc_auc_score(y_test, knn_classifier.predict(X_test)))"
      ],
      "execution_count": 142,
      "outputs": [
        {
          "output_type": "stream",
          "text": [
            "0.9429010640769335\n"
          ],
          "name": "stdout"
        }
      ]
    },
    {
      "metadata": {
        "id": "SPaZV11t0OdJ",
        "colab_type": "text"
      },
      "cell_type": "markdown",
      "source": [
        "## 4. Random forest"
      ]
    },
    {
      "metadata": {
        "id": "aF_wh-CUzig5",
        "colab_type": "code",
        "colab": {
          "autoexec": {
            "startup": false,
            "wait_interval": 0
          },
          "output_extras": [
            {
              "item_id": 1
            }
          ],
          "base_uri": "https://localhost:8080/",
          "height": 119
        },
        "outputId": "acbab364-05d6-43f4-d523-fbd9545b4d37",
        "executionInfo": {
          "status": "ok",
          "timestamp": 1522337310056,
          "user_tz": -330,
          "elapsed": 1251,
          "user": {
            "displayName": "Pujya Shri",
            "photoUrl": "//lh6.googleusercontent.com/-iciFMuB7JtY/AAAAAAAAAAI/AAAAAAAAAGU/Cps-5eWtYmQ/s50-c-k-no/photo.jpg",
            "userId": "106502613669313135092"
          }
        }
      },
      "cell_type": "code",
      "source": [
        "\n",
        "from sklearn.ensemble import RandomForestClassifier \n",
        "rf_classifier = RandomForestClassifier(n_estimators=100,random_state=12) \n",
        "rf_classifier.fit(X_train, y_train)"
      ],
      "execution_count": 221,
      "outputs": [
        {
          "output_type": "execute_result",
          "data": {
            "text/plain": [
              "RandomForestClassifier(bootstrap=True, class_weight=None, criterion='gini',\n",
              "            max_depth=None, max_features='auto', max_leaf_nodes=None,\n",
              "            min_impurity_decrease=0.0, min_impurity_split=None,\n",
              "            min_samples_leaf=1, min_samples_split=2,\n",
              "            min_weight_fraction_leaf=0.0, n_estimators=100, n_jobs=1,\n",
              "            oob_score=False, random_state=12, verbose=0, warm_start=False)"
            ]
          },
          "metadata": {
            "tags": []
          },
          "execution_count": 221
        }
      ]
    },
    {
      "metadata": {
        "id": "pJUcIhUnzicd",
        "colab_type": "code",
        "colab": {
          "autoexec": {
            "startup": false,
            "wait_interval": 0
          },
          "output_extras": [
            {
              "item_id": 1
            }
          ],
          "base_uri": "https://localhost:8080/",
          "height": 34
        },
        "outputId": "fbe0c703-877d-4a3a-a1ba-104d22e88f38",
        "executionInfo": {
          "status": "ok",
          "timestamp": 1522337313250,
          "user_tz": -330,
          "elapsed": 848,
          "user": {
            "displayName": "Pujya Shri",
            "photoUrl": "//lh6.googleusercontent.com/-iciFMuB7JtY/AAAAAAAAAAI/AAAAAAAAAGU/Cps-5eWtYmQ/s50-c-k-no/photo.jpg",
            "userId": "106502613669313135092"
          }
        }
      },
      "cell_type": "code",
      "source": [
        "from sklearn.metrics import roc_auc_score\n",
        "print(roc_auc_score(y_test, rf_classifier.predict(X_test)))"
      ],
      "execution_count": 222,
      "outputs": [
        {
          "output_type": "stream",
          "text": [
            "0.9528928232690485\n"
          ],
          "name": "stdout"
        }
      ]
    },
    {
      "metadata": {
        "id": "jwLO5O160kHV",
        "colab_type": "text"
      },
      "cell_type": "markdown",
      "source": [
        "## 5.Naive-Bayes"
      ]
    },
    {
      "metadata": {
        "id": "AC3RMlC60iEB",
        "colab_type": "code",
        "colab": {
          "autoexec": {
            "startup": false,
            "wait_interval": 0
          },
          "output_extras": [
            {
              "item_id": 1
            }
          ],
          "base_uri": "https://localhost:8080/",
          "height": 34
        },
        "outputId": "491b3208-7bfa-4c75-a16d-32a593fbd0ab",
        "executionInfo": {
          "status": "ok",
          "timestamp": 1522250629239,
          "user_tz": -330,
          "elapsed": 775,
          "user": {
            "displayName": "Pujya Shri",
            "photoUrl": "//lh6.googleusercontent.com/-iciFMuB7JtY/AAAAAAAAAAI/AAAAAAAAAGU/Cps-5eWtYmQ/s50-c-k-no/photo.jpg",
            "userId": "106502613669313135092"
          }
        }
      },
      "cell_type": "code",
      "source": [
        "from sklearn.naive_bayes import GaussianNB \n",
        "nb_classifier = GaussianNB() \n",
        "nb_classifier.fit(X_train, y_train)"
      ],
      "execution_count": 170,
      "outputs": [
        {
          "output_type": "execute_result",
          "data": {
            "text/plain": [
              "GaussianNB(priors=None)"
            ]
          },
          "metadata": {
            "tags": []
          },
          "execution_count": 170
        }
      ]
    },
    {
      "metadata": {
        "id": "2rPl_WgU0iAb",
        "colab_type": "code",
        "colab": {
          "autoexec": {
            "startup": false,
            "wait_interval": 0
          },
          "output_extras": [
            {
              "item_id": 1
            }
          ],
          "base_uri": "https://localhost:8080/",
          "height": 34
        },
        "outputId": "cc28bae7-1e3a-418d-c553-9697ef9a3819",
        "executionInfo": {
          "status": "ok",
          "timestamp": 1522250632010,
          "user_tz": -330,
          "elapsed": 805,
          "user": {
            "displayName": "Pujya Shri",
            "photoUrl": "//lh6.googleusercontent.com/-iciFMuB7JtY/AAAAAAAAAAI/AAAAAAAAAGU/Cps-5eWtYmQ/s50-c-k-no/photo.jpg",
            "userId": "106502613669313135092"
          }
        }
      },
      "cell_type": "code",
      "source": [
        "from sklearn.metrics import roc_auc_score\n",
        "print(roc_auc_score(y_test, nb_classifier.predict(X_test)))"
      ],
      "execution_count": 171,
      "outputs": [
        {
          "output_type": "stream",
          "text": [
            "0.5332282350809305\n"
          ],
          "name": "stdout"
        }
      ]
    },
    {
      "metadata": {
        "id": "LvhZcaS20909",
        "colab_type": "text"
      },
      "cell_type": "markdown",
      "source": [
        "## 6. Decision Trees"
      ]
    },
    {
      "metadata": {
        "id": "e4hIaywi09HL",
        "colab_type": "code",
        "colab": {
          "autoexec": {
            "startup": false,
            "wait_interval": 0
          },
          "output_extras": [
            {
              "item_id": 1
            }
          ],
          "base_uri": "https://localhost:8080/",
          "height": 119
        },
        "outputId": "d63693ad-bfdc-43d1-a621-69c29787a6ac",
        "executionInfo": {
          "status": "ok",
          "timestamp": 1522330138789,
          "user_tz": -330,
          "elapsed": 830,
          "user": {
            "displayName": "Pujya Shri",
            "photoUrl": "//lh6.googleusercontent.com/-iciFMuB7JtY/AAAAAAAAAAI/AAAAAAAAAGU/Cps-5eWtYmQ/s50-c-k-no/photo.jpg",
            "userId": "106502613669313135092"
          }
        }
      },
      "cell_type": "code",
      "source": [
        "from sklearn.tree import DecisionTreeClassifier \n",
        "dt_classifier = DecisionTreeClassifier(random_state=0) \n",
        "dt_classifier.fit(X_train,y_train)"
      ],
      "execution_count": 145,
      "outputs": [
        {
          "output_type": "execute_result",
          "data": {
            "text/plain": [
              "DecisionTreeClassifier(class_weight=None, criterion='gini', max_depth=None,\n",
              "            max_features=None, max_leaf_nodes=None,\n",
              "            min_impurity_decrease=0.0, min_impurity_split=None,\n",
              "            min_samples_leaf=1, min_samples_split=2,\n",
              "            min_weight_fraction_leaf=0.0, presort=False, random_state=0,\n",
              "            splitter='best')"
            ]
          },
          "metadata": {
            "tags": []
          },
          "execution_count": 145
        }
      ]
    },
    {
      "metadata": {
        "id": "fpbijvV909UL",
        "colab_type": "code",
        "colab": {
          "autoexec": {
            "startup": false,
            "wait_interval": 0
          },
          "output_extras": [
            {
              "item_id": 1
            }
          ],
          "base_uri": "https://localhost:8080/",
          "height": 34
        },
        "outputId": "0d1aee17-60c0-4fe2-e82b-2908a95df0bf",
        "executionInfo": {
          "status": "ok",
          "timestamp": 1522330142410,
          "user_tz": -330,
          "elapsed": 2029,
          "user": {
            "displayName": "Pujya Shri",
            "photoUrl": "//lh6.googleusercontent.com/-iciFMuB7JtY/AAAAAAAAAAI/AAAAAAAAAGU/Cps-5eWtYmQ/s50-c-k-no/photo.jpg",
            "userId": "106502613669313135092"
          }
        }
      },
      "cell_type": "code",
      "source": [
        "from sklearn.metrics import roc_auc_score\n",
        "print(roc_auc_score(y_test, dt_classifier.predict(X_test)))"
      ],
      "execution_count": 146,
      "outputs": [
        {
          "output_type": "stream",
          "text": [
            "0.9528928232690485\n"
          ],
          "name": "stdout"
        }
      ]
    },
    {
      "metadata": {
        "id": "gC86CwwvnYQI",
        "colab_type": "text"
      },
      "cell_type": "markdown",
      "source": [
        "# Predicting"
      ]
    },
    {
      "metadata": {
        "id": "soLM6MMD09Qd",
        "colab_type": "code",
        "colab": {
          "autoexec": {
            "startup": false,
            "wait_interval": 0
          }
        }
      },
      "cell_type": "code",
      "source": [
        "df_test=pd.read_csv('test.csv')"
      ],
      "execution_count": 0,
      "outputs": []
    },
    {
      "metadata": {
        "id": "uJpWmrI54-kq",
        "colab_type": "code",
        "colab": {
          "autoexec": {
            "startup": false,
            "wait_interval": 0
          },
          "output_extras": [
            {
              "item_id": 1
            }
          ],
          "base_uri": "https://localhost:8080/",
          "height": 34
        },
        "outputId": "3a0af69f-e948-4171-88a6-d86ee47f2d86",
        "executionInfo": {
          "status": "ok",
          "timestamp": 1522330157623,
          "user_tz": -330,
          "elapsed": 952,
          "user": {
            "displayName": "Pujya Shri",
            "photoUrl": "//lh6.googleusercontent.com/-iciFMuB7JtY/AAAAAAAAAAI/AAAAAAAAAGU/Cps-5eWtYmQ/s50-c-k-no/photo.jpg",
            "userId": "106502613669313135092"
          }
        }
      },
      "cell_type": "code",
      "source": [
        "len(df_test)"
      ],
      "execution_count": 148,
      "outputs": [
        {
          "output_type": "execute_result",
          "data": {
            "text/plain": [
              "773858"
            ]
          },
          "metadata": {
            "tags": []
          },
          "execution_count": 148
        }
      ]
    },
    {
      "metadata": {
        "id": "RivAKMScnyDX",
        "colab_type": "code",
        "colab": {
          "autoexec": {
            "startup": false,
            "wait_interval": 0
          },
          "output_extras": [
            {
              "item_id": 1
            }
          ],
          "base_uri": "https://localhost:8080/",
          "height": 204
        },
        "outputId": "d0a41d37-b670-4927-bd2a-dbec7179ee21",
        "executionInfo": {
          "status": "ok",
          "timestamp": 1522330160155,
          "user_tz": -330,
          "elapsed": 880,
          "user": {
            "displayName": "Pujya Shri",
            "photoUrl": "//lh6.googleusercontent.com/-iciFMuB7JtY/AAAAAAAAAAI/AAAAAAAAAGU/Cps-5eWtYmQ/s50-c-k-no/photo.jpg",
            "userId": "106502613669313135092"
          }
        }
      },
      "cell_type": "code",
      "source": [
        "df_test.head()"
      ],
      "execution_count": 149,
      "outputs": [
        {
          "output_type": "execute_result",
          "data": {
            "text/html": [
              "<div>\n",
              "<style scoped>\n",
              "    .dataframe tbody tr th:only-of-type {\n",
              "        vertical-align: middle;\n",
              "    }\n",
              "\n",
              "    .dataframe tbody tr th {\n",
              "        vertical-align: top;\n",
              "    }\n",
              "\n",
              "    .dataframe thead th {\n",
              "        text-align: right;\n",
              "    }\n",
              "</style>\n",
              "<table border=\"1\" class=\"dataframe\">\n",
              "  <thead>\n",
              "    <tr style=\"text-align: right;\">\n",
              "      <th></th>\n",
              "      <th>id</th>\n",
              "      <th>campaign_id</th>\n",
              "      <th>user_id</th>\n",
              "      <th>send_date</th>\n",
              "    </tr>\n",
              "  </thead>\n",
              "  <tbody>\n",
              "    <tr>\n",
              "      <th>0</th>\n",
              "      <td>63_122715</td>\n",
              "      <td>63</td>\n",
              "      <td>122715</td>\n",
              "      <td>01-02-2018 22:35</td>\n",
              "    </tr>\n",
              "    <tr>\n",
              "      <th>1</th>\n",
              "      <td>56_76206</td>\n",
              "      <td>56</td>\n",
              "      <td>76206</td>\n",
              "      <td>02-01-2018 08:15</td>\n",
              "    </tr>\n",
              "    <tr>\n",
              "      <th>2</th>\n",
              "      <td>57_96189</td>\n",
              "      <td>57</td>\n",
              "      <td>96189</td>\n",
              "      <td>05-01-2018 18:25</td>\n",
              "    </tr>\n",
              "    <tr>\n",
              "      <th>3</th>\n",
              "      <td>56_166917</td>\n",
              "      <td>56</td>\n",
              "      <td>166917</td>\n",
              "      <td>02-01-2018 08:15</td>\n",
              "    </tr>\n",
              "    <tr>\n",
              "      <th>4</th>\n",
              "      <td>56_172838</td>\n",
              "      <td>56</td>\n",
              "      <td>172838</td>\n",
              "      <td>02-01-2018 08:12</td>\n",
              "    </tr>\n",
              "  </tbody>\n",
              "</table>\n",
              "</div>"
            ],
            "text/plain": [
              "          id  campaign_id  user_id         send_date\n",
              "0  63_122715           63   122715  01-02-2018 22:35\n",
              "1   56_76206           56    76206  02-01-2018 08:15\n",
              "2   57_96189           57    96189  05-01-2018 18:25\n",
              "3  56_166917           56   166917  02-01-2018 08:15\n",
              "4  56_172838           56   172838  02-01-2018 08:12"
            ]
          },
          "metadata": {
            "tags": []
          },
          "execution_count": 149
        }
      ]
    },
    {
      "metadata": {
        "id": "83bHLtf00h9P",
        "colab_type": "code",
        "colab": {
          "autoexec": {
            "startup": false,
            "wait_interval": 0
          }
        }
      },
      "cell_type": "code",
      "source": [
        "sample=pd.read_csv('sample.csv')"
      ],
      "execution_count": 0,
      "outputs": []
    },
    {
      "metadata": {
        "id": "SzSlVrfQtDPO",
        "colab_type": "code",
        "colab": {
          "autoexec": {
            "startup": false,
            "wait_interval": 0
          },
          "output_extras": [
            {
              "item_id": 1
            }
          ],
          "base_uri": "https://localhost:8080/",
          "height": 204
        },
        "outputId": "2173e107-02ea-47c8-9f06-65ea9e89b970",
        "executionInfo": {
          "status": "ok",
          "timestamp": 1522330167599,
          "user_tz": -330,
          "elapsed": 856,
          "user": {
            "displayName": "Pujya Shri",
            "photoUrl": "//lh6.googleusercontent.com/-iciFMuB7JtY/AAAAAAAAAAI/AAAAAAAAAGU/Cps-5eWtYmQ/s50-c-k-no/photo.jpg",
            "userId": "106502613669313135092"
          }
        }
      },
      "cell_type": "code",
      "source": [
        "sample.head()"
      ],
      "execution_count": 151,
      "outputs": [
        {
          "output_type": "execute_result",
          "data": {
            "text/html": [
              "<div>\n",
              "<style scoped>\n",
              "    .dataframe tbody tr th:only-of-type {\n",
              "        vertical-align: middle;\n",
              "    }\n",
              "\n",
              "    .dataframe tbody tr th {\n",
              "        vertical-align: top;\n",
              "    }\n",
              "\n",
              "    .dataframe thead th {\n",
              "        text-align: right;\n",
              "    }\n",
              "</style>\n",
              "<table border=\"1\" class=\"dataframe\">\n",
              "  <thead>\n",
              "    <tr style=\"text-align: right;\">\n",
              "      <th></th>\n",
              "      <th>id</th>\n",
              "      <th>is_click</th>\n",
              "    </tr>\n",
              "  </thead>\n",
              "  <tbody>\n",
              "    <tr>\n",
              "      <th>0</th>\n",
              "      <td>63_122715</td>\n",
              "      <td>0</td>\n",
              "    </tr>\n",
              "    <tr>\n",
              "      <th>1</th>\n",
              "      <td>56_76206</td>\n",
              "      <td>0</td>\n",
              "    </tr>\n",
              "    <tr>\n",
              "      <th>2</th>\n",
              "      <td>57_96189</td>\n",
              "      <td>0</td>\n",
              "    </tr>\n",
              "    <tr>\n",
              "      <th>3</th>\n",
              "      <td>56_166917</td>\n",
              "      <td>0</td>\n",
              "    </tr>\n",
              "    <tr>\n",
              "      <th>4</th>\n",
              "      <td>56_172838</td>\n",
              "      <td>0</td>\n",
              "    </tr>\n",
              "  </tbody>\n",
              "</table>\n",
              "</div>"
            ],
            "text/plain": [
              "          id  is_click\n",
              "0  63_122715         0\n",
              "1   56_76206         0\n",
              "2   57_96189         0\n",
              "3  56_166917         0\n",
              "4  56_172838         0"
            ]
          },
          "metadata": {
            "tags": []
          },
          "execution_count": 151
        }
      ]
    },
    {
      "metadata": {
        "id": "OOsmaAkCnlC0",
        "colab_type": "code",
        "colab": {
          "autoexec": {
            "startup": false,
            "wait_interval": 0
          }
        }
      },
      "cell_type": "code",
      "source": [
        "com=[]\n",
        "total_links=[]\n",
        "no_of_internal_links=[]\n",
        "no_of_images=[]\n",
        "no_of_sections=[]\n",
        "subject=[]"
      ],
      "execution_count": 0,
      "outputs": []
    },
    {
      "metadata": {
        "id": "TN4R15f_nrK0",
        "colab_type": "code",
        "colab": {
          "autoexec": {
            "startup": false,
            "wait_interval": 0
          }
        }
      },
      "cell_type": "code",
      "source": [
        "for i in range(len(df_test)):\n",
        "  for j in range(len(df_com)):\n",
        "    if(df_test['campaign_id'][i]==df_com['campaign_id'][j]):\n",
        "      com.append(df_com['communication_type'][j])\n",
        "      total_links.append(df_com['total_links'][j])\n",
        "      no_of_internal_links.append(df_com['no_of_internal_links'][j])\n",
        "      no_of_images.append(df_com['no_of_images'][j])\n",
        "      no_of_sections.append(df_com['no_of_sections'][j])\n",
        "      subject.append(df_com['subject'][j])"
      ],
      "execution_count": 0,
      "outputs": []
    },
    {
      "metadata": {
        "id": "jD2A39hj44tb",
        "colab_type": "code",
        "colab": {
          "autoexec": {
            "startup": false,
            "wait_interval": 0
          },
          "output_extras": [
            {
              "item_id": 1
            }
          ],
          "base_uri": "https://localhost:8080/",
          "height": 34
        },
        "outputId": "90483f5a-e7da-4512-db6b-23ae48bcdb4c",
        "executionInfo": {
          "status": "ok",
          "timestamp": 1522331404386,
          "user_tz": -330,
          "elapsed": 818,
          "user": {
            "displayName": "Pujya Shri",
            "photoUrl": "//lh6.googleusercontent.com/-iciFMuB7JtY/AAAAAAAAAAI/AAAAAAAAAGU/Cps-5eWtYmQ/s50-c-k-no/photo.jpg",
            "userId": "106502613669313135092"
          }
        }
      },
      "cell_type": "code",
      "source": [
        "len(com)"
      ],
      "execution_count": 155,
      "outputs": [
        {
          "output_type": "execute_result",
          "data": {
            "text/plain": [
              "773858"
            ]
          },
          "metadata": {
            "tags": []
          },
          "execution_count": 155
        }
      ]
    },
    {
      "metadata": {
        "id": "Pw-1wgNDn55M",
        "colab_type": "code",
        "colab": {
          "autoexec": {
            "startup": false,
            "wait_interval": 0
          }
        }
      },
      "cell_type": "code",
      "source": [
        "df_test['communication_type']=com\n",
        "df_test['total_links']=total_links\n",
        "df_test['no_of_internal_links']=no_of_internal_links\n",
        "df_test['no_of_images']=no_of_images\n",
        "df_test['no_of_sections']=no_of_sections\n",
        "df_test['subject']=subject"
      ],
      "execution_count": 0,
      "outputs": []
    },
    {
      "metadata": {
        "id": "cNZcFVpPCunu",
        "colab_type": "code",
        "colab": {
          "autoexec": {
            "startup": false,
            "wait_interval": 0
          },
          "output_extras": [
            {
              "item_id": 1
            }
          ],
          "base_uri": "https://localhost:8080/",
          "height": 34
        },
        "outputId": "2dfaf5da-dd27-40e3-83ea-735937f3dcfc",
        "executionInfo": {
          "status": "ok",
          "timestamp": 1522331751919,
          "user_tz": -330,
          "elapsed": 1092,
          "user": {
            "displayName": "Pujya Shri",
            "photoUrl": "//lh6.googleusercontent.com/-iciFMuB7JtY/AAAAAAAAAAI/AAAAAAAAAGU/Cps-5eWtYmQ/s50-c-k-no/photo.jpg",
            "userId": "106502613669313135092"
          }
        }
      },
      "cell_type": "code",
      "source": [
        "df_test['subject'][0]"
      ],
      "execution_count": 171,
      "outputs": [
        {
          "output_type": "execute_result",
          "data": {
            "text/plain": [
              "5"
            ]
          },
          "metadata": {
            "tags": []
          },
          "execution_count": 171
        }
      ]
    },
    {
      "metadata": {
        "id": "ewN2fNKX9Xbs",
        "colab_type": "text"
      },
      "cell_type": "markdown",
      "source": [
        "# **Making Is_open**"
      ]
    },
    {
      "metadata": {
        "id": "QuqchLUO9bUU",
        "colab_type": "code",
        "colab": {
          "autoexec": {
            "startup": false,
            "wait_interval": 0
          }
        }
      },
      "cell_type": "code",
      "source": [
        "sub=df_test['subject']"
      ],
      "execution_count": 0,
      "outputs": []
    },
    {
      "metadata": {
        "id": "XY2zuCnU9sz0",
        "colab_type": "code",
        "colab": {
          "autoexec": {
            "startup": false,
            "wait_interval": 0
          }
        }
      },
      "cell_type": "code",
      "source": [
        "corpus=[]\n",
        "for i in range(len(df_test)):\n",
        "  osub=re.sub('[^a-zA-Z]',' ',df_test['subject'][i])\n",
        "  osub=osub.lower()\n",
        "  osub=osub.split()\n",
        "  osub=[ps.stem(word) for word in osub if not word in set(stopwords.words('english'))]\n",
        "  osub=' '.join(osub)\n",
        "  corpus.append(osub)"
      ],
      "execution_count": 0,
      "outputs": []
    },
    {
      "metadata": {
        "id": "gduhzOnN9svl",
        "colab_type": "code",
        "colab": {
          "autoexec": {
            "startup": false,
            "wait_interval": 0
          }
        }
      },
      "cell_type": "code",
      "source": [
        "X=cv.transform(corpus).toarray()"
      ],
      "execution_count": 0,
      "outputs": []
    },
    {
      "metadata": {
        "id": "n74uQ3_uCJ1G",
        "colab_type": "code",
        "colab": {
          "autoexec": {
            "startup": false,
            "wait_interval": 0
          },
          "output_extras": [
            {
              "item_id": 1
            }
          ],
          "base_uri": "https://localhost:8080/",
          "height": 34
        },
        "outputId": "2d744157-dcf7-48c4-af6f-319ca88cb6e7",
        "executionInfo": {
          "status": "ok",
          "timestamp": 1522334708340,
          "user_tz": -330,
          "elapsed": 880,
          "user": {
            "displayName": "Pujya Shri",
            "photoUrl": "//lh6.googleusercontent.com/-iciFMuB7JtY/AAAAAAAAAAI/AAAAAAAAAGU/Cps-5eWtYmQ/s50-c-k-no/photo.jpg",
            "userId": "106502613669313135092"
          }
        }
      },
      "cell_type": "code",
      "source": [
        "X.shape"
      ],
      "execution_count": 178,
      "outputs": [
        {
          "output_type": "execute_result",
          "data": {
            "text/plain": [
              "(25564, 112)"
            ]
          },
          "metadata": {
            "tags": []
          },
          "execution_count": 178
        }
      ]
    },
    {
      "metadata": {
        "id": "IO0AE1Iv9sqj",
        "colab_type": "code",
        "colab": {
          "autoexec": {
            "startup": false,
            "wait_interval": 0
          }
        }
      },
      "cell_type": "code",
      "source": [
        "is_open=orf_classifier.predict(X)"
      ],
      "execution_count": 0,
      "outputs": []
    },
    {
      "metadata": {
        "id": "BdRHJDJX-0jb",
        "colab_type": "code",
        "colab": {
          "autoexec": {
            "startup": false,
            "wait_interval": 0
          },
          "output_extras": [
            {
              "item_id": 1
            }
          ],
          "base_uri": "https://localhost:8080/",
          "height": 34
        },
        "outputId": "a28aa2b0-b3a1-4250-f296-bab0a8fc3f99",
        "executionInfo": {
          "status": "ok",
          "timestamp": 1522336279086,
          "user_tz": -330,
          "elapsed": 831,
          "user": {
            "displayName": "Pujya Shri",
            "photoUrl": "//lh6.googleusercontent.com/-iciFMuB7JtY/AAAAAAAAAAI/AAAAAAAAAGU/Cps-5eWtYmQ/s50-c-k-no/photo.jpg",
            "userId": "106502613669313135092"
          }
        }
      },
      "cell_type": "code",
      "source": [
        "is_open"
      ],
      "execution_count": 182,
      "outputs": [
        {
          "output_type": "execute_result",
          "data": {
            "text/plain": [
              "array([1, 1, 1, ..., 1, 1, 1])"
            ]
          },
          "metadata": {
            "tags": []
          },
          "execution_count": 182
        }
      ]
    },
    {
      "metadata": {
        "id": "uX-GG6WQ9smD",
        "colab_type": "code",
        "colab": {
          "autoexec": {
            "startup": false,
            "wait_interval": 0
          },
          "output_extras": [
            {
              "item_id": 1
            }
          ],
          "base_uri": "https://localhost:8080/",
          "height": 34
        },
        "outputId": "cc1ae36a-714e-4834-dce0-9eb5893b3e86",
        "executionInfo": {
          "status": "ok",
          "timestamp": 1522336281319,
          "user_tz": -330,
          "elapsed": 722,
          "user": {
            "displayName": "Pujya Shri",
            "photoUrl": "//lh6.googleusercontent.com/-iciFMuB7JtY/AAAAAAAAAAI/AAAAAAAAAGU/Cps-5eWtYmQ/s50-c-k-no/photo.jpg",
            "userId": "106502613669313135092"
          }
        }
      },
      "cell_type": "code",
      "source": [
        "len(is_open)"
      ],
      "execution_count": 183,
      "outputs": [
        {
          "output_type": "execute_result",
          "data": {
            "text/plain": [
              "773858"
            ]
          },
          "metadata": {
            "tags": []
          },
          "execution_count": 183
        }
      ]
    },
    {
      "metadata": {
        "id": "S51CC3fK9sgc",
        "colab_type": "code",
        "colab": {
          "autoexec": {
            "startup": false,
            "wait_interval": 0
          },
          "output_extras": [
            {
              "item_id": 1
            }
          ],
          "base_uri": "https://localhost:8080/",
          "height": 34
        },
        "outputId": "171b39db-3d81-4554-c846-0a064762f900",
        "executionInfo": {
          "status": "ok",
          "timestamp": 1522336283552,
          "user_tz": -330,
          "elapsed": 787,
          "user": {
            "displayName": "Pujya Shri",
            "photoUrl": "//lh6.googleusercontent.com/-iciFMuB7JtY/AAAAAAAAAAI/AAAAAAAAAGU/Cps-5eWtYmQ/s50-c-k-no/photo.jpg",
            "userId": "106502613669313135092"
          }
        }
      },
      "cell_type": "code",
      "source": [
        "len(df_test)"
      ],
      "execution_count": 184,
      "outputs": [
        {
          "output_type": "execute_result",
          "data": {
            "text/plain": [
              "773858"
            ]
          },
          "metadata": {
            "tags": []
          },
          "execution_count": 184
        }
      ]
    },
    {
      "metadata": {
        "id": "Jx34m7jj9sbk",
        "colab_type": "code",
        "colab": {
          "autoexec": {
            "startup": false,
            "wait_interval": 0
          }
        }
      },
      "cell_type": "code",
      "source": [
        "df_test['is_open']=is_open"
      ],
      "execution_count": 0,
      "outputs": []
    },
    {
      "metadata": {
        "id": "Ad5E8K3m9jCy",
        "colab_type": "text"
      },
      "cell_type": "markdown",
      "source": [
        "# **Usual modelling**"
      ]
    },
    {
      "metadata": {
        "id": "ZokZGyAPohWg",
        "colab_type": "code",
        "colab": {
          "autoexec": {
            "startup": false,
            "wait_interval": 0
          },
          "output_extras": [
            {
              "item_id": 1
            }
          ],
          "base_uri": "https://localhost:8080/",
          "height": 408
        },
        "outputId": "c144d731-24e6-41f2-f564-bef5ad5ceb06",
        "executionInfo": {
          "status": "ok",
          "timestamp": 1522336329827,
          "user_tz": -330,
          "elapsed": 815,
          "user": {
            "displayName": "Pujya Shri",
            "photoUrl": "//lh6.googleusercontent.com/-iciFMuB7JtY/AAAAAAAAAAI/AAAAAAAAAGU/Cps-5eWtYmQ/s50-c-k-no/photo.jpg",
            "userId": "106502613669313135092"
          }
        }
      },
      "cell_type": "code",
      "source": [
        "df_test.head()"
      ],
      "execution_count": 186,
      "outputs": [
        {
          "output_type": "execute_result",
          "data": {
            "text/html": [
              "<div>\n",
              "<style scoped>\n",
              "    .dataframe tbody tr th:only-of-type {\n",
              "        vertical-align: middle;\n",
              "    }\n",
              "\n",
              "    .dataframe tbody tr th {\n",
              "        vertical-align: top;\n",
              "    }\n",
              "\n",
              "    .dataframe thead th {\n",
              "        text-align: right;\n",
              "    }\n",
              "</style>\n",
              "<table border=\"1\" class=\"dataframe\">\n",
              "  <thead>\n",
              "    <tr style=\"text-align: right;\">\n",
              "      <th></th>\n",
              "      <th>id</th>\n",
              "      <th>campaign_id</th>\n",
              "      <th>user_id</th>\n",
              "      <th>send_date</th>\n",
              "      <th>communication_type</th>\n",
              "      <th>total_links</th>\n",
              "      <th>no_of_internal_links</th>\n",
              "      <th>no_of_images</th>\n",
              "      <th>no_of_sections</th>\n",
              "      <th>subject</th>\n",
              "      <th>is_open</th>\n",
              "    </tr>\n",
              "  </thead>\n",
              "  <tbody>\n",
              "    <tr>\n",
              "      <th>0</th>\n",
              "      <td>63_122715</td>\n",
              "      <td>63</td>\n",
              "      <td>122715</td>\n",
              "      <td>01-02-2018 22:35</td>\n",
              "      <td>Newsletter</td>\n",
              "      <td>68</td>\n",
              "      <td>64</td>\n",
              "      <td>15</td>\n",
              "      <td>5</td>\n",
              "      <td>AVbytes, Ultimate 2018 learning path and aweso...</td>\n",
              "      <td>1</td>\n",
              "    </tr>\n",
              "    <tr>\n",
              "      <th>1</th>\n",
              "      <td>56_76206</td>\n",
              "      <td>56</td>\n",
              "      <td>76206</td>\n",
              "      <td>02-01-2018 08:15</td>\n",
              "      <td>Newsletter</td>\n",
              "      <td>42</td>\n",
              "      <td>38</td>\n",
              "      <td>10</td>\n",
              "      <td>4</td>\n",
              "      <td>[January] Year 2018 - Bigger &amp; Exciting challe...</td>\n",
              "      <td>1</td>\n",
              "    </tr>\n",
              "    <tr>\n",
              "      <th>2</th>\n",
              "      <td>57_96189</td>\n",
              "      <td>57</td>\n",
              "      <td>96189</td>\n",
              "      <td>05-01-2018 18:25</td>\n",
              "      <td>Upcoming Events</td>\n",
              "      <td>40</td>\n",
              "      <td>36</td>\n",
              "      <td>15</td>\n",
              "      <td>4</td>\n",
              "      <td>[January 2018] Upcoming Hiring Hackathons, Lea...</td>\n",
              "      <td>1</td>\n",
              "    </tr>\n",
              "    <tr>\n",
              "      <th>3</th>\n",
              "      <td>56_166917</td>\n",
              "      <td>56</td>\n",
              "      <td>166917</td>\n",
              "      <td>02-01-2018 08:15</td>\n",
              "      <td>Newsletter</td>\n",
              "      <td>42</td>\n",
              "      <td>38</td>\n",
              "      <td>10</td>\n",
              "      <td>4</td>\n",
              "      <td>[January] Year 2018 - Bigger &amp; Exciting challe...</td>\n",
              "      <td>1</td>\n",
              "    </tr>\n",
              "    <tr>\n",
              "      <th>4</th>\n",
              "      <td>56_172838</td>\n",
              "      <td>56</td>\n",
              "      <td>172838</td>\n",
              "      <td>02-01-2018 08:12</td>\n",
              "      <td>Newsletter</td>\n",
              "      <td>42</td>\n",
              "      <td>38</td>\n",
              "      <td>10</td>\n",
              "      <td>4</td>\n",
              "      <td>[January] Year 2018 - Bigger &amp; Exciting challe...</td>\n",
              "      <td>1</td>\n",
              "    </tr>\n",
              "  </tbody>\n",
              "</table>\n",
              "</div>"
            ],
            "text/plain": [
              "          id  campaign_id  user_id         send_date communication_type  \\\n",
              "0  63_122715           63   122715  01-02-2018 22:35         Newsletter   \n",
              "1   56_76206           56    76206  02-01-2018 08:15         Newsletter   \n",
              "2   57_96189           57    96189  05-01-2018 18:25    Upcoming Events   \n",
              "3  56_166917           56   166917  02-01-2018 08:15         Newsletter   \n",
              "4  56_172838           56   172838  02-01-2018 08:12         Newsletter   \n",
              "\n",
              "   total_links  no_of_internal_links  no_of_images  no_of_sections  \\\n",
              "0           68                    64            15               5   \n",
              "1           42                    38            10               4   \n",
              "2           40                    36            15               4   \n",
              "3           42                    38            10               4   \n",
              "4           42                    38            10               4   \n",
              "\n",
              "                                             subject  is_open  \n",
              "0  AVbytes, Ultimate 2018 learning path and aweso...        1  \n",
              "1  [January] Year 2018 - Bigger & Exciting challe...        1  \n",
              "2  [January 2018] Upcoming Hiring Hackathons, Lea...        1  \n",
              "3  [January] Year 2018 - Bigger & Exciting challe...        1  \n",
              "4  [January] Year 2018 - Bigger & Exciting challe...        1  "
            ]
          },
          "metadata": {
            "tags": []
          },
          "execution_count": 186
        }
      ]
    },
    {
      "metadata": {
        "id": "OTNJ_iRuoQvR",
        "colab_type": "code",
        "colab": {
          "autoexec": {
            "startup": false,
            "wait_interval": 0
          }
        }
      },
      "cell_type": "code",
      "source": [
        "df_test=df_test.drop(['id', 'user_id','campaign_id','send_date','no_of_internal_links','no_of_sections'], axis=1)"
      ],
      "execution_count": 0,
      "outputs": []
    },
    {
      "metadata": {
        "id": "JFH0jtuookFP",
        "colab_type": "code",
        "colab": {
          "autoexec": {
            "startup": false,
            "wait_interval": 0
          }
        }
      },
      "cell_type": "code",
      "source": [
        "df_test[['total_links','no_of_images']] = scaler.transform(df_test[['total_links','no_of_images']])\n"
      ],
      "execution_count": 0,
      "outputs": []
    },
    {
      "metadata": {
        "id": "dBeR0tJAUvYg",
        "colab_type": "code",
        "colab": {
          "autoexec": {
            "startup": false,
            "wait_interval": 0
          }
        }
      },
      "cell_type": "code",
      "source": [
        "df_test=df_test.drop(['subject'], axis=1)"
      ],
      "execution_count": 0,
      "outputs": []
    },
    {
      "metadata": {
        "id": "QGHQ0QX3okBE",
        "colab_type": "code",
        "colab": {
          "autoexec": {
            "startup": false,
            "wait_interval": 0
          },
          "output_extras": [
            {
              "item_id": 1
            }
          ],
          "base_uri": "https://localhost:8080/",
          "height": 204
        },
        "outputId": "54276f2d-1ef1-43e1-c02e-50cc958b1e9e",
        "executionInfo": {
          "status": "ok",
          "timestamp": 1522337331954,
          "user_tz": -330,
          "elapsed": 2212,
          "user": {
            "displayName": "Pujya Shri",
            "photoUrl": "//lh6.googleusercontent.com/-iciFMuB7JtY/AAAAAAAAAAI/AAAAAAAAAGU/Cps-5eWtYmQ/s50-c-k-no/photo.jpg",
            "userId": "106502613669313135092"
          }
        }
      },
      "cell_type": "code",
      "source": [
        "df_test.head()"
      ],
      "execution_count": 223,
      "outputs": [
        {
          "output_type": "execute_result",
          "data": {
            "text/html": [
              "<div>\n",
              "<style scoped>\n",
              "    .dataframe tbody tr th:only-of-type {\n",
              "        vertical-align: middle;\n",
              "    }\n",
              "\n",
              "    .dataframe tbody tr th {\n",
              "        vertical-align: top;\n",
              "    }\n",
              "\n",
              "    .dataframe thead th {\n",
              "        text-align: right;\n",
              "    }\n",
              "</style>\n",
              "<table border=\"1\" class=\"dataframe\">\n",
              "  <thead>\n",
              "    <tr style=\"text-align: right;\">\n",
              "      <th></th>\n",
              "      <th>is_open</th>\n",
              "      <th>communication_type</th>\n",
              "      <th>total_links</th>\n",
              "      <th>no_of_images</th>\n",
              "    </tr>\n",
              "  </thead>\n",
              "  <tbody>\n",
              "    <tr>\n",
              "      <th>0</th>\n",
              "      <td>1</td>\n",
              "      <td>Newsletter</td>\n",
              "      <td>0.311224</td>\n",
              "      <td>0.777778</td>\n",
              "    </tr>\n",
              "    <tr>\n",
              "      <th>1</th>\n",
              "      <td>1</td>\n",
              "      <td>Newsletter</td>\n",
              "      <td>0.178571</td>\n",
              "      <td>0.500000</td>\n",
              "    </tr>\n",
              "    <tr>\n",
              "      <th>2</th>\n",
              "      <td>1</td>\n",
              "      <td>Upcoming Events</td>\n",
              "      <td>0.168367</td>\n",
              "      <td>0.777778</td>\n",
              "    </tr>\n",
              "    <tr>\n",
              "      <th>3</th>\n",
              "      <td>1</td>\n",
              "      <td>Newsletter</td>\n",
              "      <td>0.178571</td>\n",
              "      <td>0.500000</td>\n",
              "    </tr>\n",
              "    <tr>\n",
              "      <th>4</th>\n",
              "      <td>1</td>\n",
              "      <td>Newsletter</td>\n",
              "      <td>0.178571</td>\n",
              "      <td>0.500000</td>\n",
              "    </tr>\n",
              "  </tbody>\n",
              "</table>\n",
              "</div>"
            ],
            "text/plain": [
              "  is_open communication_type  total_links  no_of_images\n",
              "0       1         Newsletter     0.311224      0.777778\n",
              "1       1         Newsletter     0.178571      0.500000\n",
              "2       1    Upcoming Events     0.168367      0.777778\n",
              "3       1         Newsletter     0.178571      0.500000\n",
              "4       1         Newsletter     0.178571      0.500000"
            ]
          },
          "metadata": {
            "tags": []
          },
          "execution_count": 223
        }
      ]
    },
    {
      "metadata": {
        "id": "mU1gK77xVZeU",
        "colab_type": "code",
        "colab": {
          "autoexec": {
            "startup": false,
            "wait_interval": 0
          }
        }
      },
      "cell_type": "code",
      "source": [
        "df_test['is_open']=df_test['is_open'].astype('object')"
      ],
      "execution_count": 0,
      "outputs": []
    },
    {
      "metadata": {
        "id": "JT3ViLN9U4Oh",
        "colab_type": "code",
        "colab": {
          "autoexec": {
            "startup": false,
            "wait_interval": 0
          }
        }
      },
      "cell_type": "code",
      "source": [
        "df_test = df_test[['is_open','communication_type','total_links','no_of_images']]"
      ],
      "execution_count": 0,
      "outputs": []
    },
    {
      "metadata": {
        "id": "jGDQp2jzpeqP",
        "colab_type": "code",
        "colab": {
          "autoexec": {
            "startup": false,
            "wait_interval": 0
          }
        }
      },
      "cell_type": "code",
      "source": [
        "X_test=df_test"
      ],
      "execution_count": 0,
      "outputs": []
    },
    {
      "metadata": {
        "id": "JvBNMvt5pek1",
        "colab_type": "code",
        "colab": {
          "autoexec": {
            "startup": false,
            "wait_interval": 0
          }
        }
      },
      "cell_type": "code",
      "source": [
        "X_test=pd.get_dummies(X_test)"
      ],
      "execution_count": 0,
      "outputs": []
    },
    {
      "metadata": {
        "id": "Fn3pjjz0Ehpz",
        "colab_type": "code",
        "colab": {
          "autoexec": {
            "startup": false,
            "wait_interval": 0
          }
        }
      },
      "cell_type": "code",
      "source": [
        "TestXcol=X_test.columns"
      ],
      "execution_count": 0,
      "outputs": []
    },
    {
      "metadata": {
        "id": "1E16eQq5Xfjo",
        "colab_type": "code",
        "colab": {
          "autoexec": {
            "startup": false,
            "wait_interval": 0
          },
          "output_extras": [
            {
              "item_id": 1
            }
          ],
          "base_uri": "https://localhost:8080/",
          "height": 119
        },
        "outputId": "59fca338-8b16-4422-d032-9bdc1cffc52b",
        "executionInfo": {
          "status": "ok",
          "timestamp": 1522337341818,
          "user_tz": -330,
          "elapsed": 3043,
          "user": {
            "displayName": "Pujya Shri",
            "photoUrl": "//lh6.googleusercontent.com/-iciFMuB7JtY/AAAAAAAAAAI/AAAAAAAAAGU/Cps-5eWtYmQ/s50-c-k-no/photo.jpg",
            "userId": "106502613669313135092"
          }
        }
      },
      "cell_type": "code",
      "source": [
        "TrainXcol"
      ],
      "execution_count": 224,
      "outputs": [
        {
          "output_type": "execute_result",
          "data": {
            "text/plain": [
              "Index(['total_links', 'no_of_images', 'is_open_0', 'is_open_1',\n",
              "       'communication_type_Conference', 'communication_type_Corporate',\n",
              "       'communication_type_Hackathon', 'communication_type_Newsletter',\n",
              "       'communication_type_Others', 'communication_type_Upcoming Events',\n",
              "       'communication_type_Webinar'],\n",
              "      dtype='object')"
            ]
          },
          "metadata": {
            "tags": []
          },
          "execution_count": 224
        }
      ]
    },
    {
      "metadata": {
        "id": "TeYyA5ZqXjxa",
        "colab_type": "code",
        "colab": {
          "autoexec": {
            "startup": false,
            "wait_interval": 0
          },
          "output_extras": [
            {
              "item_id": 1
            }
          ],
          "base_uri": "https://localhost:8080/",
          "height": 85
        },
        "outputId": "cbfa71d6-2860-44cc-da09-c38350a80fe7",
        "executionInfo": {
          "status": "ok",
          "timestamp": 1522337395783,
          "user_tz": -330,
          "elapsed": 2198,
          "user": {
            "displayName": "Pujya Shri",
            "photoUrl": "//lh6.googleusercontent.com/-iciFMuB7JtY/AAAAAAAAAAI/AAAAAAAAAGU/Cps-5eWtYmQ/s50-c-k-no/photo.jpg",
            "userId": "106502613669313135092"
          }
        }
      },
      "cell_type": "code",
      "source": [
        "TestXcol"
      ],
      "execution_count": 231,
      "outputs": [
        {
          "output_type": "execute_result",
          "data": {
            "text/plain": [
              "Index(['total_links', 'no_of_images', 'is_open_0', 'is_open_1',\n",
              "       'communication_type_Corporate', 'communication_type_Hackathon',\n",
              "       'communication_type_Newsletter', 'communication_type_Upcoming Events'],\n",
              "      dtype='object')"
            ]
          },
          "metadata": {
            "tags": []
          },
          "execution_count": 231
        }
      ]
    },
    {
      "metadata": {
        "id": "yimh9GI2EuPZ",
        "colab_type": "code",
        "colab": {
          "autoexec": {
            "startup": false,
            "wait_interval": 0
          },
          "output_extras": [
            {
              "item_id": 1
            }
          ],
          "base_uri": "https://localhost:8080/",
          "height": 68
        },
        "outputId": "9ffea6e4-66f8-43ec-facd-504871c99760",
        "executionInfo": {
          "status": "ok",
          "timestamp": 1522337349088,
          "user_tz": -330,
          "elapsed": 926,
          "user": {
            "displayName": "Pujya Shri",
            "photoUrl": "//lh6.googleusercontent.com/-iciFMuB7JtY/AAAAAAAAAAI/AAAAAAAAAGU/Cps-5eWtYmQ/s50-c-k-no/photo.jpg",
            "userId": "106502613669313135092"
          }
        }
      },
      "cell_type": "code",
      "source": [
        "for i in range(len(TrainXcol)):\n",
        "  f=0\n",
        "  for j in range(len(TestXcol)):\n",
        "    if TrainXcol[i]==TestXcol[j]:\n",
        "      f=1\n",
        "  if f==0:\n",
        "    print(TrainXcol[i])"
      ],
      "execution_count": 225,
      "outputs": [
        {
          "output_type": "stream",
          "text": [
            "communication_type_Conference\n",
            "communication_type_Others\n",
            "communication_type_Webinar\n"
          ],
          "name": "stdout"
        }
      ]
    },
    {
      "metadata": {
        "id": "hsifcJ1oE3SO",
        "colab_type": "code",
        "colab": {
          "autoexec": {
            "startup": false,
            "wait_interval": 0
          }
        }
      },
      "cell_type": "code",
      "source": [
        "Conference= np.zeros((773858,1))\n",
        "Others= np.zeros((773858,1))\n",
        "Webinar= np.zeros((773858,1))"
      ],
      "execution_count": 0,
      "outputs": []
    },
    {
      "metadata": {
        "id": "cDBajqxZFLzW",
        "colab_type": "code",
        "colab": {
          "autoexec": {
            "startup": false,
            "wait_interval": 0
          }
        }
      },
      "cell_type": "code",
      "source": [
        "X_test['communication_type_Conference']=Conference\n",
        "X_test['communication_type_Others']=Others\n",
        "X_test['communication_type_Webinar']=Webinar"
      ],
      "execution_count": 0,
      "outputs": []
    },
    {
      "metadata": {
        "id": "xQHTnnhJF2r0",
        "colab_type": "code",
        "colab": {
          "autoexec": {
            "startup": false,
            "wait_interval": 0
          },
          "output_extras": [
            {
              "item_id": 1
            }
          ],
          "base_uri": "https://localhost:8080/",
          "height": 241
        },
        "outputId": "59222d3a-b545-4a72-8396-a02edb8d71dc",
        "executionInfo": {
          "status": "ok",
          "timestamp": 1522337412695,
          "user_tz": -330,
          "elapsed": 1021,
          "user": {
            "displayName": "Pujya Shri",
            "photoUrl": "//lh6.googleusercontent.com/-iciFMuB7JtY/AAAAAAAAAAI/AAAAAAAAAGU/Cps-5eWtYmQ/s50-c-k-no/photo.jpg",
            "userId": "106502613669313135092"
          }
        }
      },
      "cell_type": "code",
      "source": [
        "X.head()"
      ],
      "execution_count": 233,
      "outputs": [
        {
          "output_type": "execute_result",
          "data": {
            "text/html": [
              "<div>\n",
              "<style scoped>\n",
              "    .dataframe tbody tr th:only-of-type {\n",
              "        vertical-align: middle;\n",
              "    }\n",
              "\n",
              "    .dataframe tbody tr th {\n",
              "        vertical-align: top;\n",
              "    }\n",
              "\n",
              "    .dataframe thead th {\n",
              "        text-align: right;\n",
              "    }\n",
              "</style>\n",
              "<table border=\"1\" class=\"dataframe\">\n",
              "  <thead>\n",
              "    <tr style=\"text-align: right;\">\n",
              "      <th></th>\n",
              "      <th>total_links</th>\n",
              "      <th>no_of_images</th>\n",
              "      <th>is_open_0</th>\n",
              "      <th>is_open_1</th>\n",
              "      <th>communication_type_Conference</th>\n",
              "      <th>communication_type_Corporate</th>\n",
              "      <th>communication_type_Hackathon</th>\n",
              "      <th>communication_type_Newsletter</th>\n",
              "      <th>communication_type_Others</th>\n",
              "      <th>communication_type_Upcoming Events</th>\n",
              "      <th>communication_type_Webinar</th>\n",
              "    </tr>\n",
              "  </thead>\n",
              "  <tbody>\n",
              "    <tr>\n",
              "      <th>23089</th>\n",
              "      <td>0.413265</td>\n",
              "      <td>0.666667</td>\n",
              "      <td>1</td>\n",
              "      <td>0</td>\n",
              "      <td>0</td>\n",
              "      <td>0</td>\n",
              "      <td>0</td>\n",
              "      <td>1</td>\n",
              "      <td>0</td>\n",
              "      <td>0</td>\n",
              "      <td>0</td>\n",
              "    </tr>\n",
              "    <tr>\n",
              "      <th>777530</th>\n",
              "      <td>0.030612</td>\n",
              "      <td>0.055556</td>\n",
              "      <td>1</td>\n",
              "      <td>0</td>\n",
              "      <td>1</td>\n",
              "      <td>0</td>\n",
              "      <td>0</td>\n",
              "      <td>0</td>\n",
              "      <td>0</td>\n",
              "      <td>0</td>\n",
              "      <td>0</td>\n",
              "    </tr>\n",
              "    <tr>\n",
              "      <th>649845</th>\n",
              "      <td>0.571429</td>\n",
              "      <td>0.833333</td>\n",
              "      <td>1</td>\n",
              "      <td>0</td>\n",
              "      <td>1</td>\n",
              "      <td>0</td>\n",
              "      <td>0</td>\n",
              "      <td>0</td>\n",
              "      <td>0</td>\n",
              "      <td>0</td>\n",
              "      <td>0</td>\n",
              "    </tr>\n",
              "    <tr>\n",
              "      <th>165758</th>\n",
              "      <td>0.000000</td>\n",
              "      <td>0.000000</td>\n",
              "      <td>1</td>\n",
              "      <td>0</td>\n",
              "      <td>0</td>\n",
              "      <td>0</td>\n",
              "      <td>0</td>\n",
              "      <td>0</td>\n",
              "      <td>1</td>\n",
              "      <td>0</td>\n",
              "      <td>0</td>\n",
              "    </tr>\n",
              "    <tr>\n",
              "      <th>415620</th>\n",
              "      <td>0.494898</td>\n",
              "      <td>0.666667</td>\n",
              "      <td>1</td>\n",
              "      <td>0</td>\n",
              "      <td>1</td>\n",
              "      <td>0</td>\n",
              "      <td>0</td>\n",
              "      <td>0</td>\n",
              "      <td>0</td>\n",
              "      <td>0</td>\n",
              "      <td>0</td>\n",
              "    </tr>\n",
              "  </tbody>\n",
              "</table>\n",
              "</div>"
            ],
            "text/plain": [
              "        total_links  no_of_images  is_open_0  is_open_1  \\\n",
              "23089      0.413265      0.666667          1          0   \n",
              "777530     0.030612      0.055556          1          0   \n",
              "649845     0.571429      0.833333          1          0   \n",
              "165758     0.000000      0.000000          1          0   \n",
              "415620     0.494898      0.666667          1          0   \n",
              "\n",
              "        communication_type_Conference  communication_type_Corporate  \\\n",
              "23089                               0                             0   \n",
              "777530                              1                             0   \n",
              "649845                              1                             0   \n",
              "165758                              0                             0   \n",
              "415620                              1                             0   \n",
              "\n",
              "        communication_type_Hackathon  communication_type_Newsletter  \\\n",
              "23089                              0                              1   \n",
              "777530                             0                              0   \n",
              "649845                             0                              0   \n",
              "165758                             0                              0   \n",
              "415620                             0                              0   \n",
              "\n",
              "        communication_type_Others  communication_type_Upcoming Events  \\\n",
              "23089                           0                                   0   \n",
              "777530                          0                                   0   \n",
              "649845                          0                                   0   \n",
              "165758                          1                                   0   \n",
              "415620                          0                                   0   \n",
              "\n",
              "        communication_type_Webinar  \n",
              "23089                            0  \n",
              "777530                           0  \n",
              "649845                           0  \n",
              "165758                           0  \n",
              "415620                           0  "
            ]
          },
          "metadata": {
            "tags": []
          },
          "execution_count": 233
        }
      ]
    },
    {
      "metadata": {
        "id": "UNr5nEFIGUZJ",
        "colab_type": "code",
        "colab": {
          "autoexec": {
            "startup": false,
            "wait_interval": 0
          }
        }
      },
      "cell_type": "code",
      "source": [
        "X_test = X_test[['total_links', 'no_of_images', 'is_open_0', 'is_open_1',\n",
        "       'communication_type_Conference', 'communication_type_Corporate',\n",
        "       'communication_type_Hackathon', 'communication_type_Newsletter',\n",
        "       'communication_type_Others', 'communication_type_Upcoming Events',\n",
        "       'communication_type_Webinar']]"
      ],
      "execution_count": 0,
      "outputs": []
    },
    {
      "metadata": {
        "id": "eZ8chx3gEUVr",
        "colab_type": "code",
        "colab": {
          "autoexec": {
            "startup": false,
            "wait_interval": 0
          },
          "output_extras": [
            {
              "item_id": 1
            }
          ],
          "base_uri": "https://localhost:8080/",
          "height": 241
        },
        "outputId": "ae3b2974-bd46-4ac3-e9c3-939a688aa1e4",
        "executionInfo": {
          "status": "ok",
          "timestamp": 1522337454284,
          "user_tz": -330,
          "elapsed": 979,
          "user": {
            "displayName": "Pujya Shri",
            "photoUrl": "//lh6.googleusercontent.com/-iciFMuB7JtY/AAAAAAAAAAI/AAAAAAAAAGU/Cps-5eWtYmQ/s50-c-k-no/photo.jpg",
            "userId": "106502613669313135092"
          }
        }
      },
      "cell_type": "code",
      "source": [
        "X_test.head()"
      ],
      "execution_count": 235,
      "outputs": [
        {
          "output_type": "execute_result",
          "data": {
            "text/html": [
              "<div>\n",
              "<style scoped>\n",
              "    .dataframe tbody tr th:only-of-type {\n",
              "        vertical-align: middle;\n",
              "    }\n",
              "\n",
              "    .dataframe tbody tr th {\n",
              "        vertical-align: top;\n",
              "    }\n",
              "\n",
              "    .dataframe thead th {\n",
              "        text-align: right;\n",
              "    }\n",
              "</style>\n",
              "<table border=\"1\" class=\"dataframe\">\n",
              "  <thead>\n",
              "    <tr style=\"text-align: right;\">\n",
              "      <th></th>\n",
              "      <th>total_links</th>\n",
              "      <th>no_of_images</th>\n",
              "      <th>is_open_0</th>\n",
              "      <th>is_open_1</th>\n",
              "      <th>communication_type_Conference</th>\n",
              "      <th>communication_type_Corporate</th>\n",
              "      <th>communication_type_Hackathon</th>\n",
              "      <th>communication_type_Newsletter</th>\n",
              "      <th>communication_type_Others</th>\n",
              "      <th>communication_type_Upcoming Events</th>\n",
              "      <th>communication_type_Webinar</th>\n",
              "    </tr>\n",
              "  </thead>\n",
              "  <tbody>\n",
              "    <tr>\n",
              "      <th>0</th>\n",
              "      <td>0.311224</td>\n",
              "      <td>0.777778</td>\n",
              "      <td>0</td>\n",
              "      <td>1</td>\n",
              "      <td>0.0</td>\n",
              "      <td>0</td>\n",
              "      <td>0</td>\n",
              "      <td>1</td>\n",
              "      <td>0.0</td>\n",
              "      <td>0</td>\n",
              "      <td>0.0</td>\n",
              "    </tr>\n",
              "    <tr>\n",
              "      <th>1</th>\n",
              "      <td>0.178571</td>\n",
              "      <td>0.500000</td>\n",
              "      <td>0</td>\n",
              "      <td>1</td>\n",
              "      <td>0.0</td>\n",
              "      <td>0</td>\n",
              "      <td>0</td>\n",
              "      <td>1</td>\n",
              "      <td>0.0</td>\n",
              "      <td>0</td>\n",
              "      <td>0.0</td>\n",
              "    </tr>\n",
              "    <tr>\n",
              "      <th>2</th>\n",
              "      <td>0.168367</td>\n",
              "      <td>0.777778</td>\n",
              "      <td>0</td>\n",
              "      <td>1</td>\n",
              "      <td>0.0</td>\n",
              "      <td>0</td>\n",
              "      <td>0</td>\n",
              "      <td>0</td>\n",
              "      <td>0.0</td>\n",
              "      <td>1</td>\n",
              "      <td>0.0</td>\n",
              "    </tr>\n",
              "    <tr>\n",
              "      <th>3</th>\n",
              "      <td>0.178571</td>\n",
              "      <td>0.500000</td>\n",
              "      <td>0</td>\n",
              "      <td>1</td>\n",
              "      <td>0.0</td>\n",
              "      <td>0</td>\n",
              "      <td>0</td>\n",
              "      <td>1</td>\n",
              "      <td>0.0</td>\n",
              "      <td>0</td>\n",
              "      <td>0.0</td>\n",
              "    </tr>\n",
              "    <tr>\n",
              "      <th>4</th>\n",
              "      <td>0.178571</td>\n",
              "      <td>0.500000</td>\n",
              "      <td>0</td>\n",
              "      <td>1</td>\n",
              "      <td>0.0</td>\n",
              "      <td>0</td>\n",
              "      <td>0</td>\n",
              "      <td>1</td>\n",
              "      <td>0.0</td>\n",
              "      <td>0</td>\n",
              "      <td>0.0</td>\n",
              "    </tr>\n",
              "  </tbody>\n",
              "</table>\n",
              "</div>"
            ],
            "text/plain": [
              "   total_links  no_of_images  is_open_0  is_open_1  \\\n",
              "0     0.311224      0.777778          0          1   \n",
              "1     0.178571      0.500000          0          1   \n",
              "2     0.168367      0.777778          0          1   \n",
              "3     0.178571      0.500000          0          1   \n",
              "4     0.178571      0.500000          0          1   \n",
              "\n",
              "   communication_type_Conference  communication_type_Corporate  \\\n",
              "0                            0.0                             0   \n",
              "1                            0.0                             0   \n",
              "2                            0.0                             0   \n",
              "3                            0.0                             0   \n",
              "4                            0.0                             0   \n",
              "\n",
              "   communication_type_Hackathon  communication_type_Newsletter  \\\n",
              "0                             0                              1   \n",
              "1                             0                              1   \n",
              "2                             0                              0   \n",
              "3                             0                              1   \n",
              "4                             0                              1   \n",
              "\n",
              "   communication_type_Others  communication_type_Upcoming Events  \\\n",
              "0                        0.0                                   0   \n",
              "1                        0.0                                   0   \n",
              "2                        0.0                                   1   \n",
              "3                        0.0                                   0   \n",
              "4                        0.0                                   0   \n",
              "\n",
              "   communication_type_Webinar  \n",
              "0                         0.0  \n",
              "1                         0.0  \n",
              "2                         0.0  \n",
              "3                         0.0  \n",
              "4                         0.0  "
            ]
          },
          "metadata": {
            "tags": []
          },
          "execution_count": 235
        }
      ]
    },
    {
      "metadata": {
        "id": "mfNCVGQ1pegX",
        "colab_type": "code",
        "colab": {
          "autoexec": {
            "startup": false,
            "wait_interval": 0
          }
        }
      },
      "cell_type": "code",
      "source": [
        "y_pred=rf_classifier.predict(X_test)"
      ],
      "execution_count": 0,
      "outputs": []
    },
    {
      "metadata": {
        "id": "xN9-0psrpq6G",
        "colab_type": "code",
        "colab": {
          "autoexec": {
            "startup": false,
            "wait_interval": 0
          },
          "output_extras": [
            {
              "item_id": 1
            }
          ],
          "base_uri": "https://localhost:8080/",
          "height": 34
        },
        "outputId": "2845c25e-db6a-485c-b1ab-cadf85e6b103",
        "executionInfo": {
          "status": "ok",
          "timestamp": 1522337477247,
          "user_tz": -330,
          "elapsed": 1765,
          "user": {
            "displayName": "Pujya Shri",
            "photoUrl": "//lh6.googleusercontent.com/-iciFMuB7JtY/AAAAAAAAAAI/AAAAAAAAAGU/Cps-5eWtYmQ/s50-c-k-no/photo.jpg",
            "userId": "106502613669313135092"
          }
        }
      },
      "cell_type": "code",
      "source": [
        "np.count_nonzero(y_pred)"
      ],
      "execution_count": 237,
      "outputs": [
        {
          "output_type": "execute_result",
          "data": {
            "text/plain": [
              "664996"
            ]
          },
          "metadata": {
            "tags": []
          },
          "execution_count": 237
        }
      ]
    },
    {
      "metadata": {
        "id": "DdgRPBk7pxfG",
        "colab_type": "text"
      },
      "cell_type": "markdown",
      "source": [
        "# Saving file"
      ]
    },
    {
      "metadata": {
        "id": "A8hqmcpVpq0E",
        "colab_type": "code",
        "colab": {
          "autoexec": {
            "startup": false,
            "wait_interval": 0
          }
        }
      },
      "cell_type": "code",
      "source": [
        "#Saving the file\n",
        "result=pd.read_csv('sample.csv')\n",
        "result['is_click']=y_pred"
      ],
      "execution_count": 0,
      "outputs": []
    },
    {
      "metadata": {
        "id": "cdibme4EpqvT",
        "colab_type": "code",
        "colab": {
          "autoexec": {
            "startup": false,
            "wait_interval": 0
          }
        }
      },
      "cell_type": "code",
      "source": [
        "result.to_csv('rf_withOpen.csv',index=False)"
      ],
      "execution_count": 0,
      "outputs": []
    },
    {
      "metadata": {
        "id": "omGp4eZ9qC_9",
        "colab_type": "code",
        "colab": {
          "autoexec": {
            "startup": false,
            "wait_interval": 0
          }
        }
      },
      "cell_type": "code",
      "source": [
        "files.download('rf_withOpen.csv')"
      ],
      "execution_count": 0,
      "outputs": []
    },
    {
      "metadata": {
        "id": "qzOtuGluqC7j",
        "colab_type": "code",
        "colab": {
          "autoexec": {
            "startup": false,
            "wait_interval": 0
          }
        }
      },
      "cell_type": "code",
      "source": [
        ""
      ],
      "execution_count": 0,
      "outputs": []
    }
  ]
}